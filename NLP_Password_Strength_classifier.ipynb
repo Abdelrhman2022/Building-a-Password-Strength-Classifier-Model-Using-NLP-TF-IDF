{
  "cells": [
    {
      "cell_type": "markdown",
      "metadata": {
        "id": "view-in-github",
        "colab_type": "text"
      },
      "source": [
        "<a href=\"https://colab.research.google.com/github/Abdelrhman2022/Password-Strength-Classifier-Model-Using-NLP-TF-IDF/blob/main/NLP_Password_Strength_classifier.ipynb\" target=\"_parent\"><img src=\"https://colab.research.google.com/assets/colab-badge.svg\" alt=\"Open In Colab\"/></a>"
      ]
    },
    {
      "cell_type": "code",
      "execution_count": 1,
      "metadata": {
        "colab": {
          "base_uri": "https://localhost:8080/"
        },
        "id": "eR_TsGq4dm8x",
        "outputId": "d2940d47-0a51-4cb3-bf0f-86b2668b5395"
      },
      "outputs": [
        {
          "output_type": "stream",
          "name": "stdout",
          "text": [
            "Mounted at /content/drive\n"
          ]
        }
      ],
      "source": [
        "from google.colab import drive\n",
        "drive.mount('/content/drive')"
      ]
    },
    {
      "cell_type": "code",
      "execution_count": 2,
      "metadata": {
        "id": "g5M_TFY5cCby"
      },
      "outputs": [],
      "source": [
        "import pandas as pd\n",
        "import numpy as np\n",
        "import seaborn as sns\n",
        "import warnings\n",
        "warnings.filterwarnings('ignore')"
      ]
    },
    {
      "cell_type": "markdown",
      "metadata": {
        "id": "glckCf0RcCb0"
      },
      "source": [
        "#### REading dataset"
      ]
    },
    {
      "cell_type": "code",
      "execution_count": 3,
      "metadata": {
        "colab": {
          "base_uri": "https://localhost:8080/",
          "height": 278
        },
        "id": "kN4G3htpcCb1",
        "outputId": "2f3945e0-fd65-401d-810d-b7bcdf49dc3d"
      },
      "outputs": [
        {
          "output_type": "stream",
          "name": "stderr",
          "text": [
            "b'Skipping line 2810: expected 2 fields, saw 5\\nSkipping line 4641: expected 2 fields, saw 5\\nSkipping line 7171: expected 2 fields, saw 5\\nSkipping line 11220: expected 2 fields, saw 5\\nSkipping line 13809: expected 2 fields, saw 5\\nSkipping line 14132: expected 2 fields, saw 5\\nSkipping line 14293: expected 2 fields, saw 5\\nSkipping line 14865: expected 2 fields, saw 5\\nSkipping line 17419: expected 2 fields, saw 5\\nSkipping line 22801: expected 2 fields, saw 5\\nSkipping line 25001: expected 2 fields, saw 5\\nSkipping line 26603: expected 2 fields, saw 5\\nSkipping line 26742: expected 2 fields, saw 5\\nSkipping line 29702: expected 2 fields, saw 5\\nSkipping line 32767: expected 2 fields, saw 5\\nSkipping line 32878: expected 2 fields, saw 5\\nSkipping line 35643: expected 2 fields, saw 5\\nSkipping line 36550: expected 2 fields, saw 5\\nSkipping line 38732: expected 2 fields, saw 5\\nSkipping line 40567: expected 2 fields, saw 5\\nSkipping line 40576: expected 2 fields, saw 5\\nSkipping line 41864: expected 2 fields, saw 5\\nSkipping line 46861: expected 2 fields, saw 5\\nSkipping line 47939: expected 2 fields, saw 5\\nSkipping line 48628: expected 2 fields, saw 5\\nSkipping line 48908: expected 2 fields, saw 5\\nSkipping line 57582: expected 2 fields, saw 5\\nSkipping line 58782: expected 2 fields, saw 5\\nSkipping line 58984: expected 2 fields, saw 5\\nSkipping line 61518: expected 2 fields, saw 5\\nSkipping line 63451: expected 2 fields, saw 5\\nSkipping line 68141: expected 2 fields, saw 5\\nSkipping line 72083: expected 2 fields, saw 5\\nSkipping line 74027: expected 2 fields, saw 5\\nSkipping line 77811: expected 2 fields, saw 5\\nSkipping line 83958: expected 2 fields, saw 5\\nSkipping line 85295: expected 2 fields, saw 5\\nSkipping line 88665: expected 2 fields, saw 5\\nSkipping line 89198: expected 2 fields, saw 5\\nSkipping line 92499: expected 2 fields, saw 5\\nSkipping line 92751: expected 2 fields, saw 5\\nSkipping line 93689: expected 2 fields, saw 5\\nSkipping line 94776: expected 2 fields, saw 5\\nSkipping line 97334: expected 2 fields, saw 5\\nSkipping line 102316: expected 2 fields, saw 5\\nSkipping line 103421: expected 2 fields, saw 5\\nSkipping line 106872: expected 2 fields, saw 5\\nSkipping line 109363: expected 2 fields, saw 5\\nSkipping line 110117: expected 2 fields, saw 5\\nSkipping line 110465: expected 2 fields, saw 5\\nSkipping line 113843: expected 2 fields, saw 5\\nSkipping line 115634: expected 2 fields, saw 5\\nSkipping line 121518: expected 2 fields, saw 5\\nSkipping line 123692: expected 2 fields, saw 5\\nSkipping line 124708: expected 2 fields, saw 5\\nSkipping line 129608: expected 2 fields, saw 5\\nSkipping line 133176: expected 2 fields, saw 5\\nSkipping line 135532: expected 2 fields, saw 5\\nSkipping line 138042: expected 2 fields, saw 5\\nSkipping line 139485: expected 2 fields, saw 5\\nSkipping line 140401: expected 2 fields, saw 5\\nSkipping line 144093: expected 2 fields, saw 5\\nSkipping line 149850: expected 2 fields, saw 5\\nSkipping line 151831: expected 2 fields, saw 5\\nSkipping line 158014: expected 2 fields, saw 5\\nSkipping line 162047: expected 2 fields, saw 5\\nSkipping line 164515: expected 2 fields, saw 5\\nSkipping line 170313: expected 2 fields, saw 5\\nSkipping line 171325: expected 2 fields, saw 5\\nSkipping line 171424: expected 2 fields, saw 5\\nSkipping line 175920: expected 2 fields, saw 5\\nSkipping line 176210: expected 2 fields, saw 5\\nSkipping line 183603: expected 2 fields, saw 5\\nSkipping line 190264: expected 2 fields, saw 5\\nSkipping line 191683: expected 2 fields, saw 5\\nSkipping line 191988: expected 2 fields, saw 5\\nSkipping line 195450: expected 2 fields, saw 5\\nSkipping line 195754: expected 2 fields, saw 5\\nSkipping line 197124: expected 2 fields, saw 5\\nSkipping line 199263: expected 2 fields, saw 5\\nSkipping line 202603: expected 2 fields, saw 5\\nSkipping line 209960: expected 2 fields, saw 5\\nSkipping line 213218: expected 2 fields, saw 5\\nSkipping line 217060: expected 2 fields, saw 5\\nSkipping line 220121: expected 2 fields, saw 5\\nSkipping line 223518: expected 2 fields, saw 5\\nSkipping line 226293: expected 2 fields, saw 5\\nSkipping line 227035: expected 2 fields, saw 7\\nSkipping line 227341: expected 2 fields, saw 5\\nSkipping line 227808: expected 2 fields, saw 5\\nSkipping line 228516: expected 2 fields, saw 5\\nSkipping line 228733: expected 2 fields, saw 5\\nSkipping line 232043: expected 2 fields, saw 5\\nSkipping line 232426: expected 2 fields, saw 5\\nSkipping line 234490: expected 2 fields, saw 5\\nSkipping line 239626: expected 2 fields, saw 5\\nSkipping line 240461: expected 2 fields, saw 5\\nSkipping line 244518: expected 2 fields, saw 5\\nSkipping line 245395: expected 2 fields, saw 5\\nSkipping line 246168: expected 2 fields, saw 5\\nSkipping line 246655: expected 2 fields, saw 5\\nSkipping line 246752: expected 2 fields, saw 5\\nSkipping line 247189: expected 2 fields, saw 5\\nSkipping line 250276: expected 2 fields, saw 5\\nSkipping line 255327: expected 2 fields, saw 5\\nSkipping line 257094: expected 2 fields, saw 5\\n'\n",
            "b'Skipping line 264626: expected 2 fields, saw 5\\nSkipping line 265028: expected 2 fields, saw 5\\nSkipping line 269150: expected 2 fields, saw 5\\nSkipping line 271360: expected 2 fields, saw 5\\nSkipping line 273975: expected 2 fields, saw 5\\nSkipping line 274742: expected 2 fields, saw 5\\nSkipping line 276227: expected 2 fields, saw 5\\nSkipping line 279807: expected 2 fields, saw 5\\nSkipping line 283425: expected 2 fields, saw 5\\nSkipping line 287468: expected 2 fields, saw 5\\nSkipping line 292995: expected 2 fields, saw 5\\nSkipping line 293496: expected 2 fields, saw 5\\nSkipping line 293735: expected 2 fields, saw 5\\nSkipping line 295060: expected 2 fields, saw 5\\nSkipping line 296643: expected 2 fields, saw 5\\nSkipping line 296848: expected 2 fields, saw 5\\nSkipping line 308926: expected 2 fields, saw 5\\nSkipping line 310360: expected 2 fields, saw 5\\nSkipping line 317004: expected 2 fields, saw 5\\nSkipping line 318207: expected 2 fields, saw 5\\nSkipping line 331783: expected 2 fields, saw 5\\nSkipping line 333864: expected 2 fields, saw 5\\nSkipping line 335958: expected 2 fields, saw 5\\nSkipping line 336290: expected 2 fields, saw 5\\nSkipping line 343526: expected 2 fields, saw 5\\nSkipping line 343857: expected 2 fields, saw 5\\nSkipping line 344059: expected 2 fields, saw 5\\nSkipping line 348691: expected 2 fields, saw 5\\nSkipping line 353446: expected 2 fields, saw 5\\nSkipping line 357073: expected 2 fields, saw 5\\nSkipping line 359753: expected 2 fields, saw 5\\nSkipping line 359974: expected 2 fields, saw 5\\nSkipping line 366534: expected 2 fields, saw 5\\nSkipping line 369514: expected 2 fields, saw 5\\nSkipping line 377759: expected 2 fields, saw 5\\nSkipping line 379327: expected 2 fields, saw 5\\nSkipping line 380769: expected 2 fields, saw 5\\nSkipping line 381073: expected 2 fields, saw 5\\nSkipping line 381489: expected 2 fields, saw 5\\nSkipping line 386304: expected 2 fields, saw 5\\nSkipping line 387635: expected 2 fields, saw 5\\nSkipping line 389613: expected 2 fields, saw 5\\nSkipping line 392604: expected 2 fields, saw 5\\nSkipping line 393184: expected 2 fields, saw 5\\nSkipping line 395530: expected 2 fields, saw 5\\nSkipping line 396939: expected 2 fields, saw 5\\nSkipping line 397385: expected 2 fields, saw 5\\nSkipping line 397509: expected 2 fields, saw 5\\nSkipping line 402902: expected 2 fields, saw 5\\nSkipping line 405187: expected 2 fields, saw 5\\nSkipping line 408412: expected 2 fields, saw 5\\nSkipping line 419423: expected 2 fields, saw 5\\nSkipping line 420962: expected 2 fields, saw 5\\nSkipping line 425965: expected 2 fields, saw 5\\nSkipping line 427496: expected 2 fields, saw 5\\nSkipping line 438881: expected 2 fields, saw 5\\nSkipping line 439776: expected 2 fields, saw 5\\nSkipping line 440345: expected 2 fields, saw 5\\nSkipping line 445507: expected 2 fields, saw 5\\nSkipping line 445548: expected 2 fields, saw 5\\nSkipping line 447184: expected 2 fields, saw 5\\nSkipping line 448603: expected 2 fields, saw 5\\nSkipping line 451732: expected 2 fields, saw 5\\nSkipping line 458249: expected 2 fields, saw 5\\nSkipping line 460274: expected 2 fields, saw 5\\nSkipping line 467630: expected 2 fields, saw 5\\nSkipping line 473961: expected 2 fields, saw 5\\nSkipping line 476281: expected 2 fields, saw 5\\nSkipping line 478010: expected 2 fields, saw 5\\nSkipping line 478322: expected 2 fields, saw 5\\nSkipping line 479999: expected 2 fields, saw 5\\nSkipping line 480898: expected 2 fields, saw 5\\nSkipping line 481688: expected 2 fields, saw 5\\nSkipping line 485193: expected 2 fields, saw 5\\nSkipping line 485519: expected 2 fields, saw 5\\nSkipping line 486000: expected 2 fields, saw 5\\nSkipping line 489063: expected 2 fields, saw 5\\nSkipping line 494525: expected 2 fields, saw 5\\nSkipping line 495009: expected 2 fields, saw 5\\nSkipping line 501954: expected 2 fields, saw 5\\nSkipping line 508035: expected 2 fields, saw 5\\nSkipping line 508828: expected 2 fields, saw 5\\nSkipping line 509833: expected 2 fields, saw 5\\nSkipping line 510410: expected 2 fields, saw 5\\nSkipping line 518229: expected 2 fields, saw 5\\nSkipping line 520302: expected 2 fields, saw 5\\nSkipping line 520340: expected 2 fields, saw 5\\n'\n",
            "b'Skipping line 525174: expected 2 fields, saw 5\\nSkipping line 526251: expected 2 fields, saw 5\\nSkipping line 529611: expected 2 fields, saw 5\\nSkipping line 531398: expected 2 fields, saw 5\\nSkipping line 534146: expected 2 fields, saw 5\\nSkipping line 544954: expected 2 fields, saw 5\\nSkipping line 553002: expected 2 fields, saw 5\\nSkipping line 553883: expected 2 fields, saw 5\\nSkipping line 553887: expected 2 fields, saw 5\\nSkipping line 553915: expected 2 fields, saw 5\\nSkipping line 554172: expected 2 fields, saw 5\\nSkipping line 563534: expected 2 fields, saw 5\\nSkipping line 565191: expected 2 fields, saw 5\\nSkipping line 574108: expected 2 fields, saw 5\\nSkipping line 574412: expected 2 fields, saw 5\\nSkipping line 575985: expected 2 fields, saw 5\\nSkipping line 580091: expected 2 fields, saw 5\\nSkipping line 582682: expected 2 fields, saw 5\\nSkipping line 585885: expected 2 fields, saw 5\\nSkipping line 590171: expected 2 fields, saw 5\\nSkipping line 591924: expected 2 fields, saw 5\\nSkipping line 592515: expected 2 fields, saw 5\\nSkipping line 593888: expected 2 fields, saw 5\\nSkipping line 596245: expected 2 fields, saw 5\\nSkipping line 607344: expected 2 fields, saw 5\\nSkipping line 607633: expected 2 fields, saw 5\\nSkipping line 610939: expected 2 fields, saw 5\\nSkipping line 613638: expected 2 fields, saw 5\\nSkipping line 615643: expected 2 fields, saw 5\\nSkipping line 615901: expected 2 fields, saw 5\\nSkipping line 617389: expected 2 fields, saw 5\\nSkipping line 634641: expected 2 fields, saw 5\\nSkipping line 635755: expected 2 fields, saw 5\\nSkipping line 646243: expected 2 fields, saw 5\\nSkipping line 647165: expected 2 fields, saw 5\\nSkipping line 648610: expected 2 fields, saw 5\\nSkipping line 648772: expected 2 fields, saw 5\\nSkipping line 651833: expected 2 fields, saw 5\\nSkipping line 653663: expected 2 fields, saw 5\\nSkipping line 656233: expected 2 fields, saw 5\\nSkipping line 656694: expected 2 fields, saw 5\\nSkipping line 659783: expected 2 fields, saw 5\\nSkipping line 660478: expected 2 fields, saw 5\\nSkipping line 661133: expected 2 fields, saw 5\\nSkipping line 661736: expected 2 fields, saw 5\\nSkipping line 669827: expected 2 fields, saw 5\\n'\n"
          ]
        },
        {
          "output_type": "execute_result",
          "data": {
            "text/plain": [
              "      password  strength\n",
              "0     kzde5577         1\n",
              "1     kino3434         1\n",
              "2    visi7k1yr         1\n",
              "3     megzy123         1\n",
              "4  lamborghin1         1"
            ],
            "text/html": [
              "\n",
              "  <div id=\"df-c590be4a-0fbf-4879-adab-7605be31aba3\">\n",
              "    <div class=\"colab-df-container\">\n",
              "      <div>\n",
              "<style scoped>\n",
              "    .dataframe tbody tr th:only-of-type {\n",
              "        vertical-align: middle;\n",
              "    }\n",
              "\n",
              "    .dataframe tbody tr th {\n",
              "        vertical-align: top;\n",
              "    }\n",
              "\n",
              "    .dataframe thead th {\n",
              "        text-align: right;\n",
              "    }\n",
              "</style>\n",
              "<table border=\"1\" class=\"dataframe\">\n",
              "  <thead>\n",
              "    <tr style=\"text-align: right;\">\n",
              "      <th></th>\n",
              "      <th>password</th>\n",
              "      <th>strength</th>\n",
              "    </tr>\n",
              "  </thead>\n",
              "  <tbody>\n",
              "    <tr>\n",
              "      <th>0</th>\n",
              "      <td>kzde5577</td>\n",
              "      <td>1</td>\n",
              "    </tr>\n",
              "    <tr>\n",
              "      <th>1</th>\n",
              "      <td>kino3434</td>\n",
              "      <td>1</td>\n",
              "    </tr>\n",
              "    <tr>\n",
              "      <th>2</th>\n",
              "      <td>visi7k1yr</td>\n",
              "      <td>1</td>\n",
              "    </tr>\n",
              "    <tr>\n",
              "      <th>3</th>\n",
              "      <td>megzy123</td>\n",
              "      <td>1</td>\n",
              "    </tr>\n",
              "    <tr>\n",
              "      <th>4</th>\n",
              "      <td>lamborghin1</td>\n",
              "      <td>1</td>\n",
              "    </tr>\n",
              "  </tbody>\n",
              "</table>\n",
              "</div>\n",
              "      <button class=\"colab-df-convert\" onclick=\"convertToInteractive('df-c590be4a-0fbf-4879-adab-7605be31aba3')\"\n",
              "              title=\"Convert this dataframe to an interactive table.\"\n",
              "              style=\"display:none;\">\n",
              "        \n",
              "  <svg xmlns=\"http://www.w3.org/2000/svg\" height=\"24px\"viewBox=\"0 0 24 24\"\n",
              "       width=\"24px\">\n",
              "    <path d=\"M0 0h24v24H0V0z\" fill=\"none\"/>\n",
              "    <path d=\"M18.56 5.44l.94 2.06.94-2.06 2.06-.94-2.06-.94-.94-2.06-.94 2.06-2.06.94zm-11 1L8.5 8.5l.94-2.06 2.06-.94-2.06-.94L8.5 2.5l-.94 2.06-2.06.94zm10 10l.94 2.06.94-2.06 2.06-.94-2.06-.94-.94-2.06-.94 2.06-2.06.94z\"/><path d=\"M17.41 7.96l-1.37-1.37c-.4-.4-.92-.59-1.43-.59-.52 0-1.04.2-1.43.59L10.3 9.45l-7.72 7.72c-.78.78-.78 2.05 0 2.83L4 21.41c.39.39.9.59 1.41.59.51 0 1.02-.2 1.41-.59l7.78-7.78 2.81-2.81c.8-.78.8-2.07 0-2.86zM5.41 20L4 18.59l7.72-7.72 1.47 1.35L5.41 20z\"/>\n",
              "  </svg>\n",
              "      </button>\n",
              "      \n",
              "  <style>\n",
              "    .colab-df-container {\n",
              "      display:flex;\n",
              "      flex-wrap:wrap;\n",
              "      gap: 12px;\n",
              "    }\n",
              "\n",
              "    .colab-df-convert {\n",
              "      background-color: #E8F0FE;\n",
              "      border: none;\n",
              "      border-radius: 50%;\n",
              "      cursor: pointer;\n",
              "      display: none;\n",
              "      fill: #1967D2;\n",
              "      height: 32px;\n",
              "      padding: 0 0 0 0;\n",
              "      width: 32px;\n",
              "    }\n",
              "\n",
              "    .colab-df-convert:hover {\n",
              "      background-color: #E2EBFA;\n",
              "      box-shadow: 0px 1px 2px rgba(60, 64, 67, 0.3), 0px 1px 3px 1px rgba(60, 64, 67, 0.15);\n",
              "      fill: #174EA6;\n",
              "    }\n",
              "\n",
              "    [theme=dark] .colab-df-convert {\n",
              "      background-color: #3B4455;\n",
              "      fill: #D2E3FC;\n",
              "    }\n",
              "\n",
              "    [theme=dark] .colab-df-convert:hover {\n",
              "      background-color: #434B5C;\n",
              "      box-shadow: 0px 1px 3px 1px rgba(0, 0, 0, 0.15);\n",
              "      filter: drop-shadow(0px 1px 2px rgba(0, 0, 0, 0.3));\n",
              "      fill: #FFFFFF;\n",
              "    }\n",
              "  </style>\n",
              "\n",
              "      <script>\n",
              "        const buttonEl =\n",
              "          document.querySelector('#df-c590be4a-0fbf-4879-adab-7605be31aba3 button.colab-df-convert');\n",
              "        buttonEl.style.display =\n",
              "          google.colab.kernel.accessAllowed ? 'block' : 'none';\n",
              "\n",
              "        async function convertToInteractive(key) {\n",
              "          const element = document.querySelector('#df-c590be4a-0fbf-4879-adab-7605be31aba3');\n",
              "          const dataTable =\n",
              "            await google.colab.kernel.invokeFunction('convertToInteractive',\n",
              "                                                     [key], {});\n",
              "          if (!dataTable) return;\n",
              "\n",
              "          const docLinkHtml = 'Like what you see? Visit the ' +\n",
              "            '<a target=\"_blank\" href=https://colab.research.google.com/notebooks/data_table.ipynb>data table notebook</a>'\n",
              "            + ' to learn more about interactive tables.';\n",
              "          element.innerHTML = '';\n",
              "          dataTable['output_type'] = 'display_data';\n",
              "          await google.colab.output.renderOutput(dataTable, element);\n",
              "          const docLink = document.createElement('div');\n",
              "          docLink.innerHTML = docLinkHtml;\n",
              "          element.appendChild(docLink);\n",
              "        }\n",
              "      </script>\n",
              "    </div>\n",
              "  </div>\n",
              "  "
            ]
          },
          "metadata": {},
          "execution_count": 3
        }
      ],
      "source": [
        "data=pd.read_csv('/content/drive/MyDrive/NLP_Password_Strength_classifier/data.csv',error_bad_lines=False)\n",
        "data.head()"
      ]
    },
    {
      "cell_type": "code",
      "execution_count": 4,
      "metadata": {
        "colab": {
          "base_uri": "https://localhost:8080/"
        },
        "id": "zzTZLXn4cCb2",
        "outputId": "7dee643c-3c57-4945-9336-c57c2f9a5886"
      },
      "outputs": [
        {
          "output_type": "execute_result",
          "data": {
            "text/plain": [
              "array([1, 2, 0])"
            ]
          },
          "metadata": {},
          "execution_count": 4
        }
      ],
      "source": [
        "data['strength'].unique()\n"
      ]
    },
    {
      "cell_type": "markdown",
      "metadata": {
        "id": "9H8GU6L6cCb2"
      },
      "source": [
        "#### code to check all the missing values in my dataset"
      ]
    },
    {
      "cell_type": "code",
      "execution_count": 5,
      "metadata": {
        "colab": {
          "base_uri": "https://localhost:8080/"
        },
        "id": "qX26liDAcCb2",
        "outputId": "5824ec00-a29e-430c-bfca-cf718fcf8485"
      },
      "outputs": [
        {
          "output_type": "execute_result",
          "data": {
            "text/plain": [
              "password    1\n",
              "strength    0\n",
              "dtype: int64"
            ]
          },
          "metadata": {},
          "execution_count": 5
        }
      ],
      "source": [
        "data.isna().sum()"
      ]
    },
    {
      "cell_type": "code",
      "execution_count": 6,
      "metadata": {
        "colab": {
          "base_uri": "https://localhost:8080/",
          "height": 81
        },
        "id": "o4Zwqm0QcCb3",
        "outputId": "8fa7369e-9c47-404a-82ba-b9b15ef12d53"
      },
      "outputs": [
        {
          "output_type": "execute_result",
          "data": {
            "text/plain": [
              "       password  strength\n",
              "367579      NaN         0"
            ],
            "text/html": [
              "\n",
              "  <div id=\"df-c7360c2b-54cb-4ee0-9ce8-310631e2f4b2\">\n",
              "    <div class=\"colab-df-container\">\n",
              "      <div>\n",
              "<style scoped>\n",
              "    .dataframe tbody tr th:only-of-type {\n",
              "        vertical-align: middle;\n",
              "    }\n",
              "\n",
              "    .dataframe tbody tr th {\n",
              "        vertical-align: top;\n",
              "    }\n",
              "\n",
              "    .dataframe thead th {\n",
              "        text-align: right;\n",
              "    }\n",
              "</style>\n",
              "<table border=\"1\" class=\"dataframe\">\n",
              "  <thead>\n",
              "    <tr style=\"text-align: right;\">\n",
              "      <th></th>\n",
              "      <th>password</th>\n",
              "      <th>strength</th>\n",
              "    </tr>\n",
              "  </thead>\n",
              "  <tbody>\n",
              "    <tr>\n",
              "      <th>367579</th>\n",
              "      <td>NaN</td>\n",
              "      <td>0</td>\n",
              "    </tr>\n",
              "  </tbody>\n",
              "</table>\n",
              "</div>\n",
              "      <button class=\"colab-df-convert\" onclick=\"convertToInteractive('df-c7360c2b-54cb-4ee0-9ce8-310631e2f4b2')\"\n",
              "              title=\"Convert this dataframe to an interactive table.\"\n",
              "              style=\"display:none;\">\n",
              "        \n",
              "  <svg xmlns=\"http://www.w3.org/2000/svg\" height=\"24px\"viewBox=\"0 0 24 24\"\n",
              "       width=\"24px\">\n",
              "    <path d=\"M0 0h24v24H0V0z\" fill=\"none\"/>\n",
              "    <path d=\"M18.56 5.44l.94 2.06.94-2.06 2.06-.94-2.06-.94-.94-2.06-.94 2.06-2.06.94zm-11 1L8.5 8.5l.94-2.06 2.06-.94-2.06-.94L8.5 2.5l-.94 2.06-2.06.94zm10 10l.94 2.06.94-2.06 2.06-.94-2.06-.94-.94-2.06-.94 2.06-2.06.94z\"/><path d=\"M17.41 7.96l-1.37-1.37c-.4-.4-.92-.59-1.43-.59-.52 0-1.04.2-1.43.59L10.3 9.45l-7.72 7.72c-.78.78-.78 2.05 0 2.83L4 21.41c.39.39.9.59 1.41.59.51 0 1.02-.2 1.41-.59l7.78-7.78 2.81-2.81c.8-.78.8-2.07 0-2.86zM5.41 20L4 18.59l7.72-7.72 1.47 1.35L5.41 20z\"/>\n",
              "  </svg>\n",
              "      </button>\n",
              "      \n",
              "  <style>\n",
              "    .colab-df-container {\n",
              "      display:flex;\n",
              "      flex-wrap:wrap;\n",
              "      gap: 12px;\n",
              "    }\n",
              "\n",
              "    .colab-df-convert {\n",
              "      background-color: #E8F0FE;\n",
              "      border: none;\n",
              "      border-radius: 50%;\n",
              "      cursor: pointer;\n",
              "      display: none;\n",
              "      fill: #1967D2;\n",
              "      height: 32px;\n",
              "      padding: 0 0 0 0;\n",
              "      width: 32px;\n",
              "    }\n",
              "\n",
              "    .colab-df-convert:hover {\n",
              "      background-color: #E2EBFA;\n",
              "      box-shadow: 0px 1px 2px rgba(60, 64, 67, 0.3), 0px 1px 3px 1px rgba(60, 64, 67, 0.15);\n",
              "      fill: #174EA6;\n",
              "    }\n",
              "\n",
              "    [theme=dark] .colab-df-convert {\n",
              "      background-color: #3B4455;\n",
              "      fill: #D2E3FC;\n",
              "    }\n",
              "\n",
              "    [theme=dark] .colab-df-convert:hover {\n",
              "      background-color: #434B5C;\n",
              "      box-shadow: 0px 1px 3px 1px rgba(0, 0, 0, 0.15);\n",
              "      filter: drop-shadow(0px 1px 2px rgba(0, 0, 0, 0.3));\n",
              "      fill: #FFFFFF;\n",
              "    }\n",
              "  </style>\n",
              "\n",
              "      <script>\n",
              "        const buttonEl =\n",
              "          document.querySelector('#df-c7360c2b-54cb-4ee0-9ce8-310631e2f4b2 button.colab-df-convert');\n",
              "        buttonEl.style.display =\n",
              "          google.colab.kernel.accessAllowed ? 'block' : 'none';\n",
              "\n",
              "        async function convertToInteractive(key) {\n",
              "          const element = document.querySelector('#df-c7360c2b-54cb-4ee0-9ce8-310631e2f4b2');\n",
              "          const dataTable =\n",
              "            await google.colab.kernel.invokeFunction('convertToInteractive',\n",
              "                                                     [key], {});\n",
              "          if (!dataTable) return;\n",
              "\n",
              "          const docLinkHtml = 'Like what you see? Visit the ' +\n",
              "            '<a target=\"_blank\" href=https://colab.research.google.com/notebooks/data_table.ipynb>data table notebook</a>'\n",
              "            + ' to learn more about interactive tables.';\n",
              "          element.innerHTML = '';\n",
              "          dataTable['output_type'] = 'display_data';\n",
              "          await google.colab.output.renderOutput(dataTable, element);\n",
              "          const docLink = document.createElement('div');\n",
              "          docLink.innerHTML = docLinkHtml;\n",
              "          element.appendChild(docLink);\n",
              "        }\n",
              "      </script>\n",
              "    </div>\n",
              "  </div>\n",
              "  "
            ]
          },
          "metadata": {},
          "execution_count": 6
        }
      ],
      "source": [
        "data[data['password'].isnull()]"
      ]
    },
    {
      "cell_type": "code",
      "execution_count": 7,
      "metadata": {
        "id": "fYFLKPoLcCb3"
      },
      "outputs": [],
      "source": [
        "data.dropna(inplace=True)"
      ]
    },
    {
      "cell_type": "code",
      "execution_count": 8,
      "metadata": {
        "colab": {
          "base_uri": "https://localhost:8080/"
        },
        "id": "eHfODHJJcCb4",
        "outputId": "ed16f025-67cf-45d5-ebb6-524daa0b9795"
      },
      "outputs": [
        {
          "output_type": "execute_result",
          "data": {
            "text/plain": [
              "password    0\n",
              "strength    0\n",
              "dtype: int64"
            ]
          },
          "metadata": {},
          "execution_count": 8
        }
      ],
      "source": [
        "data.isnull().sum()"
      ]
    },
    {
      "cell_type": "code",
      "execution_count": 9,
      "metadata": {
        "colab": {
          "base_uri": "https://localhost:8080/",
          "height": 279
        },
        "id": "D_gv91TtcCb4",
        "outputId": "95d301d9-31d8-42cf-9107-9b3930dfad2a"
      },
      "outputs": [
        {
          "output_type": "display_data",
          "data": {
            "text/plain": [
              "<Figure size 432x288 with 1 Axes>"
            ],
            "image/png": "[encoded data removed]"
          },
          "metadata": {
            "needs_background": "light"
          }
        }
      ],
      "source": [
        "sns.countplot(data['strength']);"
      ]
    },
    {
      "cell_type": "code",
      "execution_count": 10,
      "metadata": {
        "id": "OcjTQlAgcCb4"
      },
      "outputs": [],
      "source": [
        "password_tuple=np.array(data)"
      ]
    },
    {
      "cell_type": "code",
      "execution_count": 11,
      "metadata": {
        "colab": {
          "base_uri": "https://localhost:8080/"
        },
        "id": "j1UfuygacCb4",
        "outputId": "eeb5545a-b514-4db6-81af-b12b80664093"
      },
      "outputs": [
        {
          "output_type": "execute_result",
          "data": {
            "text/plain": [
              "array([['kzde5577', 1],\n",
              "       ['kino3434', 1],\n",
              "       ['visi7k1yr', 1],\n",
              "       ...,\n",
              "       ['184520socram', 1],\n",
              "       ['marken22a', 1],\n",
              "       ['fxx4pw4g', 1]], dtype=object)"
            ]
          },
          "metadata": {},
          "execution_count": 11
        }
      ],
      "source": [
        "password_tuple"
      ]
    },
    {
      "cell_type": "markdown",
      "metadata": {
        "id": "hstbLGsVcCb5"
      },
      "source": [
        "#### shuffling randomly for robustness"
      ]
    },
    {
      "cell_type": "code",
      "execution_count": 12,
      "metadata": {
        "id": "LNjga4CxcCb5"
      },
      "outputs": [],
      "source": [
        "import random\n",
        "random.shuffle(password_tuple)"
      ]
    },
    {
      "cell_type": "code",
      "execution_count": 13,
      "metadata": {
        "id": "UQwvMgNhcCb5"
      },
      "outputs": [],
      "source": [
        "x=[labels[0] for labels in password_tuple]\n",
        "y=[labels[1] for labels in password_tuple]\n"
      ]
    },
    {
      "cell_type": "code",
      "execution_count": 14,
      "metadata": {
        "colab": {
          "base_uri": "https://localhost:8080/"
        },
        "id": "nopy2sVgcCb5",
        "outputId": "ca194ffd-9755-4a06-ae34-b6952655ff2e"
      },
      "outputs": [
        {
          "output_type": "execute_result",
          "data": {
            "text/plain": [
              "['kzde5577',\n",
              " 'kzde5577',\n",
              " 'visi7k1yr',\n",
              " 'kzde5577',\n",
              " 'lamborghin1',\n",
              " 'AVYq1lDE4MgAZfNt',\n",
              " 'kzde5577',\n",
              " 'megzy123',\n",
              " 'kzde5577',\n",
              " 'lamborghin1',\n",
              " 'kzde5577',\n",
              " 'asv5o9yu',\n",
              " 'kino3434',\n",
              " 'lamborghin1',\n",
              " 'megzy123',\n",
              " 'asv5o9yu',\n",
              " 'WUt9IZzE0OQ7PkNE',\n",
              " 'jerusalem393',\n",
              " 'WUt9IZzE0OQ7PkNE',\n",
              " 'v1118714',\n",
              " 'g067057895',\n",
              " 'idofo673',\n",
              " 'v1118714',\n",
              " 'jerusalem393',\n",
              " 'g067057895',\n",
              " '612035180tok',\n",
              " 'megzy123',\n",
              " 'faranumar91',\n",
              " 'visi7k1yr',\n",
              " 'v1118714',\n",
              " 'czuodhj972',\n",
              " 'trabajonet9',\n",
              " '52558000aaa',\n",
              " 'jytifok873',\n",
              " 'g067057895',\n",
              " 'u6c8vhow',\n",
              " 'trabajonet9',\n",
              " 'asgaliu11',\n",
              " '612035180tok',\n",
              " 'g067057895',\n",
              " 'u6c8vhow',\n",
              " 'kswa2mrv',\n",
              " '6975038lp',\n",
              " 'trabajonet9',\n",
              " 'czuodhj972',\n",
              " 'yqugu927',\n",
              " 'elyass15@ajilent-ci',\n",
              " 'exitos2009',\n",
              " 'kino3434',\n",
              " 'visi7k1yr',\n",
              " '612035180tok',\n",
              " 'gaymaids1',\n",
              " 'lsdlsd1',\n",
              " 'trabajonet9',\n",
              " 'go7kew7a2po',\n",
              " 'gaymaids1',\n",
              " 'prisonbreak1',\n",
              " 'v1118714',\n",
              " '52558000aaa',\n",
              " 'gaymaids1',\n",
              " 'megzy123',\n",
              " 'megzy123',\n",
              " 'olmaz.',\n",
              " 'kswa2mrv',\n",
              " 'g067057895',\n",
              " 'fk9qi21m',\n",
              " 'fk9qi21m',\n",
              " 'd04m11',\n",
              " 'visi7k1yr',\n",
              " 'schalke04',\n",
              " 'tamanagung6',\n",
              " 'khmer100.03278&?><Mnb',\n",
              " 'il0vey0u',\n",
              " 'gdfn76',\n",
              " 'as326159',\n",
              " 'snolyuj04',\n",
              " 'jytifok873',\n",
              " 'asv5o9yu',\n",
              " 'cigicigi123',\n",
              " 'snolyuj04',\n",
              " 'khmer100.03278&?><Mnb',\n",
              " 'tamanagung6',\n",
              " 'jytifok873',\n",
              " 'schalke04',\n",
              " 'kunyukbabi69',\n",
              " 'a2531106',\n",
              " 'v1118714',\n",
              " 'hodygid757',\n",
              " 'fk9qi21m',\n",
              " 'b4NbTxDEyNgG141J',\n",
              " 'faranumar91',\n",
              " 'olmaz.',\n",
              " 'AVYq1lDE4MgAZfNt',\n",
              " 'gdfn76',\n",
              " 'yllime123',\n",
              " 'hodygid757',\n",
              " 'exitos2009',\n",
              " 'gill02',\n",
              " 'yqugu927',\n",
              " 'megzy123',\n",
              " 'fahad123',\n",
              " '2021848709.',\n",
              " '612035180tok',\n",
              " 'c3h8bkzr',\n",
              " 'kino3434',\n",
              " 'asv5o9yu',\n",
              " 'asv5o9yu',\n",
              " 'openup12',\n",
              " '612035180tok',\n",
              " 'klara-tershina3H',\n",
              " 'v1118714',\n",
              " 'jonothepoop1',\n",
              " 'juliana19',\n",
              " '123477889a',\n",
              " '283671gus',\n",
              " 'kjkjkj1',\n",
              " 'mickael12',\n",
              " 'poseidon2011',\n",
              " 'ass359',\n",
              " 'jerusalem393',\n",
              " 'znbl5tj1',\n",
              " 'trabajonet9',\n",
              " 'p2share',\n",
              " 'ga98SIzk0NwhiZaE',\n",
              " 'yllime123',\n",
              " '6tequila6',\n",
              " 'ok>bdk',\n",
              " 'fnmsdha476',\n",
              " 'lamborghin1',\n",
              " 'k1k2k3k4k5k6',\n",
              " 'poseidon2011',\n",
              " 'portales1',\n",
              " 'gill02',\n",
              " 'fk9qi21m',\n",
              " 'pato221182',\n",
              " 'yu4cmn',\n",
              " 'moken7',\n",
              " 'il0vey0u',\n",
              " 'hpqkoxsn5',\n",
              " 'memjan123',\n",
              " 'trabajonet9',\n",
              " 'jytifok873',\n",
              " 'kVczcljg4OA25Aeb',\n",
              " 'intel1',\n",
              " 'jonothepoop1',\n",
              " 'xyws951753',\n",
              " '2yz4ewwg',\n",
              " '52558000aaa',\n",
              " 'sknq7m0',\n",
              " '0169395484a',\n",
              " 'sbl571017',\n",
              " 'znbl5tj1',\n",
              " 'jUV4dSDQwNwPpA36',\n",
              " 'yk530mg8',\n",
              " 'idofo673',\n",
              " 'znbl5tj1',\n",
              " '20Dgw7TQ0OQVdly7',\n",
              " 'matiofox08',\n",
              " 'juliana19',\n",
              " 'k1k2k3k4k5k6',\n",
              " '929865yt',\n",
              " 'jalingo1',\n",
              " 'denise18',\n",
              " 'exitos2009',\n",
              " 'exitos2009',\n",
              " 'hpqkoxsn5',\n",
              " '5gzj5uf',\n",
              " 'wisal1234',\n",
              " 'damyvo114',\n",
              " 'yqugu927',\n",
              " 'rntprns7',\n",
              " 'fahad123',\n",
              " 'xiau5ff',\n",
              " 'a2531106',\n",
              " 'mohantra1',\n",
              " 'k9b8cz6aj2',\n",
              " 'megzy123',\n",
              " '123477889a',\n",
              " 'snolyuj04',\n",
              " 'g3rappa',\n",
              " '0169395484a',\n",
              " 'vehat387',\n",
              " '10Erjrlmebup0n',\n",
              " 'w9209640',\n",
              " 'RqsuUsDYxNgr8T40',\n",
              " 'alimagik1',\n",
              " 'j09000',\n",
              " '123maxbala',\n",
              " 'cesarmaio1',\n",
              " 'a2531106',\n",
              " 'znbl5tj1',\n",
              " 'hpqkoxsn5',\n",
              " 'potatobus150',\n",
              " 'Iamthelegend1!',\n",
              " '929865yt',\n",
              " 'kino3434',\n",
              " 'elonex24',\n",
              " 'c3h8bkzr',\n",
              " 'yqugu927',\n",
              " 'j09000',\n",
              " 'teemteem97',\n",
              " 'icap12',\n",
              " 'fahad123',\n",
              " 'xyws951753',\n",
              " 'lsdlsd1',\n",
              " 'sasuke4',\n",
              " 'idofo673',\n",
              " 'memjan123',\n",
              " 'b4NbTxDEyNgG141J',\n",
              " 'gdfn76',\n",
              " 'z888888',\n",
              " 'prisonbreak1',\n",
              " 'kayal123',\n",
              " 'w9209640',\n",
              " 'teemteem97',\n",
              " 'prisonbreak1',\n",
              " 'farrukhcse12',\n",
              " 'kzde5577',\n",
              " 'exitos2009',\n",
              " 'gandhi8513',\n",
              " 'www32223222',\n",
              " 'teemteem97',\n",
              " 'p2share',\n",
              " 'patri1973',\n",
              " 'kswa2mrv',\n",
              " 'v1118714',\n",
              " 'v10rica',\n",
              " 'il0vey0u',\n",
              " 'ok>bdk',\n",
              " 'znbl5tj1',\n",
              " 'zoobike04',\n",
              " 'sknq7m0',\n",
              " 'a2531106',\n",
              " 'elyass15@ajilent-ci',\n",
              " 'igejasy712',\n",
              " 'a0972986650',\n",
              " 'kjkjkj1',\n",
              " 'ebacuro434',\n",
              " 'vgnfs495vp',\n",
              " 'hpqkoxsn5',\n",
              " 'mickael12',\n",
              " 'WUt9IZzE0OQ7PkNE',\n",
              " 'frhnsvelhfr1',\n",
              " 'jerusalem393',\n",
              " 'tin030201',\n",
              " 'frhnsvelhfr1',\n",
              " 'omakiva153',\n",
              " 'asgaliu11',\n",
              " 'afs34214',\n",
              " 'edcmki90',\n",
              " 'lrhxmevb620',\n",
              " 'lrhxmevb620',\n",
              " 'b4NbTxDEyNgG141J',\n",
              " 'klara-tershina3H',\n",
              " 'TyWM72UNEex8Q8Y',\n",
              " 'barboza221294',\n",
              " 'virush1n1',\n",
              " 'holamundo1',\n",
              " 'demon10',\n",
              " 'a0972986650',\n",
              " '3y6iwef2g6',\n",
              " 'kunyukbabi69',\n",
              " 'samael666',\n",
              " 'WUt9IZzE0OQ7PkNE',\n",
              " 'puegwajy416',\n",
              " 'mike09',\n",
              " 'planes123',\n",
              " 'yitbos77',\n",
              " 'sarahi1628',\n",
              " 'czuodhj972',\n",
              " 'patri1973',\n",
              " 'tia150979',\n",
              " 'XqMB7vDMzOQocAFV',\n",
              " '2yz4ewwg',\n",
              " 'kuntz80',\n",
              " 'juliana19',\n",
              " 'ycqtgdso3',\n",
              " 'yuri110995',\n",
              " 'sarahi1628',\n",
              " 'damyvo114',\n",
              " 'calcifer32',\n",
              " 'asgaliu11',\n",
              " 'okn9zp9o',\n",
              " '123maxbala',\n",
              " 'witek1709',\n",
              " '2yz4ewwg',\n",
              " 'sbaUsoTA1OAzuevI',\n",
              " 'planes123',\n",
              " 'wisal1234',\n",
              " 'wxS2ztDk4OATjBfI',\n",
              " '929865yt',\n",
              " 'puegwajy416',\n",
              " 'abizar08',\n",
              " 'finisterra1',\n",
              " 'meriton23',\n",
              " 'zgmfnwuq25',\n",
              " 'tucagu356',\n",
              " 'abizar08',\n",
              " 'caramelo9',\n",
              " 'finisterra1',\n",
              " 'rntprns7',\n",
              " 'jerusalem393',\n",
              " 'llahetihw1',\n",
              " 'bugatti01',\n",
              " 'gtlek',\n",
              " 'jytifok873',\n",
              " 'cesarmaio1',\n",
              " 'patri1973',\n",
              " '123net123',\n",
              " 'xW8-3w7-MFB-CKH',\n",
              " 'schalke04',\n",
              " 'gaymaids1',\n",
              " 'zoobike04',\n",
              " 'c3h8bkzr',\n",
              " 'trabajonet9',\n",
              " 'ram@!sita15392',\n",
              " 'QWERTY0011',\n",
              " 'llahetihw1',\n",
              " '3vszncp4',\n",
              " 'yuri110995',\n",
              " 'krumbul123',\n",
              " 'hpqkoxsn5',\n",
              " 'elonex24',\n",
              " 'tahseen75',\n",
              " 'pablo321159',\n",
              " '612035180tok',\n",
              " 'taurofive16',\n",
              " 'zgmfnwuq25',\n",
              " '3CgRg8DA1NQY1iEj',\n",
              " 'asgaliu11',\n",
              " 'X9WVojjE4MgVAIiR',\n",
              " 'djngeyut2707',\n",
              " 'yut0838828185',\n",
              " 'ebacuro434',\n",
              " 'shotiko18',\n",
              " 'kjkjkj1',\n",
              " 'wisal1234',\n",
              " 'pablo321159',\n",
              " 'q0pv0fk',\n",
              " 'asv5o9yu',\n",
              " 'patri1973',\n",
              " '20010509wang',\n",
              " '07dpv1127b',\n",
              " 'pablo321159',\n",
              " 'mathilde54550',\n",
              " 'il0vey0u',\n",
              " 'farrukhcse12',\n",
              " 'aquhih220',\n",
              " '7942vikas',\n",
              " 'clyioqzgw42',\n",
              " 'barra23',\n",
              " 'krumbul123',\n",
              " 'nicolas05',\n",
              " 'edcmki90',\n",
              " 'jerusalem393',\n",
              " '20Dgw7TQ0OQVdly7',\n",
              " 'mmm23mm',\n",
              " 'c3h8bkzr',\n",
              " 'ok>bdk',\n",
              " 'barra23',\n",
              " 'kinga22',\n",
              " 'lamborghin1',\n",
              " 'yitbos77',\n",
              " 'jerusalem393',\n",
              " 'krishna2',\n",
              " 'nello11',\n",
              " 'damyvo114',\n",
              " '7942vikas',\n",
              " 'koabcswzt3',\n",
              " 'cdann123',\n",
              " 'WUt9IZzE0OQ7PkNE',\n",
              " 'khurram_',\n",
              " 'holamundo1',\n",
              " 'xW8-3w7-MFB-CKH',\n",
              " 'gvczfel801',\n",
              " 't8IkFRDIxMAFV2JW',\n",
              " 'saule123',\n",
              " 'zidadoh258',\n",
              " 'gvczfel801',\n",
              " '3CgRg8DA1NQY1iEj',\n",
              " 'kenneth610',\n",
              " 'franczuk33',\n",
              " 'bencike7',\n",
              " 'yu4cmn',\n",
              " 'sd6x9s3s',\n",
              " 'tia150979',\n",
              " '33kanun03',\n",
              " 'wibi182d',\n",
              " 'terrassa6',\n",
              " 'WUt9IZzE0OQ7PkNE',\n",
              " 'taulant123',\n",
              " 'patty94',\n",
              " '6tequila6',\n",
              " 'faranumar91',\n",
              " 'olmaz.',\n",
              " 'w9209640',\n",
              " 'GGmm26120904..',\n",
              " 'www32223222',\n",
              " 'acetita478',\n",
              " 'IjUcOtYqAwel725',\n",
              " 'djngeyut2707',\n",
              " 'jytifok873',\n",
              " 'tomas7896',\n",
              " 'z888888',\n",
              " 'terrassa6',\n",
              " '1234159hero',\n",
              " '631ihOZogELoVap',\n",
              " 'obstacle25',\n",
              " 'robot425',\n",
              " '33kanun03',\n",
              " 'bgrvl80',\n",
              " 'kVczcljg4OA25Aeb',\n",
              " 'icap12',\n",
              " 'omakiva153',\n",
              " 'teemteem97',\n",
              " 'bugatti01',\n",
              " '2yz4ewwg',\n",
              " 'juliel009',\n",
              " 'afavin964',\n",
              " 'ginger972',\n",
              " 'spl51190595',\n",
              " 'sasuke4',\n",
              " 'roxana1993',\n",
              " 'tukaxo486',\n",
              " 'juliana19',\n",
              " 'holamundo1',\n",
              " '0169395484a',\n",
              " 'kabrito1',\n",
              " 'koabcswzt3',\n",
              " 'visi7k1yr',\n",
              " 'sknq7m0',\n",
              " 'gutergut599',\n",
              " 'adminmao888',\n",
              " 'mmm23mm',\n",
              " 'weicat12',\n",
              " 'xyws951753',\n",
              " 'UF1Z2WjE5Mg26R1K',\n",
              " 'sono11',\n",
              " 'webstudio8',\n",
              " '159951josh',\n",
              " 'IRZA98',\n",
              " 'kry1z9',\n",
              " 'z888888',\n",
              " '26522876p',\n",
              " 'mazdarx7',\n",
              " 'shotiko18',\n",
              " 'taulant123',\n",
              " 's0xwym7h',\n",
              " 'TyWM72UNEex8Q8Y',\n",
              " 'balamuc123',\n",
              " 'ok>bdk',\n",
              " 'sarahi1628',\n",
              " 'xyws951753',\n",
              " 'kyxvufl37',\n",
              " 'gandhi8513',\n",
              " 'wycinu436',\n",
              " 'metopelo1623',\n",
              " 'marita1',\n",
              " 'e667794c1d',\n",
              " 'gvczfel801',\n",
              " 'potatobus150',\n",
              " 'jUV4dSDQwNwPpA36',\n",
              " 'z888888',\n",
              " 'grazi0201',\n",
              " 'JEQuloqOFUd102',\n",
              " '1972vishara',\n",
              " 'xiau5ff',\n",
              " 'xtswdypgh936',\n",
              " 'warriors08',\n",
              " 'demon10',\n",
              " 'yu4cmn',\n",
              " '2021848709.',\n",
              " 'xanyrum650',\n",
              " 'demon10',\n",
              " '283671gus',\n",
              " 'jbtcnd6',\n",
              " 'sono11',\n",
              " 'visi7k1yr',\n",
              " 'senghong2009',\n",
              " 'jerusalem393',\n",
              " 'matiofox08',\n",
              " 'poseidon2011',\n",
              " 'spl51190595',\n",
              " '1991vikash',\n",
              " 'h1h2h3h4h5',\n",
              " '4TXr5KDYxNQVTo4g',\n",
              " 'deryxi704',\n",
              " 'we34dar88',\n",
              " 'balamuc123',\n",
              " 'kXzWOozU2MQ1Jv1h',\n",
              " 'pazzini24',\n",
              " 'UF1Z2WjE5Mg26R1K',\n",
              " 'yllime123',\n",
              " 'kyxvufl37',\n",
              " 'graciela2',\n",
              " 'tia150979',\n",
              " 'ekufite742',\n",
              " 'aslpls2009',\n",
              " 'cockw0mble',\n",
              " 'moimoimoi9',\n",
              " 'nLIGyhTU1NQTAp6u',\n",
              " 'taiga0088',\n",
              " 'tim80327',\n",
              " 'WUt9IZzE0OQ7PkNE',\n",
              " 'terrassa6',\n",
              " 'ok>bdk',\n",
              " 'omakiva153',\n",
              " 'butisugo39',\n",
              " 'poseidon2011',\n",
              " 'woogee04',\n",
              " 'moimoimoi9',\n",
              " 'hodygid757',\n",
              " 'lzhzad1989',\n",
              " 'as8594505',\n",
              " 'igejasy712',\n",
              " 'w9209640',\n",
              " 'polo2014',\n",
              " 'barboza221294',\n",
              " 'czuodhj972',\n",
              " '2010server',\n",
              " 'b98nwtpriyesh',\n",
              " 'd04m11',\n",
              " 'p2share',\n",
              " 'webstudio8',\n",
              " '612035180tok',\n",
              " 'warriors08',\n",
              " 'wasanun13',\n",
              " 'Iamthelegend1!',\n",
              " 'vietnga92',\n",
              " '1qa2ws3ed4rf',\n",
              " 'Scipio21152030067254',\n",
              " 'yitbos77',\n",
              " 'snolyuj04',\n",
              " 'barboza221294',\n",
              " 'farrukhcse12',\n",
              " 'edcmki90',\n",
              " 'kyodai666',\n",
              " 'nicolas05',\n",
              " 'TyWM72UNEex8Q8Y',\n",
              " 'JEQuloqOFUd102',\n",
              " 'zcsntdmhe098',\n",
              " 'bozoxik602',\n",
              " 'as326159',\n",
              " 'hola45',\n",
              " 'synyxyr723',\n",
              " 'gaymaids1',\n",
              " 'lsdlsd1',\n",
              " 'meopvywk628',\n",
              " 'fudijep286',\n",
              " 'ayles2266',\n",
              " 'v1118714',\n",
              " 'poseidon2011',\n",
              " 'b4NbTxDEyNgG141J',\n",
              " 'ok>bdk',\n",
              " 'g3rappa',\n",
              " 'oscar69',\n",
              " '746xitEGiqObog',\n",
              " 'kyodai666',\n",
              " 'ypodahe201',\n",
              " '19840510kkk1',\n",
              " 'jytifok873',\n",
              " 'kukimuki123',\n",
              " 'witek1709',\n",
              " 'elyass15@ajilent-ci',\n",
              " '52558000aaa',\n",
              " 'x8512514',\n",
              " 'zu20081965',\n",
              " 'trabajonet9',\n",
              " 'kikeq102',\n",
              " 'mohantra1',\n",
              " 'q0pv0fk',\n",
              " 'kuntz80',\n",
              " 'qefoquf1uf',\n",
              " 'wo9aiwangyan',\n",
              " 'shotiko18',\n",
              " 'potatobus150',\n",
              " 'synyxyr723',\n",
              " 'fr8OClDY1MAdEhHa',\n",
              " 'yllime123',\n",
              " 'ppnyadam09',\n",
              " 'terrassa6',\n",
              " 'JEQuloqOFUd102',\n",
              " 'yu4cmn',\n",
              " 'ns2b0727',\n",
              " 'farrukhcse12',\n",
              " 'qopybuxi2',\n",
              " 'acgyj188',\n",
              " 'afavin964',\n",
              " 'cristiano7',\n",
              " 'jalingo1',\n",
              " 'senghong2009',\n",
              " 'diegote10',\n",
              " 'wibi182d',\n",
              " 'jytifok873',\n",
              " 'studenko123',\n",
              " 'khmer100.03278&?><Mnb',\n",
              " 'AS0130066',\n",
              " 'koabcswzt3',\n",
              " 'jannia5',\n",
              " 'schalke04',\n",
              " 'w9209640',\n",
              " 'ass359',\n",
              " 'zoobike04',\n",
              " 'mashhood_afzal21087',\n",
              " 'olmaz.',\n",
              " 'RPFUOUDQwMwVW0AS',\n",
              " 'popo0404',\n",
              " 'barboza221294',\n",
              " '238wofutUtIGyf',\n",
              " 'openup12',\n",
              " 'J0LcDWDc2NAVE8j3',\n",
              " '0112358mayin0',\n",
              " 'overlord3127',\n",
              " 'IjUcOtYqAwel725',\n",
              " 'vehat387',\n",
              " 'gaymaids1',\n",
              " 'vardhan19',\n",
              " 'virush1n1',\n",
              " 'il0vey0u',\n",
              " 'wo9aiwangyan',\n",
              " 'pHyqueDIyNQ8vmhb',\n",
              " 'vgnfs495vp',\n",
              " '123477889a',\n",
              " 'jUV4dSDQwNwPpA36',\n",
              " 'asv5o9yu',\n",
              " 'v10rica',\n",
              " 'iacool99',\n",
              " 'gtlek',\n",
              " 'meopvywk628',\n",
              " 'klara-tershina3H',\n",
              " 'taurofive16',\n",
              " '2fakjv',\n",
              " 'iubat09',\n",
              " 'han19660120',\n",
              " 'jytifok873',\n",
              " 'gedu1t1ah',\n",
              " '746xitEGiqObog',\n",
              " '64959rodro',\n",
              " 'kXzWOozU2MQ1Jv1h',\n",
              " '4fqa52vecr',\n",
              " '123nicole',\n",
              " 'upomel180',\n",
              " 'yut0838828185',\n",
              " 'pmcm110118008',\n",
              " 'kyodai666',\n",
              " 'enziitoo1234',\n",
              " 'gerardway1',\n",
              " 'ezekiel720',\n",
              " 'polo2014',\n",
              " 'pass0port',\n",
              " 'roxana1993',\n",
              " 'pxjwmeqyn5',\n",
              " '631ihOZogELoVap',\n",
              " 'DRAGON25',\n",
              " 'regodib479',\n",
              " 'megzy123',\n",
              " 'RRaa--72783530081984',\n",
              " 'acgyj188',\n",
              " 'saule123',\n",
              " 'zgmfnwuq25',\n",
              " 'weicat12',\n",
              " 'aslpls2009',\n",
              " '123net123',\n",
              " '2863e00016',\n",
              " 'asdasdf1',\n",
              " '4osxw4r',\n",
              " 'yogesh143',\n",
              " 'mohantra1',\n",
              " 'xyws951753',\n",
              " '838188linh',\n",
              " 'faisal213',\n",
              " 'jonothepoop1',\n",
              " 'c1brb3lt',\n",
              " 'VMjz4eTkxNAbOyUU',\n",
              " 'edcmki90',\n",
              " 'www32223222',\n",
              " 'wisal1234',\n",
              " 'llahetihw1',\n",
              " '23deagosto',\n",
              " 'icap12',\n",
              " 'jalingo1',\n",
              " 'il0vey0u',\n",
              " 'megdam55',\n",
              " 'lqksuym982',\n",
              " 'snolyuj04',\n",
              " 'demon10',\n",
              " '7l1hu1xa',\n",
              " 'fahad123',\n",
              " 'pHyqueDIyNQ8vmhb',\n",
              " 'kunyukbabi69',\n",
              " 'warriors08',\n",
              " 'wycinu436',\n",
              " 'sha122511',\n",
              " 'tim80327',\n",
              " 'patata91',\n",
              " 'gpc151192',\n",
              " 'poluxyj32',\n",
              " 'aslpls2009',\n",
              " 'krumbul123',\n",
              " 'J0LcDWDc2NAVE8j3',\n",
              " 'b9m7cxcgc',\n",
              " 'servbot88',\n",
              " 'vgnfs495vp',\n",
              " 'hola45',\n",
              " 'bencike7',\n",
              " 'saule123',\n",
              " 'ubojig109',\n",
              " 'xyws951753',\n",
              " 'X34y2CzY5MACs6kp',\n",
              " 'khaled12',\n",
              " '01161590m',\n",
              " 'seeyouagain1',\n",
              " 'housefly74',\n",
              " 'mark11',\n",
              " 'ebacuro434',\n",
              " 'alimagik1',\n",
              " 'control9',\n",
              " 'desmondkok21',\n",
              " 'arigato3',\n",
              " 'wuzsadav933',\n",
              " 'yqugu927',\n",
              " 'seller1',\n",
              " 'elyass15@ajilent-ci',\n",
              " 'franczuk33',\n",
              " '1k9izx',\n",
              " 'a0972986650',\n",
              " 'u6c8vhow',\n",
              " 'vestax25',\n",
              " 'popo0404',\n",
              " 'acgyj188',\n",
              " 'in595462',\n",
              " 'PSVkampioen2013',\n",
              " 'IjUcOtYqAwel725',\n",
              " '1k9izx',\n",
              " '1ngaymuadong',\n",
              " 'yjuqseb416',\n",
              " 'nikolas369',\n",
              " 'wuzyci421',\n",
              " 'mzhrmir786',\n",
              " 'ginger972',\n",
              " 't8IkFRDIxMAFV2JW',\n",
              " 'MT766631',\n",
              " 'yy4129',\n",
              " 'seller1',\n",
              " 'kuntz80',\n",
              " '2021848709.',\n",
              " 'afs34214',\n",
              " 'evivad588',\n",
              " 'snolyuj04',\n",
              " 'zjl0kx03',\n",
              " 'hodygid757',\n",
              " 'as8594505',\n",
              " 'trabajonet9',\n",
              " 'cigicigi123',\n",
              " 'kenyu001',\n",
              " 'faranumar91',\n",
              " '4fqa52vecr',\n",
              " 'falre1524',\n",
              " 'polo2014',\n",
              " 'sbl571017',\n",
              " 'finisterra1',\n",
              " 'tahseen75',\n",
              " 'princ3sa',\n",
              " 'coy29061994',\n",
              " 'jekkmoeder>',\n",
              " 'linhna288',\n",
              " '7l1hu1xa',\n",
              " '238wofutUtIGyf',\n",
              " 'terrassa6',\n",
              " 'x0004534',\n",
              " '612035180tok',\n",
              " 'aan2900220',\n",
              " 'as326159',\n",
              " 'l4torr3',\n",
              " 'jytifok873',\n",
              " '1k9izx',\n",
              " 'pap0spep0s',\n",
              " 'Ju6BIMTU0MwYXtL4',\n",
              " 'Scipio21152030067254',\n",
              " 'damyvo114',\n",
              " 'ym2130104',\n",
              " 'keithcutlip99',\n",
              " 'gerardway1',\n",
              " 'tamanagung6',\n",
              " 'w9209640',\n",
              " 'IRZA98',\n",
              " 'b9m7cxcgc',\n",
              " 'aslanmarco007',\n",
              " '5gzj5uf',\n",
              " 'oatcake87',\n",
              " 'gvczfel801',\n",
              " 'muoaqxwc21',\n",
              " 'potatobus150',\n",
              " 'barboza221294',\n",
              " 'w1e2s3l4',\n",
              " 's0xwym7h',\n",
              " '1A2Z3E4R',\n",
              " 'o7ShLdTM0NAQRI7E',\n",
              " 'rogyh820',\n",
              " 'pato221182',\n",
              " 'rogyh820',\n",
              " 'karl88',\n",
              " 'rogyh820',\n",
              " 'goony01',\n",
              " 'guliotth82',\n",
              " 'tspirits08',\n",
              " 'khaled12',\n",
              " 'iprwxmfk84',\n",
              " 'a2486315',\n",
              " 'oioo9og',\n",
              " 'yut0838828185',\n",
              " '1qa2ws3ed4rf',\n",
              " 'graciela2',\n",
              " 'kenyu001',\n",
              " 'zedika521',\n",
              " 'hamqrc6',\n",
              " 'synyxyr723',\n",
              " 'apther1940',\n",
              " 'damyvo114',\n",
              " 'a1233210',\n",
              " 'kah4544875',\n",
              " 'llahetihw1',\n",
              " 'jcav26',\n",
              " 'sanjaime1',\n",
              " 'portales1',\n",
              " '2fakjv',\n",
              " 'acetita478',\n",
              " '123maxbala',\n",
              " 'hodaq103',\n",
              " 'maulana79',\n",
              " 'mohantra1',\n",
              " 'studenko123',\n",
              " 'kyxvufl37',\n",
              " 'xp;ysmybst',\n",
              " 'IP1yaTDUzOQWAeI5',\n",
              " '1234159hero',\n",
              " 'tPGMkBjkyMg3hGzu',\n",
              " 'ayles2266',\n",
              " 'juliana00',\n",
              " 'z7zbgIDkzMQeHUd9',\n",
              " 'ts34a3fodh3i',\n",
              " 'ajyrew547',\n",
              " 'failz0r',\n",
              " 'lrhxmevb620',\n",
              " 'yeko69',\n",
              " 'juanito00',\n",
              " 'XqMB7vDMzOQocAFV',\n",
              " 'mike09',\n",
              " 'gopal8420',\n",
              " '2yz4ewwg',\n",
              " 'gkhan01',\n",
              " 'jcav26',\n",
              " 'jannia5',\n",
              " 'mzhrmir786',\n",
              " 'servbot88',\n",
              " 'password0880',\n",
              " '23deagosto',\n",
              " '2863e00016',\n",
              " '612035180tok',\n",
              " 'purpledog1992',\n",
              " 'moken7',\n",
              " 'bghuyku37',\n",
              " 'hodygid757',\n",
              " 'a2486315',\n",
              " 'pukiw102',\n",
              " 'brokensong54',\n",
              " 'rntprns7',\n",
              " 'syjtdxlo81',\n",
              " 'alimagik1',\n",
              " '090mca090',\n",
              " 'YADHJIGSAWS11',\n",
              " 'mndzbqkv651',\n",
              " 'poseidon2011',\n",
              " 'rakag279',\n",
              " 'mickael12',\n",
              " 'padhila30',\n",
              " 'ci0n3exor',\n",
              " '763EBFC5',\n",
              " 'ahibyg892',\n",
              " '19840510kkk1',\n",
              " 'm4r4hne',\n",
              " 'zeeshanbhai1',\n",
              " 'just1n0k',\n",
              " 'holamundo1',\n",
              " '123charger',\n",
              " 'as326159',\n",
              " 'sbaUsoTA1OAzuevI',\n",
              " 'pugceya468',\n",
              " 'j2yj2yj2y',\n",
              " '4TXr5KDYxNQVTo4g',\n",
              " 'cUFUSYKIPuGo024',\n",
              " '2akira2',\n",
              " '20010509wang',\n",
              " 'Truelove19902610',\n",
              " 'cc71797805',\n",
              " '1qa2ws3ed4rf',\n",
              " 'khmer100.03278&?><Mnb',\n",
              " 'kino3434',\n",
              " 'owataantena1',\n",
              " 'peluchin4',\n",
              " 'pilatyj280',\n",
              " 'p2share',\n",
              " 'up8444',\n",
              " 'midgeman8505',\n",
              " 'wearehis7',\n",
              " '23deagosto',\n",
              " 'IRZA98',\n",
              " 'peter04',\n",
              " 'ilyas789',\n",
              " 'ezekiel720',\n",
              " 'CabezaDePollo476',\n",
              " 'pedronha96',\n",
              " 'lovelory1',\n",
              " 'emilly123',\n",
              " '7942vikas',\n",
              " 'ivanxl33t010',\n",
              " '215466kenyi',\n",
              " 'owary200',\n",
              " '1justogax',\n",
              " 'XqMB7vDMzOQocAFV',\n",
              " '10Erjrlmebup0n',\n",
              " 'mikrochip0',\n",
              " 'yjuqseb416',\n",
              " 'yqugu927',\n",
              " 'sanjaime1',\n",
              " 'fr8OClDY1MAdEhHa',\n",
              " '763EBFC5',\n",
              " 'sex1353245',\n",
              " 'LypOJUfuLYrO477',\n",
              " 'killer5',\n",
              " '7942vikas',\n",
              " '147963asd',\n",
              " 'wbtdrieus345',\n",
              " 'nLIGyhTU1NQTAp6u',\n",
              " 'kino3434',\n",
              " 'v1s2c3456',\n",
              " '7942vikas',\n",
              " '2fakjv',\n",
              " 'frhnsvelhfr1',\n",
              " 'schalke04',\n",
              " 'lugerp08',\n",
              " 'wearehis7',\n",
              " 'cacat123',\n",
              " 'princ3sa',\n",
              " 'asakapa22',\n",
              " '1katertje',\n",
              " 'xzeyfbi495',\n",
              " 'RqsuUsDYxNgr8T40',\n",
              " 'just1n0k',\n",
              " 'bijou2012',\n",
              " 'koabcswzt3',\n",
              " 'mdaffandi74',\n",
              " 'openup12',\n",
              " 'blackjack14',\n",
              " 'k9b8cz6aj2',\n",
              " 'killer5',\n",
              " 'sw10d014',\n",
              " 'korea2010',\n",
              " 'keithcutlip99',\n",
              " 'kuntz80',\n",
              " 'megdam55',\n",
              " 'tuto0378',\n",
              " 'pass0port',\n",
              " 'uou2dae',\n",
              " '19821010a',\n",
              " 'sydney213',\n",
              " 'GGmm26120904..',\n",
              " 'taiga0088',\n",
              " 'oscar2002',\n",
              " 'jsm159167',\n",
              " 'kubafu77',\n",
              " 'zeitgeist1',\n",
              " 'j03l4ytr1',\n",
              " 'gerardway1',\n",
              " 'diegote10',\n",
              " '9950twofour0',\n",
              " 'ilunia20',\n",
              " 'afs34214',\n",
              " 'medebizu3',\n",
              " 'jonothepoop1',\n",
              " 'jsm159167',\n",
              " 'gohan2602',\n",
              " '0112358mayin0',\n",
              " 'Zanekurosak10%',\n",
              " 'vmdo3i',\n",
              " 'kitty555',\n",
              " 'd04m11',\n",
              " 'pxjwmeqyn5',\n",
              " 'bjolgvhs69',\n",
              " 'h3ndr4',\n",
              " 'asoze777',\n",
              " 'taiga0088',\n",
              " 'jalal123456',\n",
              " 'savas123x',\n",
              " 'kyxvufl37',\n",
              " 'kitty555',\n",
              " 'BZVQZBTM1MApRV7s',\n",
              " 'rUPV0njA5MQeXFbU',\n",
              " 'pmcm110118008',\n",
              " 'virush1n1',\n",
              " ...]"
            ]
          },
          "metadata": {},
          "execution_count": 14
        }
      ],
      "source": [
        "x"
      ]
    },
    {
      "cell_type": "markdown",
      "metadata": {
        "id": "E-exkNGgcCb5"
      },
      "source": [
        "#### create a custom function to split input into characters of list"
      ]
    },
    {
      "cell_type": "code",
      "execution_count": 15,
      "metadata": {
        "id": "yVYiWAcXcCb5"
      },
      "outputs": [],
      "source": [
        "def word_divide_char(inputs):\n",
        "    character=[]\n",
        "    for i in inputs:\n",
        "        character.append(i)\n",
        "    return character"
      ]
    },
    {
      "cell_type": "code",
      "execution_count": 16,
      "metadata": {
        "colab": {
          "base_uri": "https://localhost:8080/"
        },
        "id": "E7ojQsLGcCb6",
        "outputId": "951952bc-e82d-485d-b72e-e118448c1618"
      },
      "outputs": [
        {
          "output_type": "execute_result",
          "data": {
            "text/plain": [
              "['k', 'z', 'd', 'e', '5', '5', '7', '7']"
            ]
          },
          "metadata": {},
          "execution_count": 16
        }
      ],
      "source": [
        "word_divide_char('kzde5577')"
      ]
    },
    {
      "cell_type": "code",
      "execution_count": 16,
      "metadata": {
        "id": "Y49_DPXNcCb6"
      },
      "outputs": [],
      "source": [
        ""
      ]
    },
    {
      "cell_type": "markdown",
      "metadata": {
        "id": "yHEyNVz5cCb6"
      },
      "source": [
        "#### import TF-IDF vectorizer to convert String data into numerical data"
      ]
    },
    {
      "cell_type": "code",
      "execution_count": 17,
      "metadata": {
        "id": "vyKOL5D7cCb6"
      },
      "outputs": [],
      "source": [
        "from sklearn.feature_extraction.text import TfidfVectorizer"
      ]
    },
    {
      "cell_type": "code",
      "execution_count": 18,
      "metadata": {
        "id": "f9Z4DSJ3cCb6"
      },
      "outputs": [],
      "source": [
        "vectorizer=TfidfVectorizer(tokenizer = word_divide_char)"
      ]
    },
    {
      "cell_type": "markdown",
      "metadata": {
        "id": "QlOgPfXucCb6"
      },
      "source": [
        "#### apply TF-IDF vectorizer on data"
      ]
    },
    {
      "cell_type": "code",
      "execution_count": 19,
      "metadata": {
        "id": "FZaS3TKkcCb6"
      },
      "outputs": [],
      "source": [
        "X=vectorizer.fit_transform(x)"
      ]
    },
    {
      "cell_type": "code",
      "execution_count": 20,
      "metadata": {
        "colab": {
          "base_uri": "https://localhost:8080/"
        },
        "id": "QvyCYjtXcCb6",
        "outputId": "e0e73a49-7237-4d85-8207-2733c922e636"
      },
      "outputs": [
        {
          "output_type": "execute_result",
          "data": {
            "text/plain": [
              "(669639, 121)"
            ]
          },
          "metadata": {},
          "execution_count": 20
        }
      ],
      "source": [
        "X.shape"
      ]
    },
    {
      "cell_type": "code",
      "execution_count": 21,
      "metadata": {
        "colab": {
          "base_uri": "https://localhost:8080/"
        },
        "id": "ayNW1x6ocCb7",
        "outputId": "fffd3286-8192-4d37-f2bc-6b5d3019a4f5"
      },
      "outputs": [
        {
          "output_type": "execute_result",
          "data": {
            "text/plain": [
              "['\\x05',\n",
              " '\\x06',\n",
              " '\\x10',\n",
              " '\\x11',\n",
              " '\\x12',\n",
              " '\\x16',\n",
              " '\\x17',\n",
              " '\\x19',\n",
              " '\\x1b',\n",
              " '\\x1c',\n",
              " '\\x1e',\n",
              " ' ',\n",
              " '!',\n",
              " '\"',\n",
              " '#',\n",
              " '$',\n",
              " '%',\n",
              " '&',\n",
              " '(',\n",
              " ')',\n",
              " '*',\n",
              " '+',\n",
              " '-',\n",
              " '.',\n",
              " '/',\n",
              " '0',\n",
              " '1',\n",
              " '2',\n",
              " '3',\n",
              " '4',\n",
              " '5',\n",
              " '6',\n",
              " '7',\n",
              " '8',\n",
              " '9',\n",
              " ';',\n",
              " '<',\n",
              " '=',\n",
              " '>',\n",
              " '?',\n",
              " '@',\n",
              " '[',\n",
              " '\\\\',\n",
              " ']',\n",
              " '^',\n",
              " '_',\n",
              " '`',\n",
              " 'a',\n",
              " 'b',\n",
              " 'c',\n",
              " 'd',\n",
              " 'e',\n",
              " 'f',\n",
              " 'g',\n",
              " 'h',\n",
              " 'i',\n",
              " 'j',\n",
              " 'k',\n",
              " 'l',\n",
              " 'm',\n",
              " 'n',\n",
              " 'o',\n",
              " 'p',\n",
              " 'q',\n",
              " 'r',\n",
              " 's',\n",
              " 't',\n",
              " 'u',\n",
              " 'v',\n",
              " 'w',\n",
              " 'x',\n",
              " 'y',\n",
              " 'z',\n",
              " '{',\n",
              " '|',\n",
              " '}',\n",
              " '~',\n",
              " '\\x81',\n",
              " '\\xa0',\n",
              " '¡',\n",
              " '¨',\n",
              " '«',\n",
              " '°',\n",
              " '±',\n",
              " '²',\n",
              " '³',\n",
              " 'µ',\n",
              " '·',\n",
              " 'º',\n",
              " '¾',\n",
              " '¿',\n",
              " '×',\n",
              " 'ß',\n",
              " 'à',\n",
              " 'á',\n",
              " 'â',\n",
              " 'ä',\n",
              " 'å',\n",
              " 'æ',\n",
              " 'è',\n",
              " 'é',\n",
              " 'í',\n",
              " 'ï',\n",
              " 'ð',\n",
              " 'ñ',\n",
              " 'ò',\n",
              " 'ó',\n",
              " 'ô',\n",
              " 'õ',\n",
              " 'ö',\n",
              " '÷',\n",
              " 'ù',\n",
              " 'ú',\n",
              " 'û',\n",
              " 'ü',\n",
              " 'ý',\n",
              " 'þ',\n",
              " 'ÿ',\n",
              " '—',\n",
              " '‚',\n",
              " '™']"
            ]
          },
          "metadata": {},
          "execution_count": 21
        }
      ],
      "source": [
        "vectorizer.get_feature_names()"
      ]
    },
    {
      "cell_type": "code",
      "execution_count": 22,
      "metadata": {
        "colab": {
          "base_uri": "https://localhost:8080/"
        },
        "id": "2b6SzGQXcCb7",
        "outputId": "573ef215-0782-49f7-a0ef-aa00e0ee992f"
      },
      "outputs": [
        {
          "output_type": "execute_result",
          "data": {
            "text/plain": [
              "<1x121 sparse matrix of type '<class 'numpy.float64'>'\n",
              "\twith 6 stored elements in Compressed Sparse Row format>"
            ]
          },
          "metadata": {},
          "execution_count": 22
        }
      ],
      "source": [
        "first_document_vector=X[0]\n",
        "first_document_vector"
      ]
    },
    {
      "cell_type": "code",
      "execution_count": 23,
      "metadata": {
        "colab": {
          "base_uri": "https://localhost:8080/"
        },
        "id": "BgSXJhT3cCb7",
        "outputId": "7751f8e6-6cf5-4bda-9d93-2aac230bdb87"
      },
      "outputs": [
        {
          "output_type": "execute_result",
          "data": {
            "text/plain": [
              "matrix([[0.        ],\n",
              "        [0.        ],\n",
              "        [0.        ],\n",
              "        [0.        ],\n",
              "        [0.        ],\n",
              "        [0.        ],\n",
              "        [0.        ],\n",
              "        [0.        ],\n",
              "        [0.        ],\n",
              "        [0.        ],\n",
              "        [0.        ],\n",
              "        [0.        ],\n",
              "        [0.        ],\n",
              "        [0.        ],\n",
              "        [0.        ],\n",
              "        [0.        ],\n",
              "        [0.        ],\n",
              "        [0.        ],\n",
              "        [0.        ],\n",
              "        [0.        ],\n",
              "        [0.        ],\n",
              "        [0.        ],\n",
              "        [0.        ],\n",
              "        [0.        ],\n",
              "        [0.        ],\n",
              "        [0.        ],\n",
              "        [0.        ],\n",
              "        [0.        ],\n",
              "        [0.        ],\n",
              "        [0.        ],\n",
              "        [0.56705951],\n",
              "        [0.        ],\n",
              "        [0.59162893],\n",
              "        [0.        ],\n",
              "        [0.        ],\n",
              "        [0.        ],\n",
              "        [0.        ],\n",
              "        [0.        ],\n",
              "        [0.        ],\n",
              "        [0.        ],\n",
              "        [0.        ],\n",
              "        [0.        ],\n",
              "        [0.        ],\n",
              "        [0.        ],\n",
              "        [0.        ],\n",
              "        [0.        ],\n",
              "        [0.        ],\n",
              "        [0.        ],\n",
              "        [0.        ],\n",
              "        [0.        ],\n",
              "        [0.28557727],\n",
              "        [0.22138788],\n",
              "        [0.        ],\n",
              "        [0.        ],\n",
              "        [0.        ],\n",
              "        [0.        ],\n",
              "        [0.        ],\n",
              "        [0.29162147],\n",
              "        [0.        ],\n",
              "        [0.        ],\n",
              "        [0.        ],\n",
              "        [0.        ],\n",
              "        [0.        ],\n",
              "        [0.        ],\n",
              "        [0.        ],\n",
              "        [0.        ],\n",
              "        [0.        ],\n",
              "        [0.        ],\n",
              "        [0.        ],\n",
              "        [0.        ],\n",
              "        [0.        ],\n",
              "        [0.        ],\n",
              "        [0.33587001],\n",
              "        [0.        ],\n",
              "        [0.        ],\n",
              "        [0.        ],\n",
              "        [0.        ],\n",
              "        [0.        ],\n",
              "        [0.        ],\n",
              "        [0.        ],\n",
              "        [0.        ],\n",
              "        [0.        ],\n",
              "        [0.        ],\n",
              "        [0.        ],\n",
              "        [0.        ],\n",
              "        [0.        ],\n",
              "        [0.        ],\n",
              "        [0.        ],\n",
              "        [0.        ],\n",
              "        [0.        ],\n",
              "        [0.        ],\n",
              "        [0.        ],\n",
              "        [0.        ],\n",
              "        [0.        ],\n",
              "        [0.        ],\n",
              "        [0.        ],\n",
              "        [0.        ],\n",
              "        [0.        ],\n",
              "        [0.        ],\n",
              "        [0.        ],\n",
              "        [0.        ],\n",
              "        [0.        ],\n",
              "        [0.        ],\n",
              "        [0.        ],\n",
              "        [0.        ],\n",
              "        [0.        ],\n",
              "        [0.        ],\n",
              "        [0.        ],\n",
              "        [0.        ],\n",
              "        [0.        ],\n",
              "        [0.        ],\n",
              "        [0.        ],\n",
              "        [0.        ],\n",
              "        [0.        ],\n",
              "        [0.        ],\n",
              "        [0.        ],\n",
              "        [0.        ],\n",
              "        [0.        ],\n",
              "        [0.        ],\n",
              "        [0.        ],\n",
              "        [0.        ]])"
            ]
          },
          "metadata": {},
          "execution_count": 23
        }
      ],
      "source": [
        "first_document_vector.T.todense()"
      ]
    },
    {
      "cell_type": "code",
      "execution_count": 24,
      "metadata": {
        "colab": {
          "base_uri": "https://localhost:8080/",
          "height": 424
        },
        "id": "YSHSY6twcCb7",
        "outputId": "0a6b2202-7125-40f6-918e-46649ec5f9f3"
      },
      "outputs": [
        {
          "output_type": "execute_result",
          "data": {
            "text/plain": [
              "      TF-IDF\n",
              "7   0.591629\n",
              "5   0.567060\n",
              "z   0.335870\n",
              "k   0.291621\n",
              "d   0.285577\n",
              "..       ...\n",
              "<   0.000000\n",
              ";   0.000000\n",
              "9   0.000000\n",
              "8   0.000000\n",
              "™   0.000000\n",
              "\n",
              "[121 rows x 1 columns]"
            ],
            "text/html": [
              "\n",
              "  <div id=\"df-29af28ca-f60a-45a0-92d9-8b64f71ad40b\">\n",
              "    <div class=\"colab-df-container\">\n",
              "      <div>\n",
              "<style scoped>\n",
              "    .dataframe tbody tr th:only-of-type {\n",
              "        vertical-align: middle;\n",
              "    }\n",
              "\n",
              "    .dataframe tbody tr th {\n",
              "        vertical-align: top;\n",
              "    }\n",
              "\n",
              "    .dataframe thead th {\n",
              "        text-align: right;\n",
              "    }\n",
              "</style>\n",
              "<table border=\"1\" class=\"dataframe\">\n",
              "  <thead>\n",
              "    <tr style=\"text-align: right;\">\n",
              "      <th></th>\n",
              "      <th>TF-IDF</th>\n",
              "    </tr>\n",
              "  </thead>\n",
              "  <tbody>\n",
              "    <tr>\n",
              "      <th>7</th>\n",
              "      <td>0.591629</td>\n",
              "    </tr>\n",
              "    <tr>\n",
              "      <th>5</th>\n",
              "      <td>0.567060</td>\n",
              "    </tr>\n",
              "    <tr>\n",
              "      <th>z</th>\n",
              "      <td>0.335870</td>\n",
              "    </tr>\n",
              "    <tr>\n",
              "      <th>k</th>\n",
              "      <td>0.291621</td>\n",
              "    </tr>\n",
              "    <tr>\n",
              "      <th>d</th>\n",
              "      <td>0.285577</td>\n",
              "    </tr>\n",
              "    <tr>\n",
              "      <th>...</th>\n",
              "      <td>...</td>\n",
              "    </tr>\n",
              "    <tr>\n",
              "      <th>&lt;</th>\n",
              "      <td>0.000000</td>\n",
              "    </tr>\n",
              "    <tr>\n",
              "      <th>;</th>\n",
              "      <td>0.000000</td>\n",
              "    </tr>\n",
              "    <tr>\n",
              "      <th>9</th>\n",
              "      <td>0.000000</td>\n",
              "    </tr>\n",
              "    <tr>\n",
              "      <th>8</th>\n",
              "      <td>0.000000</td>\n",
              "    </tr>\n",
              "    <tr>\n",
              "      <th>™</th>\n",
              "      <td>0.000000</td>\n",
              "    </tr>\n",
              "  </tbody>\n",
              "</table>\n",
              "<p>121 rows × 1 columns</p>\n",
              "</div>\n",
              "      <button class=\"colab-df-convert\" onclick=\"convertToInteractive('df-29af28ca-f60a-45a0-92d9-8b64f71ad40b')\"\n",
              "              title=\"Convert this dataframe to an interactive table.\"\n",
              "              style=\"display:none;\">\n",
              "        \n",
              "  <svg xmlns=\"http://www.w3.org/2000/svg\" height=\"24px\"viewBox=\"0 0 24 24\"\n",
              "       width=\"24px\">\n",
              "    <path d=\"M0 0h24v24H0V0z\" fill=\"none\"/>\n",
              "    <path d=\"M18.56 5.44l.94 2.06.94-2.06 2.06-.94-2.06-.94-.94-2.06-.94 2.06-2.06.94zm-11 1L8.5 8.5l.94-2.06 2.06-.94-2.06-.94L8.5 2.5l-.94 2.06-2.06.94zm10 10l.94 2.06.94-2.06 2.06-.94-2.06-.94-.94-2.06-.94 2.06-2.06.94z\"/><path d=\"M17.41 7.96l-1.37-1.37c-.4-.4-.92-.59-1.43-.59-.52 0-1.04.2-1.43.59L10.3 9.45l-7.72 7.72c-.78.78-.78 2.05 0 2.83L4 21.41c.39.39.9.59 1.41.59.51 0 1.02-.2 1.41-.59l7.78-7.78 2.81-2.81c.8-.78.8-2.07 0-2.86zM5.41 20L4 18.59l7.72-7.72 1.47 1.35L5.41 20z\"/>\n",
              "  </svg>\n",
              "      </button>\n",
              "      \n",
              "  <style>\n",
              "    .colab-df-container {\n",
              "      display:flex;\n",
              "      flex-wrap:wrap;\n",
              "      gap: 12px;\n",
              "    }\n",
              "\n",
              "    .colab-df-convert {\n",
              "      background-color: #E8F0FE;\n",
              "      border: none;\n",
              "      border-radius: 50%;\n",
              "      cursor: pointer;\n",
              "      display: none;\n",
              "      fill: #1967D2;\n",
              "      height: 32px;\n",
              "      padding: 0 0 0 0;\n",
              "      width: 32px;\n",
              "    }\n",
              "\n",
              "    .colab-df-convert:hover {\n",
              "      background-color: #E2EBFA;\n",
              "      box-shadow: 0px 1px 2px rgba(60, 64, 67, 0.3), 0px 1px 3px 1px rgba(60, 64, 67, 0.15);\n",
              "      fill: #174EA6;\n",
              "    }\n",
              "\n",
              "    [theme=dark] .colab-df-convert {\n",
              "      background-color: #3B4455;\n",
              "      fill: #D2E3FC;\n",
              "    }\n",
              "\n",
              "    [theme=dark] .colab-df-convert:hover {\n",
              "      background-color: #434B5C;\n",
              "      box-shadow: 0px 1px 3px 1px rgba(0, 0, 0, 0.15);\n",
              "      filter: drop-shadow(0px 1px 2px rgba(0, 0, 0, 0.3));\n",
              "      fill: #FFFFFF;\n",
              "    }\n",
              "  </style>\n",
              "\n",
              "      <script>\n",
              "        const buttonEl =\n",
              "          document.querySelector('#df-29af28ca-f60a-45a0-92d9-8b64f71ad40b button.colab-df-convert');\n",
              "        buttonEl.style.display =\n",
              "          google.colab.kernel.accessAllowed ? 'block' : 'none';\n",
              "\n",
              "        async function convertToInteractive(key) {\n",
              "          const element = document.querySelector('#df-29af28ca-f60a-45a0-92d9-8b64f71ad40b');\n",
              "          const dataTable =\n",
              "            await google.colab.kernel.invokeFunction('convertToInteractive',\n",
              "                                                     [key], {});\n",
              "          if (!dataTable) return;\n",
              "\n",
              "          const docLinkHtml = 'Like what you see? Visit the ' +\n",
              "            '<a target=\"_blank\" href=https://colab.research.google.com/notebooks/data_table.ipynb>data table notebook</a>'\n",
              "            + ' to learn more about interactive tables.';\n",
              "          element.innerHTML = '';\n",
              "          dataTable['output_type'] = 'display_data';\n",
              "          await google.colab.output.renderOutput(dataTable, element);\n",
              "          const docLink = document.createElement('div');\n",
              "          docLink.innerHTML = docLinkHtml;\n",
              "          element.appendChild(docLink);\n",
              "        }\n",
              "      </script>\n",
              "    </div>\n",
              "  </div>\n",
              "  "
            ]
          },
          "metadata": {},
          "execution_count": 24
        }
      ],
      "source": [
        "df=pd.DataFrame(first_document_vector.T.todense(),index=vectorizer.get_feature_names(),columns=['TF-IDF'])\n",
        "df.sort_values(by=['TF-IDF'],ascending=False)"
      ]
    },
    {
      "cell_type": "markdown",
      "metadata": {
        "id": "thLDhTuggKVN"
      },
      "source": [
        "###Split Dataset"
      ]
    },
    {
      "cell_type": "code",
      "execution_count": 25,
      "metadata": {
        "id": "fULOCzhJcCb7"
      },
      "outputs": [],
      "source": [
        "from sklearn.model_selection import train_test_split\n",
        "X_train, X_test, y_train, y_test = train_test_split(X, y, test_size=0.2)"
      ]
    },
    {
      "cell_type": "markdown",
      "metadata": {
        "id": "pgu_0wjycCb8"
      },
      "source": [
        "#### Apply Traditional Machine Learning Classification Algorithms "
      ]
    },
    {
      "cell_type": "code",
      "execution_count": 26,
      "metadata": {
        "id": "cMoQ48xccCb8"
      },
      "outputs": [],
      "source": [
        "from sklearn.linear_model import LogisticRegression\n",
        "from sklearn.ensemble import RandomForestClassifier\n",
        "from sklearn.svm import SVC\n",
        "from sklearn.ensemble import AdaBoostClassifier\n",
        "from xgboost import XGBClassifier"
      ]
    },
    {
      "cell_type": "code",
      "execution_count": 27,
      "metadata": {
        "id": "nTy97W1uf8_u"
      },
      "outputs": [],
      "source": [
        "from sklearn.model_selection import cross_val_score\n",
        "from sklearn.model_selection import ShuffleSplit\n",
        "from sklearn.model_selection import train_test_split"
      ]
    },
    {
      "cell_type": "code",
      "execution_count": 28,
      "metadata": {
        "id": "V8eLNsCNgBee"
      },
      "outputs": [],
      "source": [
        "cv=ShuffleSplit(n_splits=10,test_size=0.3,random_state=42)"
      ]
    },
    {
      "cell_type": "code",
      "execution_count": 29,
      "metadata": {
        "colab": {
          "base_uri": "https://localhost:8080/"
        },
        "id": "0xYcHMswgBXl",
        "outputId": "139bb9c0-e2e0-4532-8f73-c09656f4b476"
      },
      "outputs": [
        {
          "output_type": "stream",
          "name": "stderr",
          "text": [
            "[Parallel(n_jobs=10)]: Using backend LokyBackend with 10 concurrent workers.\n",
            "[Parallel(n_jobs=10)]: Done   3 out of  10 | elapsed:  3.8min remaining:  8.9min\n"
          ]
        },
        {
          "output_type": "stream",
          "name": "stdout",
          "text": [
            "Mean Accuracy :  0.8358070858792639\n",
            "Standard Deviation Accuracy :  0.0023068487458787978\n"
          ]
        },
        {
          "output_type": "stream",
          "name": "stderr",
          "text": [
            "[Parallel(n_jobs=10)]: Done  10 out of  10 | elapsed:  7.1min finished\n"
          ]
        }
      ],
      "source": [
        "AdaBoost = cross_val_score(AdaBoostClassifier(),X_train,y_train,cv=cv,scoring='accuracy', verbose = 2, n_jobs=10)\n",
        "print(\"Mean Accuracy : \", AdaBoost.mean())\n",
        "print(\"Standard Deviation Accuracy : \", AdaBoost.std())"
      ]
    },
    {
      "cell_type": "code",
      "execution_count": 30,
      "metadata": {
        "colab": {
          "base_uri": "https://localhost:8080/"
        },
        "id": "Ube7RZjQgBPl",
        "outputId": "0ceff881-23d7-46b2-8e88-694938e5d089"
      },
      "outputs": [
        {
          "output_type": "stream",
          "name": "stderr",
          "text": [
            "[Parallel(n_jobs=10)]: Using backend LokyBackend with 10 concurrent workers.\n",
            "[Parallel(n_jobs=10)]: Done   3 out of  10 | elapsed: 22.6min remaining: 52.7min\n"
          ]
        },
        {
          "output_type": "stream",
          "name": "stdout",
          "text": [
            "Mean Accuracy :  0.915687494555546\n",
            "Standard Deviation Accuracy :  0.0006838446690389926\n"
          ]
        },
        {
          "output_type": "stream",
          "name": "stderr",
          "text": [
            "[Parallel(n_jobs=10)]: Done  10 out of  10 | elapsed: 27.7min finished\n"
          ]
        }
      ],
      "source": [
        "XGB = cross_val_score(XGBClassifier(),X_train,y_train,cv=cv,scoring='accuracy', verbose = 2, n_jobs=10)\n",
        "print(\"Mean Accuracy : \", XGB.mean())\n",
        "print(\"Standard Deviation Accuracy : \", XGB.std())"
      ]
    },
    {
      "cell_type": "code",
      "execution_count": 31,
      "metadata": {
        "colab": {
          "base_uri": "https://localhost:8080/"
        },
        "id": "JmMcluZ3nQAb",
        "outputId": "a5953e58-9e7c-435e-a278-8f5f2888127e"
      },
      "outputs": [
        {
          "output_type": "stream",
          "name": "stderr",
          "text": [
            "[Parallel(n_jobs=10)]: Using backend LokyBackend with 10 concurrent workers.\n",
            "[Parallel(n_jobs=10)]: Done   3 out of  10 | elapsed:  1.4min remaining:  3.2min\n"
          ]
        },
        {
          "output_type": "stream",
          "name": "stdout",
          "text": [
            "Mean Accuracy :  0.8189510559129882\n",
            "Standard Deviation Accuracy :  0.0006887731199274577\n"
          ]
        },
        {
          "output_type": "stream",
          "name": "stderr",
          "text": [
            "[Parallel(n_jobs=10)]: Done  10 out of  10 | elapsed:  2.7min finished\n"
          ]
        }
      ],
      "source": [
        "clf = cross_val_score(LogisticRegression(),X_train,y_train,cv=cv,scoring='accuracy', verbose = 2, n_jobs=10)\n",
        "print(\"Mean Accuracy : \", clf.mean())\n",
        "print(\"Standard Deviation Accuracy : \", clf.std())"
      ]
    },
    {
      "cell_type": "code",
      "execution_count": null,
      "metadata": {
        "id": "Wr1jQPC5nH51"
      },
      "outputs": [],
      "source": [
        "SVC = cross_val_score(SVC(),X_train,y_train,cv=cv,scoring='accuracy', verbose = 2, n_jobs=10)\n",
        "print(\"Mean Accuracy : \", SVC.mean())\n",
        "print(\"Standard Deviation Accuracy : \", SVC.std())"
      ]
    },
    {
      "cell_type": "markdown",
      "metadata": {
        "id": "DtdM4CiSWnjz"
      },
      "source": [
        "#### It's clear the best algorithm in this case is **XGBoost**"
      ]
    },
    {
      "cell_type": "code",
      "execution_count": 32,
      "metadata": {
        "id": "9Dc6jckVadXw"
      },
      "outputs": [],
      "source": [
        "# import packages for hyperparameters tuning\n",
        "from hyperopt import STATUS_OK, Trials, fmin, hp, tpe"
      ]
    },
    {
      "cell_type": "code",
      "execution_count": 33,
      "metadata": {
        "id": "S-NArz_8Xyig"
      },
      "outputs": [],
      "source": [
        "# Initialize domain space for range of values\n",
        "space={'max_depth': hp.quniform(\"max_depth\", 3, 18, 1),\n",
        "        'gamma': hp.uniform ('gamma', 1,9),\n",
        "        'reg_alpha' : hp.quniform('reg_alpha', 40,180,1),\n",
        "        'reg_lambda' : hp.uniform('reg_lambda', 0,1),\n",
        "        'colsample_bytree' : hp.uniform('colsample_bytree', 0.5,1),\n",
        "        'min_child_weight' : hp.quniform('min_child_weight', 0, 10, 1),\n",
        "        'n_estimators': 180,\n",
        "        'seed': 0\n",
        "    }"
      ]
    },
    {
      "cell_type": "code",
      "execution_count": 34,
      "metadata": {
        "id": "ZsKteyQgZz99"
      },
      "outputs": [],
      "source": [
        "# Define objective function\n",
        "\n",
        "from sklearn.metrics import confusion_matrix,accuracy_score\n",
        "def objective(space):\n",
        "    clf=XGBClassifier(\n",
        "                    n_estimators =space['n_estimators'], max_depth = int(space['max_depth']), gamma = space['gamma'],\n",
        "                    reg_alpha = int(space['reg_alpha']),min_child_weight=int(space['min_child_weight']),\n",
        "                    colsample_bytree=int(space['colsample_bytree']))\n",
        "    \n",
        "    evaluation = [( X_train, y_train), ( X_test, y_test)]\n",
        "    \n",
        "    clf.fit(X_train, y_train,\n",
        "            eval_set=evaluation, eval_metric=\"mlogloss\",\n",
        "            early_stopping_rounds=10,verbose=False)\n",
        "    \n",
        "\n",
        "    pred = clf.predict(X_test)\n",
        "    accuracy = accuracy_score(y_test, pred>0.5)\n",
        "    print (\"SCORE:\", accuracy)\n",
        "    return {'loss': -accuracy, 'status': STATUS_OK  }"
      ]
    },
    {
      "cell_type": "code",
      "execution_count": 35,
      "metadata": {
        "colab": {
          "base_uri": "https://localhost:8080/"
        },
        "id": "LJhAgxx5aP7o",
        "outputId": "0fb9a104-50b4-4274-dd64-1aec107610c0"
      },
      "outputs": [
        {
          "output_type": "stream",
          "name": "stdout",
          "text": [
            "SCORE:\n",
            "0.7619616510363778\n",
            "SCORE:\n",
            "0.7633205901678514\n",
            "SCORE:\n",
            "0.7620587181171973\n",
            "SCORE:\n",
            "0.761991517830476\n",
            "SCORE:\n",
            "0.7520832088883579\n",
            "SCORE:\n",
            "0.7646944626963742\n",
            "SCORE:\n",
            "0.7662400692909623\n",
            "SCORE:\n",
            "0.7626485873006391\n",
            "SCORE:\n",
            "0.7628800549549012\n",
            "SCORE:\n",
            "0.7637312585867033\n",
            "SCORE:\n",
            "0.7636640582999821\n",
            "SCORE:\n",
            "0.7657024669971926\n",
            "SCORE:\n",
            "0.7660384684307986\n",
            "SCORE:\n",
            "0.7633579236604743\n",
            "SCORE:\n",
            "0.7621109850068694\n",
            "SCORE:\n",
            "0.7617899169703124\n",
            "SCORE:\n",
            "0.7659414013499791\n",
            "SCORE:\n",
            "0.763006988829819\n",
            "SCORE:\n",
            "0.7626784540947374\n",
            "SCORE:\n",
            "0.763985126336539\n",
            "100%|██████████| 20/20 [30:59<00:00, 92.98s/it, best loss: -0.7662400692909623]\n"
          ]
        }
      ],
      "source": [
        "\n",
        "trials = Trials()\n",
        "\n",
        "best_hyperparams = fmin(fn = objective,\n",
        "                        space = space,\n",
        "                        algo = tpe.suggest,\n",
        "                        max_evals = 20,\n",
        "                        trials = trials)"
      ]
    },
    {
      "cell_type": "code",
      "source": [
        "best_hyperparams"
      ],
      "metadata": {
        "colab": {
          "base_uri": "https://localhost:8080/"
        },
        "id": "ahGBuvH1z82V",
        "outputId": "fccbe504-04cc-4756-e16f-3319f34d7dcb"
      },
      "execution_count": 44,
      "outputs": [
        {
          "output_type": "execute_result",
          "data": {
            "text/plain": [
              "{'colsample_bytree': 0.9415771855740308,\n",
              " 'gamma': 4.83111946316023,\n",
              " 'max_depth': 13.0,\n",
              " 'min_child_weight': 6.0,\n",
              " 'reg_alpha': 46.0,\n",
              " 'reg_lambda': 0.11353995179446696}"
            ]
          },
          "metadata": {},
          "execution_count": 44
        }
      ]
    },
    {
      "cell_type": "code",
      "execution_count": 43,
      "metadata": {
        "id": "SSS4FdlIcCb8"
      },
      "outputs": [],
      "source": [
        "clf=XGBClassifier( colsample_bytree =  0.9415771855740308,\n",
        "  gamma = 4.83111946316023,\n",
        " max_depth= 13,\n",
        " min_child_weight = 6,\n",
        " reg_alpha = 46,\n",
        " reg_lambda = 0.11353995179446696\n",
        "                    \n",
        "                    ).fit(X_train, y_train)"
      ]
    },
    {
      "cell_type": "markdown",
      "metadata": {
        "id": "JSt5jB21cCb8"
      },
      "source": [
        "#### doing prediction for specific custom data"
      ]
    },
    {
      "cell_type": "code",
      "execution_count": null,
      "metadata": {
        "id": "KDItRDWROJAK"
      },
      "outputs": [],
      "source": [
        ""
      ]
    },
    {
      "cell_type": "code",
      "execution_count": 45,
      "metadata": {
        "colab": {
          "base_uri": "https://localhost:8080/"
        },
        "id": "fejXTVZicCb8",
        "outputId": "a3ec0182-877b-46f4-b50f-03df696085ce"
      },
      "outputs": [
        {
          "output_type": "execute_result",
          "data": {
            "text/plain": [
              "2"
            ]
          },
          "metadata": {},
          "execution_count": 45
        }
      ],
      "source": [
        "dt=np.array(['%@123abcd'])\n",
        "pred=vectorizer.transform(dt)\n",
        "clf.predict(pred)[0]"
      ]
    },
    {
      "cell_type": "markdown",
      "metadata": {
        "id": "_4m0ok5acCb9"
      },
      "source": [
        "#### doing prediction on X-Test data"
      ]
    },
    {
      "cell_type": "code",
      "execution_count": 46,
      "metadata": {
        "colab": {
          "base_uri": "https://localhost:8080/"
        },
        "id": "lm8kGUaNcCb9",
        "outputId": "cf9c3e05-eb43-4388-9ff3-7faac5f77acd"
      },
      "outputs": [
        {
          "output_type": "execute_result",
          "data": {
            "text/plain": [
              "array([0, 1, 1, ..., 1, 2, 1])"
            ]
          },
          "metadata": {},
          "execution_count": 46
        }
      ],
      "source": [
        "y_pred=clf.predict(X_test)\n",
        "y_pred"
      ]
    },
    {
      "cell_type": "markdown",
      "metadata": {
        "id": "3CmOaC-xcCb9"
      },
      "source": [
        "#### check Accuracy of your model using confusion_matrix,accuracy_score"
      ]
    },
    {
      "cell_type": "code",
      "execution_count": 46,
      "metadata": {
        "id": "TSDV3T8hcCb9"
      },
      "outputs": [],
      "source": [
        ""
      ]
    },
    {
      "cell_type": "code",
      "execution_count": 47,
      "metadata": {
        "colab": {
          "base_uri": "https://localhost:8080/"
        },
        "id": "QRDtZJ37cCb9",
        "outputId": "58a5dfef-9ec7-4063-852d-200ffe340b27"
      },
      "outputs": [
        {
          "output_type": "stream",
          "name": "stdout",
          "text": [
            "[[15897  1999     1]\n",
            " [  598 98337   474]\n",
            " [    8   724 15890]]\n"
          ]
        }
      ],
      "source": [
        "cm=confusion_matrix(y_test,y_pred)\n",
        "print(cm)"
      ]
    },
    {
      "cell_type": "code",
      "execution_count": 48,
      "metadata": {
        "colab": {
          "base_uri": "https://localhost:8080/"
        },
        "id": "rN3VHq1PcCb9",
        "outputId": "31887ec3-2efb-4570-ab62-13e79d66601b"
      },
      "outputs": [
        {
          "output_type": "stream",
          "name": "stdout",
          "text": [
            "0.9715966788124962\n"
          ]
        }
      ],
      "source": [
        "print(accuracy_score(y_test,y_pred))"
      ]
    },
    {
      "cell_type": "markdown",
      "metadata": {
        "id": "ZEGc4FxHcCb9"
      },
      "source": [
        "##### create report of your model"
      ]
    },
    {
      "cell_type": "code",
      "execution_count": 49,
      "metadata": {
        "colab": {
          "base_uri": "https://localhost:8080/"
        },
        "id": "GBoFByLkcCb9",
        "outputId": "24d555de-7b90-4452-dcbc-93920abe92a4"
      },
      "outputs": [
        {
          "output_type": "stream",
          "name": "stdout",
          "text": [
            "              precision    recall  f1-score   support\n",
            "\n",
            "           0       0.96      0.89      0.92     17897\n",
            "           1       0.97      0.99      0.98     99409\n",
            "           2       0.97      0.96      0.96     16622\n",
            "\n",
            "    accuracy                           0.97    133928\n",
            "   macro avg       0.97      0.94      0.96    133928\n",
            "weighted avg       0.97      0.97      0.97    133928\n",
            "\n"
          ]
        }
      ],
      "source": [
        "from sklearn.metrics import classification_report,  plot_confusion_matrix\n",
        "\n",
        "print(classification_report(y_test,y_pred))"
      ]
    },
    {
      "cell_type": "markdown",
      "metadata": {
        "id": "o0nccDEuIMvT"
      },
      "source": [
        "### Saving Model"
      ]
    },
    {
      "cell_type": "code",
      "execution_count": 50,
      "metadata": {
        "id": "IaTEfyngjuyv"
      },
      "outputs": [],
      "source": [
        "import pickle"
      ]
    },
    {
      "cell_type": "code",
      "execution_count": 57,
      "metadata": {
        "id": "wB6baiKsIPPr"
      },
      "outputs": [],
      "source": [
        "import pickle\n",
        "with open ('password.pkl','wb') as f:\n",
        "    pickle.dump(clf,f)"
      ]
    },
    {
      "cell_type": "code",
      "execution_count": 58,
      "metadata": {
        "id": "_fqwnle3IQ0Y"
      },
      "outputs": [],
      "source": [
        "with open ('vect','wb') as f:\n",
        "    pickle.dump(vectorizer,f)"
      ]
    },
    {
      "cell_type": "code",
      "execution_count": 59,
      "metadata": {
        "id": "72BHYBKkISpM"
      },
      "outputs": [],
      "source": [
        "\n",
        "with open ('password.pkl','rb') as f:\n",
        "    model=pickle.load(f)"
      ]
    },
    {
      "cell_type": "code",
      "execution_count": 60,
      "metadata": {
        "id": "VW6JBsGIIVey"
      },
      "outputs": [],
      "source": [
        "with open ('vect','rb') as f:\n",
        "    tf=pickle.load(f)"
      ]
    },
    {
      "cell_type": "code",
      "execution_count": 61,
      "metadata": {
        "id": "sFAfpE-ZIaJq"
      },
      "outputs": [],
      "source": [
        "def predict(a):\n",
        "    x=tf.transform([a])\n",
        "    pre=model.predict(x)\n",
        "    return pre"
      ]
    },
    {
      "cell_type": "code",
      "execution_count": 62,
      "metadata": {
        "id": "p54w5T4jIeGZ",
        "colab": {
          "base_uri": "https://localhost:8080/"
        },
        "outputId": "8224f631-b622-4e02-8580-926f58fa1bf8"
      },
      "outputs": [
        {
          "output_type": "execute_result",
          "data": {
            "text/plain": [
              "1"
            ]
          },
          "metadata": {},
          "execution_count": 62
        }
      ],
      "source": [
        "x=predict('donkey@4419')\n",
        "x[0]"
      ]
    },
    {
      "cell_type": "code",
      "execution_count": null,
      "metadata": {
        "id": "5zSdszP1IfeS"
      },
      "outputs": [],
      "source": [
        ""
      ]
    }
  ],
  "metadata": {
    "colab": {
      "name": "NLP_Password_Strength_classifier.ipynb",
      "provenance": [],
      "include_colab_link": true
    },
    "kernelspec": {
      "display_name": "Python 3",
      "language": "python",
      "name": "python3"
    },
    "language_info": {
      "codemirror_mode": {
        "name": "ipython",
        "version": 3
      },
      "file_extension": ".py",
      "mimetype": "text/x-python",
      "name": "python",
      "nbconvert_exporter": "python",
      "pygments_lexer": "ipython3",
      "version": "3.7.4"
    }
  },
  "nbformat": 4,
  "nbformat_minor": 0
}