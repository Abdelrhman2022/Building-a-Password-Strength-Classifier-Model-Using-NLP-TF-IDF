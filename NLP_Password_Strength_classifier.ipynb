{
  "cells": [
    {
      "cell_type": "markdown",
      "metadata": {
        "id": "view-in-github",
        "colab_type": "text"
      },
      "source": [
        "<a href=\"https://colab.research.google.com/github/Abdelrhman2022/Password-Strength-Classifier-Model-Using-NLP-TF-IDF/blob/main/NLP_Password_Strength_classifier.ipynb\" target=\"_parent\"><img src=\"https://colab.research.google.com/assets/colab-badge.svg\" alt=\"Open In Colab\"/></a>"
      ]
    },
    {
      "cell_type": "code",
      "execution_count": 1,
      "metadata": {
        "colab": {
          "base_uri": "https://localhost:8080/"
        },
        "id": "eR_TsGq4dm8x",
        "outputId": "24787842-90df-4412-b5ec-0fcefc206113"
      },
      "outputs": [
        {
          "output_type": "stream",
          "name": "stdout",
          "text": [
            "Mounted at /content/drive\n"
          ]
        }
      ],
      "source": [
        "from google.colab import drive\n",
        "drive.mount('/content/drive')"
      ]
    },
    {
      "cell_type": "code",
      "execution_count": 2,
      "metadata": {
        "id": "g5M_TFY5cCby"
      },
      "outputs": [],
      "source": [
        "import pandas as pd\n",
        "import numpy as np\n",
        "import seaborn as sns\n",
        "import warnings\n",
        "warnings.filterwarnings('ignore')"
      ]
    },
    {
      "cell_type": "markdown",
      "metadata": {
        "id": "glckCf0RcCb0"
      },
      "source": [
        "#### REading dataset"
      ]
    },
    {
      "cell_type": "code",
      "execution_count": 3,
      "metadata": {
        "colab": {
          "base_uri": "https://localhost:8080/",
          "height": 278
        },
        "id": "kN4G3htpcCb1",
        "outputId": "68d07cd1-a542-42b5-ebbf-98de1a3bf74b"
      },
      "outputs": [
        {
          "output_type": "stream",
          "name": "stderr",
          "text": [
            "b'Skipping line 2810: expected 2 fields, saw 5\\nSkipping line 4641: expected 2 fields, saw 5\\nSkipping line 7171: expected 2 fields, saw 5\\nSkipping line 11220: expected 2 fields, saw 5\\nSkipping line 13809: expected 2 fields, saw 5\\nSkipping line 14132: expected 2 fields, saw 5\\nSkipping line 14293: expected 2 fields, saw 5\\nSkipping line 14865: expected 2 fields, saw 5\\nSkipping line 17419: expected 2 fields, saw 5\\nSkipping line 22801: expected 2 fields, saw 5\\nSkipping line 25001: expected 2 fields, saw 5\\nSkipping line 26603: expected 2 fields, saw 5\\nSkipping line 26742: expected 2 fields, saw 5\\nSkipping line 29702: expected 2 fields, saw 5\\nSkipping line 32767: expected 2 fields, saw 5\\nSkipping line 32878: expected 2 fields, saw 5\\nSkipping line 35643: expected 2 fields, saw 5\\nSkipping line 36550: expected 2 fields, saw 5\\nSkipping line 38732: expected 2 fields, saw 5\\nSkipping line 40567: expected 2 fields, saw 5\\nSkipping line 40576: expected 2 fields, saw 5\\nSkipping line 41864: expected 2 fields, saw 5\\nSkipping line 46861: expected 2 fields, saw 5\\nSkipping line 47939: expected 2 fields, saw 5\\nSkipping line 48628: expected 2 fields, saw 5\\nSkipping line 48908: expected 2 fields, saw 5\\nSkipping line 57582: expected 2 fields, saw 5\\nSkipping line 58782: expected 2 fields, saw 5\\nSkipping line 58984: expected 2 fields, saw 5\\nSkipping line 61518: expected 2 fields, saw 5\\nSkipping line 63451: expected 2 fields, saw 5\\nSkipping line 68141: expected 2 fields, saw 5\\nSkipping line 72083: expected 2 fields, saw 5\\nSkipping line 74027: expected 2 fields, saw 5\\nSkipping line 77811: expected 2 fields, saw 5\\nSkipping line 83958: expected 2 fields, saw 5\\nSkipping line 85295: expected 2 fields, saw 5\\nSkipping line 88665: expected 2 fields, saw 5\\nSkipping line 89198: expected 2 fields, saw 5\\nSkipping line 92499: expected 2 fields, saw 5\\nSkipping line 92751: expected 2 fields, saw 5\\nSkipping line 93689: expected 2 fields, saw 5\\nSkipping line 94776: expected 2 fields, saw 5\\nSkipping line 97334: expected 2 fields, saw 5\\nSkipping line 102316: expected 2 fields, saw 5\\nSkipping line 103421: expected 2 fields, saw 5\\nSkipping line 106872: expected 2 fields, saw 5\\nSkipping line 109363: expected 2 fields, saw 5\\nSkipping line 110117: expected 2 fields, saw 5\\nSkipping line 110465: expected 2 fields, saw 5\\nSkipping line 113843: expected 2 fields, saw 5\\nSkipping line 115634: expected 2 fields, saw 5\\nSkipping line 121518: expected 2 fields, saw 5\\nSkipping line 123692: expected 2 fields, saw 5\\nSkipping line 124708: expected 2 fields, saw 5\\nSkipping line 129608: expected 2 fields, saw 5\\nSkipping line 133176: expected 2 fields, saw 5\\nSkipping line 135532: expected 2 fields, saw 5\\nSkipping line 138042: expected 2 fields, saw 5\\nSkipping line 139485: expected 2 fields, saw 5\\nSkipping line 140401: expected 2 fields, saw 5\\nSkipping line 144093: expected 2 fields, saw 5\\nSkipping line 149850: expected 2 fields, saw 5\\nSkipping line 151831: expected 2 fields, saw 5\\nSkipping line 158014: expected 2 fields, saw 5\\nSkipping line 162047: expected 2 fields, saw 5\\nSkipping line 164515: expected 2 fields, saw 5\\nSkipping line 170313: expected 2 fields, saw 5\\nSkipping line 171325: expected 2 fields, saw 5\\nSkipping line 171424: expected 2 fields, saw 5\\nSkipping line 175920: expected 2 fields, saw 5\\nSkipping line 176210: expected 2 fields, saw 5\\nSkipping line 183603: expected 2 fields, saw 5\\nSkipping line 190264: expected 2 fields, saw 5\\nSkipping line 191683: expected 2 fields, saw 5\\nSkipping line 191988: expected 2 fields, saw 5\\nSkipping line 195450: expected 2 fields, saw 5\\nSkipping line 195754: expected 2 fields, saw 5\\nSkipping line 197124: expected 2 fields, saw 5\\nSkipping line 199263: expected 2 fields, saw 5\\nSkipping line 202603: expected 2 fields, saw 5\\nSkipping line 209960: expected 2 fields, saw 5\\nSkipping line 213218: expected 2 fields, saw 5\\nSkipping line 217060: expected 2 fields, saw 5\\nSkipping line 220121: expected 2 fields, saw 5\\nSkipping line 223518: expected 2 fields, saw 5\\nSkipping line 226293: expected 2 fields, saw 5\\nSkipping line 227035: expected 2 fields, saw 7\\nSkipping line 227341: expected 2 fields, saw 5\\nSkipping line 227808: expected 2 fields, saw 5\\nSkipping line 228516: expected 2 fields, saw 5\\nSkipping line 228733: expected 2 fields, saw 5\\nSkipping line 232043: expected 2 fields, saw 5\\nSkipping line 232426: expected 2 fields, saw 5\\nSkipping line 234490: expected 2 fields, saw 5\\nSkipping line 239626: expected 2 fields, saw 5\\nSkipping line 240461: expected 2 fields, saw 5\\nSkipping line 244518: expected 2 fields, saw 5\\nSkipping line 245395: expected 2 fields, saw 5\\nSkipping line 246168: expected 2 fields, saw 5\\nSkipping line 246655: expected 2 fields, saw 5\\nSkipping line 246752: expected 2 fields, saw 5\\nSkipping line 247189: expected 2 fields, saw 5\\nSkipping line 250276: expected 2 fields, saw 5\\nSkipping line 255327: expected 2 fields, saw 5\\nSkipping line 257094: expected 2 fields, saw 5\\n'\n",
            "b'Skipping line 264626: expected 2 fields, saw 5\\nSkipping line 265028: expected 2 fields, saw 5\\nSkipping line 269150: expected 2 fields, saw 5\\nSkipping line 271360: expected 2 fields, saw 5\\nSkipping line 273975: expected 2 fields, saw 5\\nSkipping line 274742: expected 2 fields, saw 5\\nSkipping line 276227: expected 2 fields, saw 5\\nSkipping line 279807: expected 2 fields, saw 5\\nSkipping line 283425: expected 2 fields, saw 5\\nSkipping line 287468: expected 2 fields, saw 5\\nSkipping line 292995: expected 2 fields, saw 5\\nSkipping line 293496: expected 2 fields, saw 5\\nSkipping line 293735: expected 2 fields, saw 5\\nSkipping line 295060: expected 2 fields, saw 5\\nSkipping line 296643: expected 2 fields, saw 5\\nSkipping line 296848: expected 2 fields, saw 5\\nSkipping line 308926: expected 2 fields, saw 5\\nSkipping line 310360: expected 2 fields, saw 5\\nSkipping line 317004: expected 2 fields, saw 5\\nSkipping line 318207: expected 2 fields, saw 5\\nSkipping line 331783: expected 2 fields, saw 5\\nSkipping line 333864: expected 2 fields, saw 5\\nSkipping line 335958: expected 2 fields, saw 5\\nSkipping line 336290: expected 2 fields, saw 5\\nSkipping line 343526: expected 2 fields, saw 5\\nSkipping line 343857: expected 2 fields, saw 5\\nSkipping line 344059: expected 2 fields, saw 5\\nSkipping line 348691: expected 2 fields, saw 5\\nSkipping line 353446: expected 2 fields, saw 5\\nSkipping line 357073: expected 2 fields, saw 5\\nSkipping line 359753: expected 2 fields, saw 5\\nSkipping line 359974: expected 2 fields, saw 5\\nSkipping line 366534: expected 2 fields, saw 5\\nSkipping line 369514: expected 2 fields, saw 5\\nSkipping line 377759: expected 2 fields, saw 5\\nSkipping line 379327: expected 2 fields, saw 5\\nSkipping line 380769: expected 2 fields, saw 5\\nSkipping line 381073: expected 2 fields, saw 5\\nSkipping line 381489: expected 2 fields, saw 5\\nSkipping line 386304: expected 2 fields, saw 5\\nSkipping line 387635: expected 2 fields, saw 5\\nSkipping line 389613: expected 2 fields, saw 5\\nSkipping line 392604: expected 2 fields, saw 5\\nSkipping line 393184: expected 2 fields, saw 5\\nSkipping line 395530: expected 2 fields, saw 5\\nSkipping line 396939: expected 2 fields, saw 5\\nSkipping line 397385: expected 2 fields, saw 5\\nSkipping line 397509: expected 2 fields, saw 5\\nSkipping line 402902: expected 2 fields, saw 5\\nSkipping line 405187: expected 2 fields, saw 5\\nSkipping line 408412: expected 2 fields, saw 5\\nSkipping line 419423: expected 2 fields, saw 5\\nSkipping line 420962: expected 2 fields, saw 5\\nSkipping line 425965: expected 2 fields, saw 5\\nSkipping line 427496: expected 2 fields, saw 5\\nSkipping line 438881: expected 2 fields, saw 5\\nSkipping line 439776: expected 2 fields, saw 5\\nSkipping line 440345: expected 2 fields, saw 5\\nSkipping line 445507: expected 2 fields, saw 5\\nSkipping line 445548: expected 2 fields, saw 5\\nSkipping line 447184: expected 2 fields, saw 5\\nSkipping line 448603: expected 2 fields, saw 5\\nSkipping line 451732: expected 2 fields, saw 5\\nSkipping line 458249: expected 2 fields, saw 5\\nSkipping line 460274: expected 2 fields, saw 5\\nSkipping line 467630: expected 2 fields, saw 5\\nSkipping line 473961: expected 2 fields, saw 5\\nSkipping line 476281: expected 2 fields, saw 5\\nSkipping line 478010: expected 2 fields, saw 5\\nSkipping line 478322: expected 2 fields, saw 5\\nSkipping line 479999: expected 2 fields, saw 5\\nSkipping line 480898: expected 2 fields, saw 5\\nSkipping line 481688: expected 2 fields, saw 5\\nSkipping line 485193: expected 2 fields, saw 5\\nSkipping line 485519: expected 2 fields, saw 5\\nSkipping line 486000: expected 2 fields, saw 5\\nSkipping line 489063: expected 2 fields, saw 5\\nSkipping line 494525: expected 2 fields, saw 5\\nSkipping line 495009: expected 2 fields, saw 5\\nSkipping line 501954: expected 2 fields, saw 5\\nSkipping line 508035: expected 2 fields, saw 5\\nSkipping line 508828: expected 2 fields, saw 5\\nSkipping line 509833: expected 2 fields, saw 5\\nSkipping line 510410: expected 2 fields, saw 5\\nSkipping line 518229: expected 2 fields, saw 5\\nSkipping line 520302: expected 2 fields, saw 5\\nSkipping line 520340: expected 2 fields, saw 5\\n'\n",
            "b'Skipping line 525174: expected 2 fields, saw 5\\nSkipping line 526251: expected 2 fields, saw 5\\nSkipping line 529611: expected 2 fields, saw 5\\nSkipping line 531398: expected 2 fields, saw 5\\nSkipping line 534146: expected 2 fields, saw 5\\nSkipping line 544954: expected 2 fields, saw 5\\nSkipping line 553002: expected 2 fields, saw 5\\nSkipping line 553883: expected 2 fields, saw 5\\nSkipping line 553887: expected 2 fields, saw 5\\nSkipping line 553915: expected 2 fields, saw 5\\nSkipping line 554172: expected 2 fields, saw 5\\nSkipping line 563534: expected 2 fields, saw 5\\nSkipping line 565191: expected 2 fields, saw 5\\nSkipping line 574108: expected 2 fields, saw 5\\nSkipping line 574412: expected 2 fields, saw 5\\nSkipping line 575985: expected 2 fields, saw 5\\nSkipping line 580091: expected 2 fields, saw 5\\nSkipping line 582682: expected 2 fields, saw 5\\nSkipping line 585885: expected 2 fields, saw 5\\nSkipping line 590171: expected 2 fields, saw 5\\nSkipping line 591924: expected 2 fields, saw 5\\nSkipping line 592515: expected 2 fields, saw 5\\nSkipping line 593888: expected 2 fields, saw 5\\nSkipping line 596245: expected 2 fields, saw 5\\nSkipping line 607344: expected 2 fields, saw 5\\nSkipping line 607633: expected 2 fields, saw 5\\nSkipping line 610939: expected 2 fields, saw 5\\nSkipping line 613638: expected 2 fields, saw 5\\nSkipping line 615643: expected 2 fields, saw 5\\nSkipping line 615901: expected 2 fields, saw 5\\nSkipping line 617389: expected 2 fields, saw 5\\nSkipping line 634641: expected 2 fields, saw 5\\nSkipping line 635755: expected 2 fields, saw 5\\nSkipping line 646243: expected 2 fields, saw 5\\nSkipping line 647165: expected 2 fields, saw 5\\nSkipping line 648610: expected 2 fields, saw 5\\nSkipping line 648772: expected 2 fields, saw 5\\nSkipping line 651833: expected 2 fields, saw 5\\nSkipping line 653663: expected 2 fields, saw 5\\nSkipping line 656233: expected 2 fields, saw 5\\nSkipping line 656694: expected 2 fields, saw 5\\nSkipping line 659783: expected 2 fields, saw 5\\nSkipping line 660478: expected 2 fields, saw 5\\nSkipping line 661133: expected 2 fields, saw 5\\nSkipping line 661736: expected 2 fields, saw 5\\nSkipping line 669827: expected 2 fields, saw 5\\n'\n"
          ]
        },
        {
          "output_type": "execute_result",
          "data": {
            "text/plain": [
              "      password  strength\n",
              "0     kzde5577         1\n",
              "1     kino3434         1\n",
              "2    visi7k1yr         1\n",
              "3     megzy123         1\n",
              "4  lamborghin1         1"
            ],
            "text/html": [
              "\n",
              "  <div id=\"df-1d6b472b-765b-4c19-9bd0-4437ab01f45f\">\n",
              "    <div class=\"colab-df-container\">\n",
              "      <div>\n",
              "<style scoped>\n",
              "    .dataframe tbody tr th:only-of-type {\n",
              "        vertical-align: middle;\n",
              "    }\n",
              "\n",
              "    .dataframe tbody tr th {\n",
              "        vertical-align: top;\n",
              "    }\n",
              "\n",
              "    .dataframe thead th {\n",
              "        text-align: right;\n",
              "    }\n",
              "</style>\n",
              "<table border=\"1\" class=\"dataframe\">\n",
              "  <thead>\n",
              "    <tr style=\"text-align: right;\">\n",
              "      <th></th>\n",
              "      <th>password</th>\n",
              "      <th>strength</th>\n",
              "    </tr>\n",
              "  </thead>\n",
              "  <tbody>\n",
              "    <tr>\n",
              "      <th>0</th>\n",
              "      <td>kzde5577</td>\n",
              "      <td>1</td>\n",
              "    </tr>\n",
              "    <tr>\n",
              "      <th>1</th>\n",
              "      <td>kino3434</td>\n",
              "      <td>1</td>\n",
              "    </tr>\n",
              "    <tr>\n",
              "      <th>2</th>\n",
              "      <td>visi7k1yr</td>\n",
              "      <td>1</td>\n",
              "    </tr>\n",
              "    <tr>\n",
              "      <th>3</th>\n",
              "      <td>megzy123</td>\n",
              "      <td>1</td>\n",
              "    </tr>\n",
              "    <tr>\n",
              "      <th>4</th>\n",
              "      <td>lamborghin1</td>\n",
              "      <td>1</td>\n",
              "    </tr>\n",
              "  </tbody>\n",
              "</table>\n",
              "</div>\n",
              "      <button class=\"colab-df-convert\" onclick=\"convertToInteractive('df-1d6b472b-765b-4c19-9bd0-4437ab01f45f')\"\n",
              "              title=\"Convert this dataframe to an interactive table.\"\n",
              "              style=\"display:none;\">\n",
              "        \n",
              "  <svg xmlns=\"http://www.w3.org/2000/svg\" height=\"24px\"viewBox=\"0 0 24 24\"\n",
              "       width=\"24px\">\n",
              "    <path d=\"M0 0h24v24H0V0z\" fill=\"none\"/>\n",
              "    <path d=\"M18.56 5.44l.94 2.06.94-2.06 2.06-.94-2.06-.94-.94-2.06-.94 2.06-2.06.94zm-11 1L8.5 8.5l.94-2.06 2.06-.94-2.06-.94L8.5 2.5l-.94 2.06-2.06.94zm10 10l.94 2.06.94-2.06 2.06-.94-2.06-.94-.94-2.06-.94 2.06-2.06.94z\"/><path d=\"M17.41 7.96l-1.37-1.37c-.4-.4-.92-.59-1.43-.59-.52 0-1.04.2-1.43.59L10.3 9.45l-7.72 7.72c-.78.78-.78 2.05 0 2.83L4 21.41c.39.39.9.59 1.41.59.51 0 1.02-.2 1.41-.59l7.78-7.78 2.81-2.81c.8-.78.8-2.07 0-2.86zM5.41 20L4 18.59l7.72-7.72 1.47 1.35L5.41 20z\"/>\n",
              "  </svg>\n",
              "      </button>\n",
              "      \n",
              "  <style>\n",
              "    .colab-df-container {\n",
              "      display:flex;\n",
              "      flex-wrap:wrap;\n",
              "      gap: 12px;\n",
              "    }\n",
              "\n",
              "    .colab-df-convert {\n",
              "      background-color: #E8F0FE;\n",
              "      border: none;\n",
              "      border-radius: 50%;\n",
              "      cursor: pointer;\n",
              "      display: none;\n",
              "      fill: #1967D2;\n",
              "      height: 32px;\n",
              "      padding: 0 0 0 0;\n",
              "      width: 32px;\n",
              "    }\n",
              "\n",
              "    .colab-df-convert:hover {\n",
              "      background-color: #E2EBFA;\n",
              "      box-shadow: 0px 1px 2px rgba(60, 64, 67, 0.3), 0px 1px 3px 1px rgba(60, 64, 67, 0.15);\n",
              "      fill: #174EA6;\n",
              "    }\n",
              "\n",
              "    [theme=dark] .colab-df-convert {\n",
              "      background-color: #3B4455;\n",
              "      fill: #D2E3FC;\n",
              "    }\n",
              "\n",
              "    [theme=dark] .colab-df-convert:hover {\n",
              "      background-color: #434B5C;\n",
              "      box-shadow: 0px 1px 3px 1px rgba(0, 0, 0, 0.15);\n",
              "      filter: drop-shadow(0px 1px 2px rgba(0, 0, 0, 0.3));\n",
              "      fill: #FFFFFF;\n",
              "    }\n",
              "  </style>\n",
              "\n",
              "      <script>\n",
              "        const buttonEl =\n",
              "          document.querySelector('#df-1d6b472b-765b-4c19-9bd0-4437ab01f45f button.colab-df-convert');\n",
              "        buttonEl.style.display =\n",
              "          google.colab.kernel.accessAllowed ? 'block' : 'none';\n",
              "\n",
              "        async function convertToInteractive(key) {\n",
              "          const element = document.querySelector('#df-1d6b472b-765b-4c19-9bd0-4437ab01f45f');\n",
              "          const dataTable =\n",
              "            await google.colab.kernel.invokeFunction('convertToInteractive',\n",
              "                                                     [key], {});\n",
              "          if (!dataTable) return;\n",
              "\n",
              "          const docLinkHtml = 'Like what you see? Visit the ' +\n",
              "            '<a target=\"_blank\" href=https://colab.research.google.com/notebooks/data_table.ipynb>data table notebook</a>'\n",
              "            + ' to learn more about interactive tables.';\n",
              "          element.innerHTML = '';\n",
              "          dataTable['output_type'] = 'display_data';\n",
              "          await google.colab.output.renderOutput(dataTable, element);\n",
              "          const docLink = document.createElement('div');\n",
              "          docLink.innerHTML = docLinkHtml;\n",
              "          element.appendChild(docLink);\n",
              "        }\n",
              "      </script>\n",
              "    </div>\n",
              "  </div>\n",
              "  "
            ]
          },
          "metadata": {},
          "execution_count": 3
        }
      ],
      "source": [
        "data=pd.read_csv('/content/drive/MyDrive/NLP_Password_Strength_classifier/data.csv',error_bad_lines=False)\n",
        "data.head()"
      ]
    },
    {
      "cell_type": "code",
      "execution_count": 4,
      "metadata": {
        "colab": {
          "base_uri": "https://localhost:8080/"
        },
        "id": "zzTZLXn4cCb2",
        "outputId": "c646ec14-1e56-4a28-82d9-6ba394e3877f"
      },
      "outputs": [
        {
          "output_type": "execute_result",
          "data": {
            "text/plain": [
              "array([1, 2, 0])"
            ]
          },
          "metadata": {},
          "execution_count": 4
        }
      ],
      "source": [
        "data['strength'].unique()\n"
      ]
    },
    {
      "cell_type": "markdown",
      "metadata": {
        "id": "9H8GU6L6cCb2"
      },
      "source": [
        "#### code to check all the missing values in my dataset"
      ]
    },
    {
      "cell_type": "code",
      "execution_count": 5,
      "metadata": {
        "colab": {
          "base_uri": "https://localhost:8080/"
        },
        "id": "qX26liDAcCb2",
        "outputId": "f3501841-f02a-4c1e-c3bc-5f9c530c905e"
      },
      "outputs": [
        {
          "output_type": "execute_result",
          "data": {
            "text/plain": [
              "password    1\n",
              "strength    0\n",
              "dtype: int64"
            ]
          },
          "metadata": {},
          "execution_count": 5
        }
      ],
      "source": [
        "data.isna().sum()"
      ]
    },
    {
      "cell_type": "code",
      "execution_count": 6,
      "metadata": {
        "colab": {
          "base_uri": "https://localhost:8080/",
          "height": 81
        },
        "id": "o4Zwqm0QcCb3",
        "outputId": "2e033a4f-d4b1-4bec-9299-9b525d425045"
      },
      "outputs": [
        {
          "output_type": "execute_result",
          "data": {
            "text/plain": [
              "       password  strength\n",
              "367579      NaN         0"
            ],
            "text/html": [
              "\n",
              "  <div id=\"df-3d080f08-1d43-4662-8254-ccfbe5870997\">\n",
              "    <div class=\"colab-df-container\">\n",
              "      <div>\n",
              "<style scoped>\n",
              "    .dataframe tbody tr th:only-of-type {\n",
              "        vertical-align: middle;\n",
              "    }\n",
              "\n",
              "    .dataframe tbody tr th {\n",
              "        vertical-align: top;\n",
              "    }\n",
              "\n",
              "    .dataframe thead th {\n",
              "        text-align: right;\n",
              "    }\n",
              "</style>\n",
              "<table border=\"1\" class=\"dataframe\">\n",
              "  <thead>\n",
              "    <tr style=\"text-align: right;\">\n",
              "      <th></th>\n",
              "      <th>password</th>\n",
              "      <th>strength</th>\n",
              "    </tr>\n",
              "  </thead>\n",
              "  <tbody>\n",
              "    <tr>\n",
              "      <th>367579</th>\n",
              "      <td>NaN</td>\n",
              "      <td>0</td>\n",
              "    </tr>\n",
              "  </tbody>\n",
              "</table>\n",
              "</div>\n",
              "      <button class=\"colab-df-convert\" onclick=\"convertToInteractive('df-3d080f08-1d43-4662-8254-ccfbe5870997')\"\n",
              "              title=\"Convert this dataframe to an interactive table.\"\n",
              "              style=\"display:none;\">\n",
              "        \n",
              "  <svg xmlns=\"http://www.w3.org/2000/svg\" height=\"24px\"viewBox=\"0 0 24 24\"\n",
              "       width=\"24px\">\n",
              "    <path d=\"M0 0h24v24H0V0z\" fill=\"none\"/>\n",
              "    <path d=\"M18.56 5.44l.94 2.06.94-2.06 2.06-.94-2.06-.94-.94-2.06-.94 2.06-2.06.94zm-11 1L8.5 8.5l.94-2.06 2.06-.94-2.06-.94L8.5 2.5l-.94 2.06-2.06.94zm10 10l.94 2.06.94-2.06 2.06-.94-2.06-.94-.94-2.06-.94 2.06-2.06.94z\"/><path d=\"M17.41 7.96l-1.37-1.37c-.4-.4-.92-.59-1.43-.59-.52 0-1.04.2-1.43.59L10.3 9.45l-7.72 7.72c-.78.78-.78 2.05 0 2.83L4 21.41c.39.39.9.59 1.41.59.51 0 1.02-.2 1.41-.59l7.78-7.78 2.81-2.81c.8-.78.8-2.07 0-2.86zM5.41 20L4 18.59l7.72-7.72 1.47 1.35L5.41 20z\"/>\n",
              "  </svg>\n",
              "      </button>\n",
              "      \n",
              "  <style>\n",
              "    .colab-df-container {\n",
              "      display:flex;\n",
              "      flex-wrap:wrap;\n",
              "      gap: 12px;\n",
              "    }\n",
              "\n",
              "    .colab-df-convert {\n",
              "      background-color: #E8F0FE;\n",
              "      border: none;\n",
              "      border-radius: 50%;\n",
              "      cursor: pointer;\n",
              "      display: none;\n",
              "      fill: #1967D2;\n",
              "      height: 32px;\n",
              "      padding: 0 0 0 0;\n",
              "      width: 32px;\n",
              "    }\n",
              "\n",
              "    .colab-df-convert:hover {\n",
              "      background-color: #E2EBFA;\n",
              "      box-shadow: 0px 1px 2px rgba(60, 64, 67, 0.3), 0px 1px 3px 1px rgba(60, 64, 67, 0.15);\n",
              "      fill: #174EA6;\n",
              "    }\n",
              "\n",
              "    [theme=dark] .colab-df-convert {\n",
              "      background-color: #3B4455;\n",
              "      fill: #D2E3FC;\n",
              "    }\n",
              "\n",
              "    [theme=dark] .colab-df-convert:hover {\n",
              "      background-color: #434B5C;\n",
              "      box-shadow: 0px 1px 3px 1px rgba(0, 0, 0, 0.15);\n",
              "      filter: drop-shadow(0px 1px 2px rgba(0, 0, 0, 0.3));\n",
              "      fill: #FFFFFF;\n",
              "    }\n",
              "  </style>\n",
              "\n",
              "      <script>\n",
              "        const buttonEl =\n",
              "          document.querySelector('#df-3d080f08-1d43-4662-8254-ccfbe5870997 button.colab-df-convert');\n",
              "        buttonEl.style.display =\n",
              "          google.colab.kernel.accessAllowed ? 'block' : 'none';\n",
              "\n",
              "        async function convertToInteractive(key) {\n",
              "          const element = document.querySelector('#df-3d080f08-1d43-4662-8254-ccfbe5870997');\n",
              "          const dataTable =\n",
              "            await google.colab.kernel.invokeFunction('convertToInteractive',\n",
              "                                                     [key], {});\n",
              "          if (!dataTable) return;\n",
              "\n",
              "          const docLinkHtml = 'Like what you see? Visit the ' +\n",
              "            '<a target=\"_blank\" href=https://colab.research.google.com/notebooks/data_table.ipynb>data table notebook</a>'\n",
              "            + ' to learn more about interactive tables.';\n",
              "          element.innerHTML = '';\n",
              "          dataTable['output_type'] = 'display_data';\n",
              "          await google.colab.output.renderOutput(dataTable, element);\n",
              "          const docLink = document.createElement('div');\n",
              "          docLink.innerHTML = docLinkHtml;\n",
              "          element.appendChild(docLink);\n",
              "        }\n",
              "      </script>\n",
              "    </div>\n",
              "  </div>\n",
              "  "
            ]
          },
          "metadata": {},
          "execution_count": 6
        }
      ],
      "source": [
        "data[data['password'].isnull()]"
      ]
    },
    {
      "cell_type": "code",
      "execution_count": 7,
      "metadata": {
        "id": "fYFLKPoLcCb3"
      },
      "outputs": [],
      "source": [
        "data.dropna(inplace=True)"
      ]
    },
    {
      "cell_type": "code",
      "execution_count": 8,
      "metadata": {
        "colab": {
          "base_uri": "https://localhost:8080/"
        },
        "id": "eHfODHJJcCb4",
        "outputId": "b2a0c440-a051-4ac7-d1f6-8443c95c5140"
      },
      "outputs": [
        {
          "output_type": "execute_result",
          "data": {
            "text/plain": [
              "password    0\n",
              "strength    0\n",
              "dtype: int64"
            ]
          },
          "metadata": {},
          "execution_count": 8
        }
      ],
      "source": [
        "data.isnull().sum()"
      ]
    },
    {
      "cell_type": "code",
      "execution_count": 9,
      "metadata": {
        "colab": {
          "base_uri": "https://localhost:8080/",
          "height": 279
        },
        "id": "D_gv91TtcCb4",
        "outputId": "d8dfda30-3391-4455-8b01-74dfe224ad65"
      },
      "outputs": [
        {
          "output_type": "display_data",
          "data": {
            "text/plain": [
              "<Figure size 432x288 with 1 Axes>"
            ],
            "image/png": "[encoded data removed]"
          },
          "metadata": {
            "needs_background": "light"
          }
        }
      ],
      "source": [
        "sns.countplot(data['strength']);"
      ]
    },
    {
      "cell_type": "code",
      "execution_count": 10,
      "metadata": {
        "id": "OcjTQlAgcCb4"
      },
      "outputs": [],
      "source": [
        "password_tuple=np.array(data)"
      ]
    },
    {
      "cell_type": "code",
      "execution_count": 11,
      "metadata": {
        "colab": {
          "base_uri": "https://localhost:8080/"
        },
        "id": "j1UfuygacCb4",
        "outputId": "153bf9a9-44c9-4dfe-827b-46e0ebe7c160"
      },
      "outputs": [
        {
          "output_type": "execute_result",
          "data": {
            "text/plain": [
              "array([['kzde5577', 1],\n",
              "       ['kino3434', 1],\n",
              "       ['visi7k1yr', 1],\n",
              "       ...,\n",
              "       ['184520socram', 1],\n",
              "       ['marken22a', 1],\n",
              "       ['fxx4pw4g', 1]], dtype=object)"
            ]
          },
          "metadata": {},
          "execution_count": 11
        }
      ],
      "source": [
        "password_tuple"
      ]
    },
    {
      "cell_type": "markdown",
      "metadata": {
        "id": "hstbLGsVcCb5"
      },
      "source": [
        "#### shuffling randomly for robustness"
      ]
    },
    {
      "cell_type": "code",
      "execution_count": 12,
      "metadata": {
        "id": "LNjga4CxcCb5"
      },
      "outputs": [],
      "source": [
        "import random\n",
        "random.shuffle(password_tuple)"
      ]
    },
    {
      "cell_type": "code",
      "execution_count": 13,
      "metadata": {
        "id": "UQwvMgNhcCb5"
      },
      "outputs": [],
      "source": [
        "x=[labels[0] for labels in password_tuple]\n",
        "y=[labels[1] for labels in password_tuple]\n"
      ]
    },
    {
      "cell_type": "code",
      "execution_count": 14,
      "metadata": {
        "colab": {
          "base_uri": "https://localhost:8080/"
        },
        "id": "nopy2sVgcCb5",
        "outputId": "cb4f4024-748f-4f13-81dc-175b876493b7"
      },
      "outputs": [
        {
          "output_type": "execute_result",
          "data": {
            "text/plain": [
              "['kzde5577',\n",
              " 'kino3434',\n",
              " 'visi7k1yr',\n",
              " 'visi7k1yr',\n",
              " 'kzde5577',\n",
              " 'kino3434',\n",
              " 'visi7k1yr',\n",
              " 'v1118714',\n",
              " 'v1118714',\n",
              " 'AVYq1lDE4MgAZfNt',\n",
              " 'megzy123',\n",
              " 'v1118714',\n",
              " 'kzde5577',\n",
              " 'megzy123',\n",
              " 'jerusalem393',\n",
              " 'kino3434',\n",
              " 'visi7k1yr',\n",
              " 'asv5o9yu',\n",
              " 'kino3434',\n",
              " 'g067057895',\n",
              " '6975038lp',\n",
              " 'kzde5577',\n",
              " 'lamborghin1',\n",
              " 'czuodhj972',\n",
              " 'czuodhj972',\n",
              " 'jytifok873',\n",
              " 'as326159',\n",
              " 'AVYq1lDE4MgAZfNt',\n",
              " 'WUt9IZzE0OQ7PkNE',\n",
              " 'megzy123',\n",
              " 'lamborghin1',\n",
              " '52558000aaa',\n",
              " 'faranumar91',\n",
              " 'cigicigi123',\n",
              " 'idofo673',\n",
              " 'kzde5577',\n",
              " 'kzde5577',\n",
              " 'as326159',\n",
              " 'exitos2009',\n",
              " 'fahad123',\n",
              " 'asgaliu11',\n",
              " 'jerusalem393',\n",
              " 'klara-tershina3H',\n",
              " 'memjan123',\n",
              " 'cigicigi123',\n",
              " 'prisonbreak1',\n",
              " '0169395484a',\n",
              " 'yitbos77',\n",
              " 'u6c8vhow',\n",
              " 'hpqkoxsn5',\n",
              " 'yqugu927',\n",
              " 'openup12',\n",
              " 'fk9qi21m',\n",
              " 'hpqkoxsn5',\n",
              " 'TyWM72UNEex8Q8Y',\n",
              " 'a2531106',\n",
              " 'idofo673',\n",
              " 'tamanagung6',\n",
              " 'a2531106',\n",
              " 'WUt9IZzE0OQ7PkNE',\n",
              " 'sbl571017',\n",
              " 'memjan123',\n",
              " 'cigicigi123',\n",
              " 'cigicigi123',\n",
              " 'czuodhj972',\n",
              " 'juliel009',\n",
              " 'ejeko677',\n",
              " '6975038lp',\n",
              " 'obstacle25',\n",
              " 'calcifer32',\n",
              " 'jerusalem393',\n",
              " 'b4NbTxDEyNgG141J',\n",
              " '6975038lp',\n",
              " 'fahad123',\n",
              " 'b4NbTxDEyNgG141J',\n",
              " 'AVYq1lDE4MgAZfNt',\n",
              " 'jerusalem393',\n",
              " 'kswa2mrv',\n",
              " '283671gus',\n",
              " 'lsdlsd1',\n",
              " 'pHyqueDIyNQ8vmhb',\n",
              " 'kswa2mrv',\n",
              " 'juliel009',\n",
              " 'openup12',\n",
              " 'sknq7m0',\n",
              " 'Iamthelegend1!',\n",
              " 'openup12',\n",
              " '612035180tok',\n",
              " 'idofo673',\n",
              " 'gdfn76',\n",
              " 'AVYq1lDE4MgAZfNt',\n",
              " 'g067057895',\n",
              " 'sbl571017',\n",
              " 'hayhayq2',\n",
              " 'AVYq1lDE4MgAZfNt',\n",
              " 'kzde5577',\n",
              " 'matiofox08',\n",
              " 'czuodhj972',\n",
              " 'k1k2k3k4k5k6',\n",
              " 'v1118714',\n",
              " '52558000aaa',\n",
              " 'cesarmaio1',\n",
              " 'juliana19',\n",
              " 'woon12',\n",
              " 'j09000',\n",
              " 'jalingo1',\n",
              " 'visi7k1yr',\n",
              " 'kVczcljg4OA25Aeb',\n",
              " 'tamanagung6',\n",
              " 's4m2dx9e6',\n",
              " 'kino3434',\n",
              " 'elyass15@ajilent-ci',\n",
              " 'c3h8bkzr',\n",
              " 'obstacle25',\n",
              " 'cigicigi123',\n",
              " 'tamanagung6',\n",
              " 'ejeko677',\n",
              " 'znbl5tj1',\n",
              " 'sbl571017',\n",
              " 'TyWM72UNEex8Q8Y',\n",
              " '2021848709.',\n",
              " 'memjan123',\n",
              " '12345yolanda',\n",
              " 'pikey231',\n",
              " 'hpqkoxsn5',\n",
              " 'megzy123',\n",
              " 'patri1973',\n",
              " 'intel1',\n",
              " 'zoobike04',\n",
              " 'gill02',\n",
              " 'RqsuUsDYxNgr8T40',\n",
              " '283671gus',\n",
              " 'farrukhcse12',\n",
              " 'g067057895',\n",
              " 'poseidon2011',\n",
              " 'bozoxik602',\n",
              " 'portales1',\n",
              " 'patri1973',\n",
              " '838188linh',\n",
              " 'rntprns7',\n",
              " 'b4NbTxDEyNgG141J',\n",
              " 'go7kew7a2po',\n",
              " '6975038lp',\n",
              " 'gaymaids1',\n",
              " 'yuri110995',\n",
              " 'khmer100.03278&?><Mnb',\n",
              " 'b4NbTxDEyNgG141J',\n",
              " 'intel1',\n",
              " 'hayhayq2',\n",
              " 'jerusalem393',\n",
              " 'kjkjkj1',\n",
              " 'hayhayq2',\n",
              " 'w9209640',\n",
              " '2010server',\n",
              " '6975038lp',\n",
              " 'AVYq1lDE4MgAZfNt',\n",
              " 'elyass15@ajilent-ci',\n",
              " 'bozoxik602',\n",
              " '6tequila6',\n",
              " 'as326159',\n",
              " 'go7kew7a2po',\n",
              " 'pikey231',\n",
              " 'yqugu927',\n",
              " 'kswa2mrv',\n",
              " '123maxbala',\n",
              " 'jalal123456',\n",
              " 'u6c8vhow',\n",
              " 'jerusalem393',\n",
              " 'mazdarx7',\n",
              " 'oekojWyH120063',\n",
              " 's4m2dx9e6',\n",
              " 'jerusalem393',\n",
              " 'znbl5tj1',\n",
              " 'cigicigi123',\n",
              " 'www32223222',\n",
              " 'fk9qi21m',\n",
              " '2fakjv',\n",
              " 'pato221182',\n",
              " 'cigicigi123',\n",
              " 'lamborghin1',\n",
              " 'finisterra1',\n",
              " 'visi7k1yr',\n",
              " 'teemteem97',\n",
              " 'WUt9IZzE0OQ7PkNE',\n",
              " 'qn5xpg3k00',\n",
              " 'ass359',\n",
              " 'bozoxik602',\n",
              " 'yk530mg8',\n",
              " '2yz4ewwg',\n",
              " 'finisterra1',\n",
              " 'tamanagung6',\n",
              " 'qn5xpg3k00',\n",
              " 'x8512514',\n",
              " 'z7zbgIDkzMQeHUd9',\n",
              " 'j09000',\n",
              " 'teste10',\n",
              " 'khmer100.03278&?><Mnb',\n",
              " 'a2531106',\n",
              " 'mohantra1',\n",
              " 'gill02',\n",
              " 'warriors08',\n",
              " '64959rodro',\n",
              " 'change201',\n",
              " 'ekufite742',\n",
              " 'prisonbreak1',\n",
              " 'ejeko677',\n",
              " 'polo2014',\n",
              " 'czuodhj972',\n",
              " 'sanki1',\n",
              " 'cesarmaio1',\n",
              " 'q0pv0fk',\n",
              " 'megzy123',\n",
              " 'poseidon2011',\n",
              " 'rogyh820',\n",
              " '2021848709.',\n",
              " 'universe2908',\n",
              " 'ebacuro434',\n",
              " 'robot425',\n",
              " 'mike09',\n",
              " '6975038lp',\n",
              " 'gkrqjs6',\n",
              " '123maxbala',\n",
              " 'nello11',\n",
              " 'sanki1',\n",
              " '4osxw4r',\n",
              " 'go7kew7a2po',\n",
              " 'cigicigi123',\n",
              " 'd04m11',\n",
              " 'g3rappa',\n",
              " 'c3h8bkzr',\n",
              " 'fk9qi21m',\n",
              " 's9830950044',\n",
              " 'ginger972',\n",
              " '2fakjv',\n",
              " 'barra23',\n",
              " 'lsdlsd1',\n",
              " 'meopvywk628',\n",
              " 's9830950044',\n",
              " 'kyxvufl37',\n",
              " 'elyass15@ajilent-ci',\n",
              " 'portales1',\n",
              " 'sasuke4',\n",
              " 'meopvywk628',\n",
              " '123net123',\n",
              " 'WUt9IZzE0OQ7PkNE',\n",
              " 'v1118714',\n",
              " 'xyws951753',\n",
              " 'as326159',\n",
              " 'gaymaids1',\n",
              " 'as326159',\n",
              " '123net123',\n",
              " '2yz4ewwg',\n",
              " 'z888888',\n",
              " '7942vikas',\n",
              " 'tomas7896',\n",
              " 'trabajonet9',\n",
              " 'tucagu356',\n",
              " 's4m2dx9e6',\n",
              " 'snolyuj04',\n",
              " 'mohantra1',\n",
              " 'juliana19',\n",
              " 'oekojWyH120063',\n",
              " 'juliel009',\n",
              " 'ok>bdk',\n",
              " 'idofo673',\n",
              " 'v1118714',\n",
              " 'gtlek',\n",
              " 'rogyh820',\n",
              " 'witek1709',\n",
              " 'pato221182',\n",
              " 'yitbos77',\n",
              " 'djngeyut2707',\n",
              " 'okn9zp9o',\n",
              " 'TyWM72UNEex8Q8Y',\n",
              " '6975038lp',\n",
              " 's9830950044',\n",
              " 'frhnsvelhfr1',\n",
              " '12345yolanda',\n",
              " 'portales1',\n",
              " 'hayhayq2',\n",
              " 'kikeq102',\n",
              " 'planes123',\n",
              " 'bugatti01',\n",
              " 'vehat387',\n",
              " '7942vikas',\n",
              " 'xW8-3w7-MFB-CKH',\n",
              " 'xW8-3w7-MFB-CKH',\n",
              " 'gill02',\n",
              " '12345yolanda',\n",
              " 'bugatti01',\n",
              " 'a2531106',\n",
              " 'zoobike04',\n",
              " '2010server',\n",
              " 'moimoimoi9',\n",
              " 'xlxlxl777',\n",
              " 'a03242241431a',\n",
              " 'kzde5577',\n",
              " 'tucagu356',\n",
              " 'matiofox08',\n",
              " 'tamanagung6',\n",
              " 'a2531106',\n",
              " 'owote852',\n",
              " 'woon12',\n",
              " 'jalingo1',\n",
              " 'k1k2k3k4k5k6',\n",
              " 'c3h8bkzr',\n",
              " 'aquhih220',\n",
              " '123net123',\n",
              " 'a2531106',\n",
              " 'rntprns7',\n",
              " 'd04m11',\n",
              " 'jytifok873',\n",
              " 'hqh2eYjQxOQPYIsA',\n",
              " 'snolyuj04',\n",
              " 'patri1973',\n",
              " 'y0unus',\n",
              " 'damyvo114',\n",
              " 'juliana19',\n",
              " 'moken7',\n",
              " '1972vishara',\n",
              " 'kino3434',\n",
              " 'samael666',\n",
              " 'damyvo114',\n",
              " 'd4xQ3LjUwMQFVCYQ',\n",
              " 'WUt9IZzE0OQ7PkNE',\n",
              " 'k9b8cz6aj2',\n",
              " '3CgRg8DA1NQY1iEj',\n",
              " 'idofo673',\n",
              " 'saule123',\n",
              " 'virush1n1',\n",
              " 'warriors08',\n",
              " 'robot425',\n",
              " 'mazdarx7',\n",
              " 'sasuke4',\n",
              " 'metopelo1623',\n",
              " 'kyxvufl37',\n",
              " 'q0pv0fk',\n",
              " 'colorado27',\n",
              " 'meriton23',\n",
              " 'wxS2ztDk4OATjBfI',\n",
              " 'intel1',\n",
              " '1972vishara',\n",
              " 'olmaz.',\n",
              " 'sebo82',\n",
              " 'sasuke4',\n",
              " 'faranumar91',\n",
              " 'han19660120',\n",
              " 'd04m11',\n",
              " 'fk9qi21m',\n",
              " 'denise18',\n",
              " 'alchimie79',\n",
              " '52558000aaa',\n",
              " 'balamuc123',\n",
              " 'wibi182d',\n",
              " 'gdfn76',\n",
              " 'yu86640132',\n",
              " 'damyvo114',\n",
              " 'jytifok873',\n",
              " 'v10rica',\n",
              " 'xyws951753',\n",
              " 'fnmsdha476',\n",
              " 'nK0yKXTU0NQHZE2e',\n",
              " 'ejeko677',\n",
              " 'mario489800',\n",
              " 'pazzini24',\n",
              " 'franczuk33',\n",
              " 'kikeq102',\n",
              " '3y6iwef2g6',\n",
              " 'kuntz80',\n",
              " 'khurram_',\n",
              " '123nicole',\n",
              " 'klara-tershina3H',\n",
              " 'lzhzad1989',\n",
              " 'nello11',\n",
              " 'kswa2mrv',\n",
              " 'nokia6020',\n",
              " 'g067057895',\n",
              " 'saule123',\n",
              " 'sebo82',\n",
              " 'vietnga92',\n",
              " 'xW8-3w7-MFB-CKH',\n",
              " 'owote852',\n",
              " 's4m2dx9e6',\n",
              " 'ldteugao6',\n",
              " 'webstudio8',\n",
              " 'buqodym199',\n",
              " 'matiz4533',\n",
              " 'mazdarx7',\n",
              " 'zoobike04',\n",
              " 'kunyukbabi69',\n",
              " 'marita1',\n",
              " 'rogyh820',\n",
              " 'b4NbTxDEyNgG141J',\n",
              " 'beijing168',\n",
              " 'franczuk33',\n",
              " 'seller1',\n",
              " 'mickael12',\n",
              " '4fqa52vecr',\n",
              " 'czuodhj972',\n",
              " 'bencike7',\n",
              " 'megzy123',\n",
              " 'u6c8vhow',\n",
              " 'ebogel225',\n",
              " 'elyass15@ajilent-ci',\n",
              " 'denise18',\n",
              " 'teste10',\n",
              " 'mike09',\n",
              " 'webstudio8',\n",
              " 'holamundo1',\n",
              " 'sarahi1628',\n",
              " 'rntprns7',\n",
              " 'sbaUsoTA1OAzuevI',\n",
              " 'atigi839',\n",
              " 'mathilde54550',\n",
              " 'ekufite742',\n",
              " 'terrassa6',\n",
              " 'terrassa6',\n",
              " 'hisnipes1',\n",
              " '6yy6yy',\n",
              " 'cockw0mble',\n",
              " 'kswa2mrv',\n",
              " 'gozv3e5',\n",
              " 'JEQuloqOFUd102',\n",
              " 'demon10',\n",
              " 'oekojWyH120063',\n",
              " 'sarahi1628',\n",
              " 'planes123',\n",
              " 'wuzyci421',\n",
              " 'mohantra1',\n",
              " 'wo9aiwangyan',\n",
              " 'rntprns7',\n",
              " 'ts34a3fodh3i',\n",
              " 'sarahi1628',\n",
              " 'rakag279',\n",
              " 'kenneth610',\n",
              " '52558000aaa',\n",
              " '123net123',\n",
              " '215466kenyi',\n",
              " '2010server',\n",
              " 'faranumar91',\n",
              " 'grazi0201',\n",
              " '746xitEGiqObog',\n",
              " 'enziitoo1234',\n",
              " 'XqMB7vDMzOQocAFV',\n",
              " 'jEzZXUTE3MgJ4fVk',\n",
              " 'seng987321',\n",
              " '20010509wang',\n",
              " 'sw10d014',\n",
              " 'd04m11',\n",
              " 'cdann123',\n",
              " 'cUFUSYKIPuGo024',\n",
              " 'ocadezi586',\n",
              " 'gozv3e5',\n",
              " 'uou2dae',\n",
              " 'ajyrew547',\n",
              " 'aslpls2009',\n",
              " 'osimeytju12',\n",
              " 'killer5',\n",
              " 'wisal1234',\n",
              " 'aslanmarco007',\n",
              " 'bencike7',\n",
              " 'gozv3e5',\n",
              " 'sofietou74',\n",
              " 'y0unus',\n",
              " 'grazi0201',\n",
              " 'kyodai666',\n",
              " 'jonothepoop1',\n",
              " '1972vishara',\n",
              " 'beijing168',\n",
              " 'portales1',\n",
              " 'icap12',\n",
              " 'aosmaxd0',\n",
              " 'servbot88',\n",
              " 'elonex24',\n",
              " 'icap12',\n",
              " 'mickael12',\n",
              " 'denise18',\n",
              " '26522876p',\n",
              " 'sbaUsoTA1OAzuevI',\n",
              " 'terrassa6',\n",
              " 'kikeq102',\n",
              " 'hqh2eYjQxOQPYIsA',\n",
              " 'wo9aiwangyan',\n",
              " 'yut0838828185',\n",
              " 'a03242241431a',\n",
              " 'kabrito1',\n",
              " 'gerardway1',\n",
              " '7942vikas',\n",
              " 'omakiva153',\n",
              " 'RqsuUsDYxNgr8T40',\n",
              " 'a2531106',\n",
              " 'x0004534',\n",
              " 'pekai2004',\n",
              " 'yzxwvgbdu503',\n",
              " 'afs34214',\n",
              " 'autan88',\n",
              " 'universe2908',\n",
              " 'ram@!sita15392',\n",
              " 'mmm23mm',\n",
              " 'robot425',\n",
              " 'taurofive16',\n",
              " '4TXr5KDYxNQVTo4g',\n",
              " 'senghong2009',\n",
              " 'pablo321159',\n",
              " 'PEPITO00',\n",
              " 'AVYq1lDE4MgAZfNt',\n",
              " '07dpv1127b',\n",
              " 'viri13',\n",
              " 'hisnipes1',\n",
              " 'kevin24',\n",
              " 'AS0130066',\n",
              " 'oekojWyH120063',\n",
              " 'zidadoh258',\n",
              " 'sbaUsoTA1OAzuevI',\n",
              " 'X9WVojjE4MgVAIiR',\n",
              " 'jalal123456',\n",
              " 'novelia21',\n",
              " 'meriton23',\n",
              " 'a2531106',\n",
              " 'fk9qi21m',\n",
              " 'desmondkok21',\n",
              " 'zidadoh258',\n",
              " 'openup12',\n",
              " 'moimoimoi9',\n",
              " 'yk530mg8',\n",
              " 'sarahi1628',\n",
              " 'puegwajy416',\n",
              " 'gkrqjs6',\n",
              " 'lofebop480',\n",
              " 'hola45',\n",
              " 'snolyuj04',\n",
              " 'aquhih220',\n",
              " 'yu86640132',\n",
              " 'seller1',\n",
              " '64whbrb351',\n",
              " 'pato221182',\n",
              " 'cerner09',\n",
              " '123nicole',\n",
              " 'YADHJIGSAWS11',\n",
              " 'zgmfnwuq25',\n",
              " '1991vikash',\n",
              " 'YADHJIGSAWS11',\n",
              " 'sbl571017',\n",
              " 'purpledog1992',\n",
              " 'memjan123',\n",
              " 'lymuvop730',\n",
              " 'gozv3e5',\n",
              " 'ebogel225',\n",
              " 'gvczfel801',\n",
              " 'gill02',\n",
              " 'woon12',\n",
              " 'farrukhcse12',\n",
              " 'matiofox08',\n",
              " 'vardhan19',\n",
              " 'pugceya468',\n",
              " 'afavin964',\n",
              " 'colorado27',\n",
              " 'asgaliu11',\n",
              " 't8IkFRDIxMAFV2JW',\n",
              " 'weicat12',\n",
              " 'ga98SIzk0NwhiZaE',\n",
              " 'balamuc123',\n",
              " 'p@sslng2diword',\n",
              " 'matiofox08',\n",
              " 'parent777',\n",
              " 'khaled12',\n",
              " 'v1118714',\n",
              " 'den019520',\n",
              " 'Scipio21152030067254',\n",
              " 'schalke04',\n",
              " '600eretz',\n",
              " 'mickael12',\n",
              " 'sergius1964',\n",
              " 'AVYq1lDE4MgAZfNt',\n",
              " 'nello11',\n",
              " 'franczuk33',\n",
              " 'moimoimoi9',\n",
              " 'josue12',\n",
              " 'whosdabest1',\n",
              " 'qefoquf1uf',\n",
              " 'kzde5577',\n",
              " '72o0yzekib4',\n",
              " 'y0unus',\n",
              " '12345yolanda',\n",
              " 'acetita478',\n",
              " 'demon10',\n",
              " 'butisugo39',\n",
              " 'afavin964',\n",
              " 'nicolas05',\n",
              " 'obstacle25',\n",
              " '4fqa52vecr',\n",
              " 'd4xQ3LjUwMQFVCYQ',\n",
              " 'acgyj188',\n",
              " 'PEPITO00',\n",
              " 'jsm159167',\n",
              " 'woon12',\n",
              " 'wycinu436',\n",
              " '929865yt',\n",
              " 'yllime123',\n",
              " 'alchimie79',\n",
              " 'hola45',\n",
              " 'pHyqueDIyNQ8vmhb',\n",
              " 'buqodym199',\n",
              " 'han19660120',\n",
              " 'pardalgg5',\n",
              " 'sysoja794',\n",
              " 'AVYq1lDE4MgAZfNt',\n",
              " 'lugerp08',\n",
              " 'klara-tershina3H',\n",
              " 'oscar69',\n",
              " 'weicat12',\n",
              " '9950twofour0',\n",
              " 'zidadoh258',\n",
              " '1972vishara',\n",
              " 'gaymaids1',\n",
              " '147963asd',\n",
              " 'jbtcnd6',\n",
              " 'taiga0088',\n",
              " '4lgYVfzk1MwuzHcn',\n",
              " 'z3ro1sm',\n",
              " '5874813o',\n",
              " 'il0vey0u',\n",
              " 'pikey231',\n",
              " '23deagosto',\n",
              " 'itengf12',\n",
              " 'pikey231',\n",
              " 'calcifer32',\n",
              " 'sbnivetha123',\n",
              " 'taiga0088',\n",
              " 'nhiannei040',\n",
              " '746xitEGiqObog',\n",
              " 'wuzsadav933',\n",
              " 'Herzberg@ABBOTT33656888commerce',\n",
              " 'qefoquf1uf',\n",
              " 's0xwym7h',\n",
              " 'meriton23',\n",
              " 'calcifer32',\n",
              " 'caramelo9',\n",
              " 'pablo321159',\n",
              " 'pekai2004',\n",
              " '19840510kkk1',\n",
              " 'webstudio8',\n",
              " 'lsdlsd1',\n",
              " 'enziitoo1234',\n",
              " 'ikanez886',\n",
              " 'hayhayq2',\n",
              " 'metopelo1623',\n",
              " 'uziwocy148',\n",
              " 'rrilni1747',\n",
              " 'DTUQG5jU5MwmR1L9',\n",
              " 'z888888',\n",
              " 'gohan2602',\n",
              " 'nK0yKXTU0NQHZE2e',\n",
              " 'aosmaxd0',\n",
              " 'poluxyj32',\n",
              " '2yz4ewwg',\n",
              " 'mark11',\n",
              " 'juliana19',\n",
              " 'a2486315',\n",
              " 'robot425',\n",
              " 'pr0f1s10',\n",
              " 'BsKbJHTY4NgesCOs',\n",
              " 'bgrvl80',\n",
              " 'coy29061994',\n",
              " 'overlord3127',\n",
              " 'czuodhj972',\n",
              " 'edcmki90',\n",
              " 'meopvywk628',\n",
              " 'klara-tershina3H',\n",
              " 'taccy12',\n",
              " 'fudijep286',\n",
              " '4fqa52vecr',\n",
              " 'bozoxik602',\n",
              " 'BsKbJHTY4NgesCOs',\n",
              " 'xtswdypgh936',\n",
              " 'kunyukbabi69',\n",
              " 'hylefup708',\n",
              " 'coy29061994',\n",
              " 'iubat09',\n",
              " 'aslpls2009',\n",
              " 'Staterkom20081993',\n",
              " 't8IkFRDIxMAFV2JW',\n",
              " 'sergius1964',\n",
              " 'ebacuro434',\n",
              " 'Scipio21152030067254',\n",
              " 'Iamthelegend1!',\n",
              " 'DTUQG5jU5MwmR1L9',\n",
              " 'tahseen75',\n",
              " 'kyxvufl37',\n",
              " 'p3rf3ct0',\n",
              " 'cristiano7',\n",
              " 'luthien123',\n",
              " 'lugerp08',\n",
              " 'y0unus',\n",
              " '20Dgw7TQ0OQVdly7',\n",
              " 'p0lp0l',\n",
              " 'tukaxo486',\n",
              " 'Oshity07142014',\n",
              " 'speedracer10',\n",
              " 'nhfdff2512',\n",
              " 'webhost08',\n",
              " 'ahibyg892',\n",
              " '2021848709.',\n",
              " 'BZVQZBTM1MApRV7s',\n",
              " 'v1118714',\n",
              " 'taulant123',\n",
              " '0VKWoODkwOAc0pZK',\n",
              " 'hamqrc6',\n",
              " 'kdl9cl53',\n",
              " 'woogee04',\n",
              " 'j09000',\n",
              " 'patri1973',\n",
              " '33kanun03',\n",
              " 'arigato3',\n",
              " 'm4r4hne',\n",
              " '123456ts',\n",
              " 'bc5e4vca',\n",
              " 'twil8x0',\n",
              " '5874813o',\n",
              " 'papasito1991',\n",
              " 'L2i2ZwTg1MQajeBm',\n",
              " 'butisugo39',\n",
              " '929865yt',\n",
              " 'tspirits08',\n",
              " '248sUqiFEJuRag',\n",
              " '248sUqiFEJuRag',\n",
              " 'satelite31',\n",
              " 'sbl571017',\n",
              " 'graciela2',\n",
              " 'xp;ysmybst',\n",
              " 'LypOJUfuLYrO477',\n",
              " 'galoucura1',\n",
              " 'khaled12',\n",
              " 'p0lp0l',\n",
              " 'tuto0378',\n",
              " 'stalucia66',\n",
              " 'woaini0',\n",
              " 'kabrito1',\n",
              " 'ydkmujrze3',\n",
              " 'pekai2004',\n",
              " '2akira2',\n",
              " '0870330135a',\n",
              " 'regodib479',\n",
              " 'ginger972',\n",
              " '123456rajput',\n",
              " 'y0unus',\n",
              " 'ab11223344',\n",
              " 'X9WVojjE4MgVAIiR',\n",
              " 'ikanez886',\n",
              " 'p2share',\n",
              " '20Dgw7TQ0OQVdly7',\n",
              " 'xanyrum650',\n",
              " 'ukyzopi369',\n",
              " 'sha122511',\n",
              " 'padhila30',\n",
              " 'yitbos77',\n",
              " 'gozv3e5',\n",
              " 'itengf12',\n",
              " 'acgyj188',\n",
              " 'sandra0547',\n",
              " 'gill02',\n",
              " 'mike09',\n",
              " '030005qw',\n",
              " 'krishna2',\n",
              " 'junaid5',\n",
              " 'kenneth610',\n",
              " 'linhna288',\n",
              " 'nello11',\n",
              " 'housefly74',\n",
              " 'v10rica',\n",
              " 'cristiano7',\n",
              " 'tin030201',\n",
              " 'teste10',\n",
              " 'a1233210',\n",
              " '0123one47',\n",
              " 'X34y2CzY5MACs6kp',\n",
              " 'oekojWyH120063',\n",
              " 'hpqkoxsn5',\n",
              " 'yhwbzci130',\n",
              " '123net123',\n",
              " 'amandine666',\n",
              " 'weicat12',\n",
              " '6tequila6',\n",
              " 'xzeyfbi495',\n",
              " 'failz0r',\n",
              " 'kah4544875',\n",
              " 'alodise603',\n",
              " 'www32223222',\n",
              " 'diarie1',\n",
              " 'iubat09',\n",
              " 'pastorius88',\n",
              " 'wuzsadav933',\n",
              " 'kzde5577',\n",
              " 'v1118714',\n",
              " '64959rodro',\n",
              " 'khurram_',\n",
              " '1245386fj',\n",
              " 'carla99',\n",
              " 'linhna288',\n",
              " 'uziwocy148',\n",
              " 'woon12',\n",
              " 'yut0838828185',\n",
              " 'iacool99',\n",
              " '0112358mayin0',\n",
              " 'mialr325',\n",
              " 'm4r4hne',\n",
              " 'z888888',\n",
              " 'bafiqkxwu0',\n",
              " 'zoblin80',\n",
              " 'meopvywk628',\n",
              " 'yami12',\n",
              " 'ejeko677',\n",
              " 'diarie1',\n",
              " 'clave2013',\n",
              " 'IjUcOtYqAwel725',\n",
              " 'juliel009',\n",
              " 'peter04',\n",
              " 'x0004534',\n",
              " '64whbrb351',\n",
              " 'witek1709',\n",
              " 'rogama69',\n",
              " 'AS0130066',\n",
              " 'k9b8cz6aj2',\n",
              " 'qefoquf1uf',\n",
              " 'DRAGON25',\n",
              " 'vocal0619',\n",
              " 'c3h8bkzr',\n",
              " 'Iamthelegend1!',\n",
              " 'lzhzad1989',\n",
              " 'PEPITO00',\n",
              " 'rsuvxz08b',\n",
              " 'kyxvufl37',\n",
              " '1qa2ws3ed4r',\n",
              " 'ilunia20',\n",
              " 'kswa2mrv',\n",
              " '05bumd',\n",
              " 'ashaii12',\n",
              " 'in595462',\n",
              " 'moimoimoi9',\n",
              " 'uxyloga692',\n",
              " 'isqizkg1',\n",
              " 'matiofox08',\n",
              " 'bellsuki1',\n",
              " 'matiz4533',\n",
              " 'IP1yaTDUzOQWAeI5',\n",
              " '838188linh',\n",
              " 'galoucura1',\n",
              " 'tiga33',\n",
              " 'tiga33',\n",
              " 'ebogel225',\n",
              " 'clyioqzgw42',\n",
              " 'Scipio21152030067254',\n",
              " 'gopal8420',\n",
              " '0VKWoODkwOAc0pZK',\n",
              " 'tomas7896',\n",
              " 'graciela2',\n",
              " 'kitty555',\n",
              " 'ryjypes139',\n",
              " 'kunyukbabi69',\n",
              " 'gopal8420',\n",
              " 'finisterra1',\n",
              " '26522876p',\n",
              " 'topgan22',\n",
              " 'ga98SIzk0NwhiZaE',\n",
              " 'jUV4dSDQwNwPpA36',\n",
              " 'exusop649',\n",
              " 'zeitgeist1',\n",
              " 'patty94',\n",
              " '7l1hu1xa',\n",
              " 'mmm23mm',\n",
              " 'hello2104',\n",
              " 'aosmaxd0',\n",
              " 'gutergut599',\n",
              " 'amandine666',\n",
              " 'mashhood_afzal21087',\n",
              " 'kah4544875',\n",
              " '147963asd',\n",
              " 'taulant123',\n",
              " 'tspirits08',\n",
              " 'ixehawojEPe418',\n",
              " 'd4xQ3LjUwMQFVCYQ',\n",
              " 'pikey231',\n",
              " 'autan88',\n",
              " '1katertje',\n",
              " 'bencike7',\n",
              " 'yut0838828185',\n",
              " 'ok>bdk',\n",
              " '69556236gu',\n",
              " 'pugceya468',\n",
              " 'u03kz6ez',\n",
              " 'luthien123',\n",
              " 'senghong2009',\n",
              " 'yjuqseb416',\n",
              " 'ezekiel720',\n",
              " 'WUt9IZzE0OQ7PkNE',\n",
              " 'ram@!sita15392',\n",
              " 'iacool99',\n",
              " 'eVl19ADIxNAmU09N',\n",
              " 'w1ll1ams',\n",
              " 'qefoquf1uf',\n",
              " '9h7v4z91',\n",
              " 'warriors08',\n",
              " 'xW8-3w7-MFB-CKH',\n",
              " 'cribrot1200',\n",
              " '123nicole',\n",
              " 'ydd45ee',\n",
              " 'wuzyci421',\n",
              " 'juliana00',\n",
              " 'portales1',\n",
              " '847XagYxUHUXOW',\n",
              " 'gracimir87',\n",
              " 'j2yj2yj2y',\n",
              " 'r0cker',\n",
              " 'walterivl13',\n",
              " 'bagdas2011',\n",
              " 'ykfums1',\n",
              " 'uxyloga692',\n",
              " 'Iamthelegend1!',\n",
              " 'labarge1',\n",
              " 'berserk18',\n",
              " 'jorge1489',\n",
              " '123charger',\n",
              " '1ngaymuadong',\n",
              " 'examy624',\n",
              " 'il0vey0u',\n",
              " 'ilonu497',\n",
              " 'alchimie79',\n",
              " 'Zanekurosak10%',\n",
              " 'ivanxl33t010',\n",
              " '123456ts',\n",
              " 'rogama69',\n",
              " '101010hadis',\n",
              " 'guliotth82',\n",
              " 'cxZLmFDYwNA1lUK9',\n",
              " 'seng987321',\n",
              " 'graciela2',\n",
              " 'XqMB7vDMzOQocAFV',\n",
              " '4XakB8TkzOQWCS7Y',\n",
              " 'woon12',\n",
              " 'hodaq103',\n",
              " 'oatcake87',\n",
              " 'oscar2002',\n",
              " 'a03242241431a',\n",
              " 'den019520',\n",
              " 'afs34214',\n",
              " '159951josh',\n",
              " 'synyxyr723',\n",
              " 'yu4cmn',\n",
              " 'fr8OClDY1MAdEhHa',\n",
              " 'matiofox08',\n",
              " 'WUt9IZzE0OQ7PkNE',\n",
              " 'WUt9IZzE0OQ7PkNE',\n",
              " 'groster152',\n",
              " '01161590m',\n",
              " '52756652a',\n",
              " 'medebizu3',\n",
              " 'change201',\n",
              " 'gutergut599',\n",
              " 'tim80327',\n",
              " 'urban1',\n",
              " 'novelia21',\n",
              " 'potatobus150',\n",
              " 'paladinas1',\n",
              " 'deivid1991',\n",
              " 'mustang337',\n",
              " 'c3h8bkzr',\n",
              " 'barra23',\n",
              " 'paul2007',\n",
              " '10Elgei1ygybpw',\n",
              " 'sydney213',\n",
              " 'umetic21',\n",
              " 'kdl9cl53',\n",
              " 'hylefup708',\n",
              " '4fqa52vecr',\n",
              " 'aziz098765',\n",
              " 'senghong2009',\n",
              " 'isqizkg1',\n",
              " 'uqilyni846',\n",
              " 'lzhzad1989',\n",
              " 'xknagqo92',\n",
              " 'wbtdrieus345',\n",
              " 'spl51190595',\n",
              " 'szdectoj2',\n",
              " 'kjkjkj1',\n",
              " '123456rajput',\n",
              " 'djawl1228',\n",
              " 'saule123',\n",
              " 'kswa2mrv',\n",
              " 'kry1z9',\n",
              " '123nicole',\n",
              " 'kry1z9',\n",
              " 'ginger972',\n",
              " 'bghuyku37',\n",
              " 'yamiburgo1',\n",
              " 'v1s2c3456',\n",
              " 'sarahi1628',\n",
              " '1597535youssi',\n",
              " '05bumd',\n",
              " 'princ3sa',\n",
              " 'bambink182',\n",
              " ...]"
            ]
          },
          "metadata": {},
          "execution_count": 14
        }
      ],
      "source": [
        "x"
      ]
    },
    {
      "cell_type": "markdown",
      "metadata": {
        "id": "E-exkNGgcCb5"
      },
      "source": [
        "#### create a custom function to split input into characters of list"
      ]
    },
    {
      "cell_type": "code",
      "execution_count": 15,
      "metadata": {
        "id": "yVYiWAcXcCb5"
      },
      "outputs": [],
      "source": [
        "def word_divide_char(inputs):\n",
        "    character=[]\n",
        "    for i in inputs:\n",
        "        character.append(i)\n",
        "    return character"
      ]
    },
    {
      "cell_type": "code",
      "execution_count": 16,
      "metadata": {
        "colab": {
          "base_uri": "https://localhost:8080/"
        },
        "id": "E7ojQsLGcCb6",
        "outputId": "eeac16a0-b492-437d-8725-3a2cfcb193e8"
      },
      "outputs": [
        {
          "output_type": "execute_result",
          "data": {
            "text/plain": [
              "['k', 'z', 'd', 'e', '5', '5', '7', '7']"
            ]
          },
          "metadata": {},
          "execution_count": 16
        }
      ],
      "source": [
        "word_divide_char('kzde5577')"
      ]
    },
    {
      "cell_type": "code",
      "execution_count": 16,
      "metadata": {
        "id": "Y49_DPXNcCb6"
      },
      "outputs": [],
      "source": [
        ""
      ]
    },
    {
      "cell_type": "markdown",
      "metadata": {
        "id": "yHEyNVz5cCb6"
      },
      "source": [
        "#### import TF-IDF vectorizer to convert String data into numerical data"
      ]
    },
    {
      "cell_type": "code",
      "execution_count": 17,
      "metadata": {
        "id": "vyKOL5D7cCb6"
      },
      "outputs": [],
      "source": [
        "from sklearn.feature_extraction.text import TfidfVectorizer"
      ]
    },
    {
      "cell_type": "code",
      "execution_count": 18,
      "metadata": {
        "id": "f9Z4DSJ3cCb6"
      },
      "outputs": [],
      "source": [
        "vectorizer=TfidfVectorizer(tokenizer = word_divide_char)"
      ]
    },
    {
      "cell_type": "markdown",
      "metadata": {
        "id": "QlOgPfXucCb6"
      },
      "source": [
        "#### apply TF-IDF vectorizer on data"
      ]
    },
    {
      "cell_type": "code",
      "execution_count": 19,
      "metadata": {
        "id": "FZaS3TKkcCb6"
      },
      "outputs": [],
      "source": [
        "X=vectorizer.fit_transform(x)"
      ]
    },
    {
      "cell_type": "code",
      "execution_count": 20,
      "metadata": {
        "colab": {
          "base_uri": "https://localhost:8080/"
        },
        "id": "QvyCYjtXcCb6",
        "outputId": "a8ef908d-fb3d-4634-c5db-96be2f7f537a"
      },
      "outputs": [
        {
          "output_type": "execute_result",
          "data": {
            "text/plain": [
              "(669639, 132)"
            ]
          },
          "metadata": {},
          "execution_count": 20
        }
      ],
      "source": [
        "X.shape"
      ]
    },
    {
      "cell_type": "code",
      "execution_count": 21,
      "metadata": {
        "colab": {
          "base_uri": "https://localhost:8080/"
        },
        "id": "ayNW1x6ocCb7",
        "outputId": "3ddb746e-813b-446e-96aa-1622a7694c4a"
      },
      "outputs": [
        {
          "output_type": "execute_result",
          "data": {
            "text/plain": [
              "['\\x05',\n",
              " '\\x06',\n",
              " '\\x08',\n",
              " '\\x0f',\n",
              " '\\x10',\n",
              " '\\x11',\n",
              " '\\x12',\n",
              " '\\x16',\n",
              " '\\x17',\n",
              " '\\x19',\n",
              " '\\x1b',\n",
              " '\\x1c',\n",
              " '\\x1e',\n",
              " ' ',\n",
              " '!',\n",
              " '\"',\n",
              " '#',\n",
              " '$',\n",
              " '%',\n",
              " '&',\n",
              " '(',\n",
              " ')',\n",
              " '*',\n",
              " '+',\n",
              " '-',\n",
              " '.',\n",
              " '/',\n",
              " '0',\n",
              " '1',\n",
              " '2',\n",
              " '3',\n",
              " '4',\n",
              " '5',\n",
              " '6',\n",
              " '7',\n",
              " '8',\n",
              " '9',\n",
              " ';',\n",
              " '<',\n",
              " '=',\n",
              " '>',\n",
              " '?',\n",
              " '@',\n",
              " '[',\n",
              " '\\\\',\n",
              " ']',\n",
              " '^',\n",
              " '_',\n",
              " '`',\n",
              " 'a',\n",
              " 'b',\n",
              " 'c',\n",
              " 'd',\n",
              " 'e',\n",
              " 'f',\n",
              " 'g',\n",
              " 'h',\n",
              " 'i',\n",
              " 'j',\n",
              " 'k',\n",
              " 'l',\n",
              " 'm',\n",
              " 'n',\n",
              " 'o',\n",
              " 'p',\n",
              " 'q',\n",
              " 'r',\n",
              " 's',\n",
              " 't',\n",
              " 'u',\n",
              " 'v',\n",
              " 'w',\n",
              " 'x',\n",
              " 'y',\n",
              " 'z',\n",
              " '{',\n",
              " '|',\n",
              " '}',\n",
              " '~',\n",
              " '\\x7f',\n",
              " '\\x81',\n",
              " '\\x8d',\n",
              " '\\xa0',\n",
              " '¡',\n",
              " '¦',\n",
              " '«',\n",
              " '°',\n",
              " '±',\n",
              " '²',\n",
              " '³',\n",
              " '´',\n",
              " 'µ',\n",
              " '·',\n",
              " 'º',\n",
              " '¼',\n",
              " '¾',\n",
              " '¿',\n",
              " '×',\n",
              " 'ß',\n",
              " 'à',\n",
              " 'á',\n",
              " 'â',\n",
              " 'ä',\n",
              " 'å',\n",
              " 'æ',\n",
              " 'ç',\n",
              " 'è',\n",
              " 'é',\n",
              " 'ê',\n",
              " 'í',\n",
              " 'î',\n",
              " 'ï',\n",
              " 'ð',\n",
              " 'ñ',\n",
              " 'ò',\n",
              " 'ó',\n",
              " 'ô',\n",
              " 'õ',\n",
              " 'ö',\n",
              " '÷',\n",
              " 'ù',\n",
              " 'ú',\n",
              " 'û',\n",
              " 'ü',\n",
              " 'ý',\n",
              " 'þ',\n",
              " 'ÿ',\n",
              " 'œ',\n",
              " '—',\n",
              " '‚',\n",
              " '‹',\n",
              " '›']"
            ]
          },
          "metadata": {},
          "execution_count": 21
        }
      ],
      "source": [
        "vectorizer.get_feature_names()"
      ]
    },
    {
      "cell_type": "code",
      "execution_count": 22,
      "metadata": {
        "colab": {
          "base_uri": "https://localhost:8080/"
        },
        "id": "2b6SzGQXcCb7",
        "outputId": "4e3d3fe7-ef78-4ddd-bfc8-1636e04cb21c"
      },
      "outputs": [
        {
          "output_type": "execute_result",
          "data": {
            "text/plain": [
              "<1x132 sparse matrix of type '<class 'numpy.float64'>'\n",
              "\twith 6 stored elements in Compressed Sparse Row format>"
            ]
          },
          "metadata": {},
          "execution_count": 22
        }
      ],
      "source": [
        "first_document_vector=X[0]\n",
        "first_document_vector"
      ]
    },
    {
      "cell_type": "code",
      "execution_count": 23,
      "metadata": {
        "colab": {
          "base_uri": "https://localhost:8080/"
        },
        "id": "BgSXJhT3cCb7",
        "outputId": "ae3669a0-9d73-4a3a-de7b-8af640205be3"
      },
      "outputs": [
        {
          "output_type": "execute_result",
          "data": {
            "text/plain": [
              "matrix([[0.        ],\n",
              "        [0.        ],\n",
              "        [0.        ],\n",
              "        [0.        ],\n",
              "        [0.        ],\n",
              "        [0.        ],\n",
              "        [0.        ],\n",
              "        [0.        ],\n",
              "        [0.        ],\n",
              "        [0.        ],\n",
              "        [0.        ],\n",
              "        [0.        ],\n",
              "        [0.        ],\n",
              "        [0.        ],\n",
              "        [0.        ],\n",
              "        [0.        ],\n",
              "        [0.        ],\n",
              "        [0.        ],\n",
              "        [0.        ],\n",
              "        [0.        ],\n",
              "        [0.        ],\n",
              "        [0.        ],\n",
              "        [0.        ],\n",
              "        [0.        ],\n",
              "        [0.        ],\n",
              "        [0.        ],\n",
              "        [0.        ],\n",
              "        [0.        ],\n",
              "        [0.        ],\n",
              "        [0.        ],\n",
              "        [0.        ],\n",
              "        [0.        ],\n",
              "        [0.56703329],\n",
              "        [0.        ],\n",
              "        [0.59144813],\n",
              "        [0.        ],\n",
              "        [0.        ],\n",
              "        [0.        ],\n",
              "        [0.        ],\n",
              "        [0.        ],\n",
              "        [0.        ],\n",
              "        [0.        ],\n",
              "        [0.        ],\n",
              "        [0.        ],\n",
              "        [0.        ],\n",
              "        [0.        ],\n",
              "        [0.        ],\n",
              "        [0.        ],\n",
              "        [0.        ],\n",
              "        [0.        ],\n",
              "        [0.        ],\n",
              "        [0.        ],\n",
              "        [0.28548227],\n",
              "        [0.22096071],\n",
              "        [0.        ],\n",
              "        [0.        ],\n",
              "        [0.        ],\n",
              "        [0.        ],\n",
              "        [0.        ],\n",
              "        [0.29177404],\n",
              "        [0.        ],\n",
              "        [0.        ],\n",
              "        [0.        ],\n",
              "        [0.        ],\n",
              "        [0.        ],\n",
              "        [0.        ],\n",
              "        [0.        ],\n",
              "        [0.        ],\n",
              "        [0.        ],\n",
              "        [0.        ],\n",
              "        [0.        ],\n",
              "        [0.        ],\n",
              "        [0.        ],\n",
              "        [0.        ],\n",
              "        [0.33646175],\n",
              "        [0.        ],\n",
              "        [0.        ],\n",
              "        [0.        ],\n",
              "        [0.        ],\n",
              "        [0.        ],\n",
              "        [0.        ],\n",
              "        [0.        ],\n",
              "        [0.        ],\n",
              "        [0.        ],\n",
              "        [0.        ],\n",
              "        [0.        ],\n",
              "        [0.        ],\n",
              "        [0.        ],\n",
              "        [0.        ],\n",
              "        [0.        ],\n",
              "        [0.        ],\n",
              "        [0.        ],\n",
              "        [0.        ],\n",
              "        [0.        ],\n",
              "        [0.        ],\n",
              "        [0.        ],\n",
              "        [0.        ],\n",
              "        [0.        ],\n",
              "        [0.        ],\n",
              "        [0.        ],\n",
              "        [0.        ],\n",
              "        [0.        ],\n",
              "        [0.        ],\n",
              "        [0.        ],\n",
              "        [0.        ],\n",
              "        [0.        ],\n",
              "        [0.        ],\n",
              "        [0.        ],\n",
              "        [0.        ],\n",
              "        [0.        ],\n",
              "        [0.        ],\n",
              "        [0.        ],\n",
              "        [0.        ],\n",
              "        [0.        ],\n",
              "        [0.        ],\n",
              "        [0.        ],\n",
              "        [0.        ],\n",
              "        [0.        ],\n",
              "        [0.        ],\n",
              "        [0.        ],\n",
              "        [0.        ],\n",
              "        [0.        ],\n",
              "        [0.        ],\n",
              "        [0.        ],\n",
              "        [0.        ],\n",
              "        [0.        ],\n",
              "        [0.        ],\n",
              "        [0.        ],\n",
              "        [0.        ],\n",
              "        [0.        ],\n",
              "        [0.        ],\n",
              "        [0.        ]])"
            ]
          },
          "metadata": {},
          "execution_count": 23
        }
      ],
      "source": [
        "first_document_vector.T.todense()"
      ]
    },
    {
      "cell_type": "code",
      "execution_count": 24,
      "metadata": {
        "colab": {
          "base_uri": "https://localhost:8080/",
          "height": 424
        },
        "id": "YSHSY6twcCb7",
        "outputId": "9f29d567-ca42-4731-a0f1-e6263da6626f"
      },
      "outputs": [
        {
          "output_type": "execute_result",
          "data": {
            "text/plain": [
              "      TF-IDF\n",
              "7   0.591448\n",
              "5   0.567033\n",
              "z   0.336462\n",
              "k   0.291774\n",
              "d   0.285482\n",
              "..       ...\n",
              "=   0.000000\n",
              "<   0.000000\n",
              ";   0.000000\n",
              "9   0.000000\n",
              "›   0.000000\n",
              "\n",
              "[132 rows x 1 columns]"
            ],
            "text/html": [
              "\n",
              "  <div id=\"df-b5bf2f8b-1c7b-408b-bc99-ce107659fa96\">\n",
              "    <div class=\"colab-df-container\">\n",
              "      <div>\n",
              "<style scoped>\n",
              "    .dataframe tbody tr th:only-of-type {\n",
              "        vertical-align: middle;\n",
              "    }\n",
              "\n",
              "    .dataframe tbody tr th {\n",
              "        vertical-align: top;\n",
              "    }\n",
              "\n",
              "    .dataframe thead th {\n",
              "        text-align: right;\n",
              "    }\n",
              "</style>\n",
              "<table border=\"1\" class=\"dataframe\">\n",
              "  <thead>\n",
              "    <tr style=\"text-align: right;\">\n",
              "      <th></th>\n",
              "      <th>TF-IDF</th>\n",
              "    </tr>\n",
              "  </thead>\n",
              "  <tbody>\n",
              "    <tr>\n",
              "      <th>7</th>\n",
              "      <td>0.591448</td>\n",
              "    </tr>\n",
              "    <tr>\n",
              "      <th>5</th>\n",
              "      <td>0.567033</td>\n",
              "    </tr>\n",
              "    <tr>\n",
              "      <th>z</th>\n",
              "      <td>0.336462</td>\n",
              "    </tr>\n",
              "    <tr>\n",
              "      <th>k</th>\n",
              "      <td>0.291774</td>\n",
              "    </tr>\n",
              "    <tr>\n",
              "      <th>d</th>\n",
              "      <td>0.285482</td>\n",
              "    </tr>\n",
              "    <tr>\n",
              "      <th>...</th>\n",
              "      <td>...</td>\n",
              "    </tr>\n",
              "    <tr>\n",
              "      <th>=</th>\n",
              "      <td>0.000000</td>\n",
              "    </tr>\n",
              "    <tr>\n",
              "      <th>&lt;</th>\n",
              "      <td>0.000000</td>\n",
              "    </tr>\n",
              "    <tr>\n",
              "      <th>;</th>\n",
              "      <td>0.000000</td>\n",
              "    </tr>\n",
              "    <tr>\n",
              "      <th>9</th>\n",
              "      <td>0.000000</td>\n",
              "    </tr>\n",
              "    <tr>\n",
              "      <th>›</th>\n",
              "      <td>0.000000</td>\n",
              "    </tr>\n",
              "  </tbody>\n",
              "</table>\n",
              "<p>132 rows × 1 columns</p>\n",
              "</div>\n",
              "      <button class=\"colab-df-convert\" onclick=\"convertToInteractive('df-b5bf2f8b-1c7b-408b-bc99-ce107659fa96')\"\n",
              "              title=\"Convert this dataframe to an interactive table.\"\n",
              "              style=\"display:none;\">\n",
              "        \n",
              "  <svg xmlns=\"http://www.w3.org/2000/svg\" height=\"24px\"viewBox=\"0 0 24 24\"\n",
              "       width=\"24px\">\n",
              "    <path d=\"M0 0h24v24H0V0z\" fill=\"none\"/>\n",
              "    <path d=\"M18.56 5.44l.94 2.06.94-2.06 2.06-.94-2.06-.94-.94-2.06-.94 2.06-2.06.94zm-11 1L8.5 8.5l.94-2.06 2.06-.94-2.06-.94L8.5 2.5l-.94 2.06-2.06.94zm10 10l.94 2.06.94-2.06 2.06-.94-2.06-.94-.94-2.06-.94 2.06-2.06.94z\"/><path d=\"M17.41 7.96l-1.37-1.37c-.4-.4-.92-.59-1.43-.59-.52 0-1.04.2-1.43.59L10.3 9.45l-7.72 7.72c-.78.78-.78 2.05 0 2.83L4 21.41c.39.39.9.59 1.41.59.51 0 1.02-.2 1.41-.59l7.78-7.78 2.81-2.81c.8-.78.8-2.07 0-2.86zM5.41 20L4 18.59l7.72-7.72 1.47 1.35L5.41 20z\"/>\n",
              "  </svg>\n",
              "      </button>\n",
              "      \n",
              "  <style>\n",
              "    .colab-df-container {\n",
              "      display:flex;\n",
              "      flex-wrap:wrap;\n",
              "      gap: 12px;\n",
              "    }\n",
              "\n",
              "    .colab-df-convert {\n",
              "      background-color: #E8F0FE;\n",
              "      border: none;\n",
              "      border-radius: 50%;\n",
              "      cursor: pointer;\n",
              "      display: none;\n",
              "      fill: #1967D2;\n",
              "      height: 32px;\n",
              "      padding: 0 0 0 0;\n",
              "      width: 32px;\n",
              "    }\n",
              "\n",
              "    .colab-df-convert:hover {\n",
              "      background-color: #E2EBFA;\n",
              "      box-shadow: 0px 1px 2px rgba(60, 64, 67, 0.3), 0px 1px 3px 1px rgba(60, 64, 67, 0.15);\n",
              "      fill: #174EA6;\n",
              "    }\n",
              "\n",
              "    [theme=dark] .colab-df-convert {\n",
              "      background-color: #3B4455;\n",
              "      fill: #D2E3FC;\n",
              "    }\n",
              "\n",
              "    [theme=dark] .colab-df-convert:hover {\n",
              "      background-color: #434B5C;\n",
              "      box-shadow: 0px 1px 3px 1px rgba(0, 0, 0, 0.15);\n",
              "      filter: drop-shadow(0px 1px 2px rgba(0, 0, 0, 0.3));\n",
              "      fill: #FFFFFF;\n",
              "    }\n",
              "  </style>\n",
              "\n",
              "      <script>\n",
              "        const buttonEl =\n",
              "          document.querySelector('#df-b5bf2f8b-1c7b-408b-bc99-ce107659fa96 button.colab-df-convert');\n",
              "        buttonEl.style.display =\n",
              "          google.colab.kernel.accessAllowed ? 'block' : 'none';\n",
              "\n",
              "        async function convertToInteractive(key) {\n",
              "          const element = document.querySelector('#df-b5bf2f8b-1c7b-408b-bc99-ce107659fa96');\n",
              "          const dataTable =\n",
              "            await google.colab.kernel.invokeFunction('convertToInteractive',\n",
              "                                                     [key], {});\n",
              "          if (!dataTable) return;\n",
              "\n",
              "          const docLinkHtml = 'Like what you see? Visit the ' +\n",
              "            '<a target=\"_blank\" href=https://colab.research.google.com/notebooks/data_table.ipynb>data table notebook</a>'\n",
              "            + ' to learn more about interactive tables.';\n",
              "          element.innerHTML = '';\n",
              "          dataTable['output_type'] = 'display_data';\n",
              "          await google.colab.output.renderOutput(dataTable, element);\n",
              "          const docLink = document.createElement('div');\n",
              "          docLink.innerHTML = docLinkHtml;\n",
              "          element.appendChild(docLink);\n",
              "        }\n",
              "      </script>\n",
              "    </div>\n",
              "  </div>\n",
              "  "
            ]
          },
          "metadata": {},
          "execution_count": 24
        }
      ],
      "source": [
        "df=pd.DataFrame(first_document_vector.T.todense(),index=vectorizer.get_feature_names(),columns=['TF-IDF'])\n",
        "df.sort_values(by=['TF-IDF'],ascending=False)"
      ]
    },
    {
      "cell_type": "markdown",
      "metadata": {
        "id": "thLDhTuggKVN"
      },
      "source": [
        "###Split Dataset"
      ]
    },
    {
      "cell_type": "code",
      "execution_count": 25,
      "metadata": {
        "id": "fULOCzhJcCb7"
      },
      "outputs": [],
      "source": [
        "from sklearn.model_selection import train_test_split\n",
        "X_train, X_test, y_train, y_test = train_test_split(X, y, test_size=0.2)"
      ]
    },
    {
      "cell_type": "markdown",
      "metadata": {
        "id": "pgu_0wjycCb8"
      },
      "source": [
        "#### Apply Traditional Machine Learning Classification Algorithms "
      ]
    },
    {
      "cell_type": "code",
      "execution_count": 26,
      "metadata": {
        "id": "cMoQ48xccCb8"
      },
      "outputs": [],
      "source": [
        "from sklearn.linear_model import LogisticRegression\n",
        "from sklearn.ensemble import RandomForestClassifier\n",
        "from sklearn.svm import SVC\n",
        "from sklearn.ensemble import AdaBoostClassifier\n",
        "from xgboost import XGBClassifier"
      ]
    },
    {
      "cell_type": "code",
      "execution_count": 27,
      "metadata": {
        "id": "nTy97W1uf8_u"
      },
      "outputs": [],
      "source": [
        "from sklearn.model_selection import cross_val_score\n",
        "from sklearn.model_selection import ShuffleSplit\n",
        "from sklearn.model_selection import train_test_split"
      ]
    },
    {
      "cell_type": "code",
      "execution_count": 28,
      "metadata": {
        "id": "V8eLNsCNgBee"
      },
      "outputs": [],
      "source": [
        "cv=ShuffleSplit(n_splits=10,test_size=0.3,random_state=42)"
      ]
    },
    {
      "cell_type": "code",
      "execution_count": 29,
      "metadata": {
        "colab": {
          "base_uri": "https://localhost:8080/"
        },
        "id": "0xYcHMswgBXl",
        "outputId": "849ab93c-7fcd-4598-d499-f45e2a0466e0"
      },
      "outputs": [
        {
          "output_type": "stream",
          "name": "stderr",
          "text": [
            "[Parallel(n_jobs=10)]: Using backend LokyBackend with 10 concurrent workers.\n",
            "[Parallel(n_jobs=10)]: Done   3 out of  10 | elapsed:  3.9min remaining:  9.1min\n"
          ]
        },
        {
          "output_type": "stream",
          "name": "stdout",
          "text": [
            "Mean Accuracy :  0.8339659270505371\n",
            "Standard Deviation Accuracy :  0.0026904076184501185\n"
          ]
        },
        {
          "output_type": "stream",
          "name": "stderr",
          "text": [
            "[Parallel(n_jobs=10)]: Done  10 out of  10 | elapsed:  7.2min finished\n"
          ]
        }
      ],
      "source": [
        "AdaBoost = cross_val_score(AdaBoostClassifier(),X_train,y_train,cv=cv,scoring='accuracy', verbose = 2, n_jobs=10)\n",
        "print(\"Mean Accuracy : \", AdaBoost.mean())\n",
        "print(\"Standard Deviation Accuracy : \", AdaBoost.std())"
      ]
    },
    {
      "cell_type": "code",
      "execution_count": 30,
      "metadata": {
        "colab": {
          "base_uri": "https://localhost:8080/"
        },
        "id": "Ube7RZjQgBPl",
        "outputId": "731d395a-19aa-4fb8-b774-33e45a104a32"
      },
      "outputs": [
        {
          "output_type": "stream",
          "name": "stderr",
          "text": [
            "[Parallel(n_jobs=10)]: Using backend LokyBackend with 10 concurrent workers.\n",
            "[Parallel(n_jobs=10)]: Done   3 out of  10 | elapsed: 22.7min remaining: 53.1min\n"
          ]
        },
        {
          "output_type": "stream",
          "name": "stdout",
          "text": [
            "Mean Accuracy :  0.9146539816070784\n",
            "Standard Deviation Accuracy :  0.0007141001539735675\n"
          ]
        },
        {
          "output_type": "stream",
          "name": "stderr",
          "text": [
            "[Parallel(n_jobs=10)]: Done  10 out of  10 | elapsed: 28.1min finished\n"
          ]
        }
      ],
      "source": [
        "XGB = cross_val_score(XGBClassifier(),X_train,y_train,cv=cv,scoring='accuracy', verbose = 2, n_jobs=10)\n",
        "print(\"Mean Accuracy : \", XGB.mean())\n",
        "print(\"Standard Deviation Accuracy : \", XGB.std())"
      ]
    },
    {
      "cell_type": "code",
      "execution_count": 31,
      "metadata": {
        "id": "JmMcluZ3nQAb",
        "colab": {
          "base_uri": "https://localhost:8080/"
        },
        "outputId": "939fc96f-0b2a-46da-eb32-32e40b320ccf"
      },
      "outputs": [
        {
          "output_type": "stream",
          "name": "stderr",
          "text": [
            "[Parallel(n_jobs=10)]: Using backend LokyBackend with 10 concurrent workers.\n",
            "[Parallel(n_jobs=10)]: Done   3 out of  10 | elapsed:  1.3min remaining:  3.0min\n"
          ]
        },
        {
          "output_type": "stream",
          "name": "stdout",
          "text": [
            "Mean Accuracy :  0.8195141680251876\n",
            "Standard Deviation Accuracy :  0.00050177749671241\n"
          ]
        },
        {
          "output_type": "stream",
          "name": "stderr",
          "text": [
            "[Parallel(n_jobs=10)]: Done  10 out of  10 | elapsed:  2.5min finished\n"
          ]
        }
      ],
      "source": [
        "clf = cross_val_score(LogisticRegression(),X_train,y_train,cv=cv,scoring='accuracy', verbose = 2, n_jobs=10)\n",
        "print(\"Mean Accuracy : \", clf.mean())\n",
        "print(\"Standard Deviation Accuracy : \", clf.std())"
      ]
    },
    {
      "cell_type": "code",
      "execution_count": null,
      "metadata": {
        "id": "Wr1jQPC5nH51"
      },
      "outputs": [],
      "source": [
        "SVC = cross_val_score(SVC(),X_train,y_train,cv=cv,scoring='accuracy', verbose = 2, n_jobs=10)\n",
        "print(\"Mean Accuracy : \", SVC.mean())\n",
        "print(\"Standard Deviation Accuracy : \", SVC.std())"
      ]
    },
    {
      "cell_type": "markdown",
      "source": [
        "#### It's clear the best algorithm in this case is **XGBoost**"
      ],
      "metadata": {
        "id": "DtdM4CiSWnjz"
      }
    },
    {
      "cell_type": "code",
      "source": [
        "# import packages for hyperparameters tuning\n",
        "from hyperopt import STATUS_OK, Trials, fmin, hp, tpe"
      ],
      "metadata": {
        "id": "9Dc6jckVadXw"
      },
      "execution_count": 34,
      "outputs": []
    },
    {
      "cell_type": "code",
      "source": [
        "# Initialize domain space for range of values\n",
        "space={'max_depth': hp.quniform(\"max_depth\", 3, 18, 1),\n",
        "        'gamma': hp.uniform ('gamma', 1,9),\n",
        "        'reg_alpha' : hp.quniform('reg_alpha', 40,180,1),\n",
        "        'reg_lambda' : hp.uniform('reg_lambda', 0,1),\n",
        "        'colsample_bytree' : hp.uniform('colsample_bytree', 0.5,1),\n",
        "        'min_child_weight' : hp.quniform('min_child_weight', 0, 10, 1),\n",
        "        'n_estimators': 180,\n",
        "        'seed': 0\n",
        "    }"
      ],
      "metadata": {
        "id": "S-NArz_8Xyig"
      },
      "execution_count": 42,
      "outputs": []
    },
    {
      "cell_type": "code",
      "source": [
        "# Define objective function\n",
        "\n",
        "from sklearn.metrics import confusion_matrix,accuracy_score\n",
        "def objective(space):\n",
        "    clf=XGBClassifier(\n",
        "                    n_estimators =space['n_estimators'], max_depth = int(space['max_depth']), gamma = space['gamma'],\n",
        "                    reg_alpha = int(space['reg_alpha']),min_child_weight=int(space['min_child_weight']),\n",
        "                    colsample_bytree=int(space['colsample_bytree']))\n",
        "    \n",
        "    evaluation = [( X_train, y_train), ( X_test, y_test)]\n",
        "    \n",
        "    clf.fit(X_train, y_train,\n",
        "            eval_set=evaluation, eval_metric=\"mlogloss\",\n",
        "            early_stopping_rounds=10,verbose=False)\n",
        "    \n",
        "\n",
        "    pred = clf.predict(X_test)\n",
        "    accuracy = accuracy_score(y_test, pred>0.5)\n",
        "    print (\"SCORE:\", accuracy)\n",
        "    return {'loss': -accuracy, 'status': STATUS_OK  }"
      ],
      "metadata": {
        "id": "ZsKteyQgZz99"
      },
      "execution_count": 45,
      "outputs": []
    },
    {
      "cell_type": "code",
      "source": [
        "\n",
        "trials = Trials()\n",
        "\n",
        "best_hyperparams = fmin(fn = objective,\n",
        "                        space = space,\n",
        "                        algo = tpe.suggest,\n",
        "                        max_evals = 100,\n",
        "                        trials = trials)"
      ],
      "metadata": {
        "colab": {
          "base_uri": "https://localhost:8080/"
        },
        "id": "LJhAgxx5aP7o",
        "outputId": "3071f1e6-141f-4b05-effd-13d3a92e1d91"
      },
      "execution_count": null,
      "outputs": [
        {
          "output_type": "stream",
          "name": "stdout",
          "text": [
            "SCORE:\n",
            "0.7558090914521235\n",
            "SCORE:\n",
            "0.7546592198793382\n",
            "  2%|▏         | 2/100 [03:00<2:27:27, 90.28s/it, best loss: -0.7558090914521235]"
          ]
        }
      ]
    },
    {
      "cell_type": "code",
      "execution_count": 32,
      "metadata": {
        "id": "SSS4FdlIcCb8"
      },
      "outputs": [],
      "source": [
        "xgb=XGBClassifier()"
      ]
    },
    {
      "cell_type": "code",
      "source": [
        ""
      ],
      "metadata": {
        "id": "QBlSMm3aXNTY"
      },
      "execution_count": null,
      "outputs": []
    },
    {
      "cell_type": "code",
      "source": [
        ""
      ],
      "metadata": {
        "id": "BlHFVmbyXNQd"
      },
      "execution_count": null,
      "outputs": []
    },
    {
      "cell_type": "code",
      "source": [
        ""
      ],
      "metadata": {
        "id": "giyPIpo5XNNo"
      },
      "execution_count": null,
      "outputs": []
    },
    {
      "cell_type": "code",
      "source": [
        ""
      ],
      "metadata": {
        "id": "6T6tWSIHXNHo"
      },
      "execution_count": null,
      "outputs": []
    },
    {
      "cell_type": "markdown",
      "metadata": {
        "id": "JSt5jB21cCb8"
      },
      "source": [
        "#### doing prediction for specific custom data"
      ]
    },
    {
      "cell_type": "code",
      "source": [
        ""
      ],
      "metadata": {
        "id": "KDItRDWROJAK"
      },
      "execution_count": null,
      "outputs": []
    },
    {
      "cell_type": "code",
      "execution_count": null,
      "metadata": {
        "colab": {
          "base_uri": "https://localhost:8080/",
          "height": 200
        },
        "id": "fejXTVZicCb8",
        "outputId": "98b198cd-a237-486e-8ba6-f139e2abf09d"
      },
      "outputs": [
        {
          "output_type": "error",
          "ename": "AttributeError",
          "evalue": "ignored",
          "traceback": [
            "\u001b[0;31m---------------------------------------------------------------------------\u001b[0m",
            "\u001b[0;31mAttributeError\u001b[0m                            Traceback (most recent call last)",
            "\u001b[0;32m<ipython-input-35-ea3b36a0dada>\u001b[0m in \u001b[0;36m<module>\u001b[0;34m()\u001b[0m\n\u001b[1;32m      1\u001b[0m \u001b[0mdt\u001b[0m\u001b[0;34m=\u001b[0m\u001b[0mnp\u001b[0m\u001b[0;34m.\u001b[0m\u001b[0marray\u001b[0m\u001b[0;34m(\u001b[0m\u001b[0;34m[\u001b[0m\u001b[0;34m'%@123abcd'\u001b[0m\u001b[0;34m]\u001b[0m\u001b[0;34m)\u001b[0m\u001b[0;34m\u001b[0m\u001b[0;34m\u001b[0m\u001b[0m\n\u001b[1;32m      2\u001b[0m \u001b[0mpred\u001b[0m\u001b[0;34m=\u001b[0m\u001b[0mvectorizer\u001b[0m\u001b[0;34m.\u001b[0m\u001b[0mtransform\u001b[0m\u001b[0;34m(\u001b[0m\u001b[0mdt\u001b[0m\u001b[0;34m)\u001b[0m\u001b[0;34m\u001b[0m\u001b[0;34m\u001b[0m\u001b[0m\n\u001b[0;32m----> 3\u001b[0;31m \u001b[0mclf\u001b[0m\u001b[0;34m.\u001b[0m\u001b[0mpredict\u001b[0m\u001b[0;34m(\u001b[0m\u001b[0mpred\u001b[0m\u001b[0;34m)\u001b[0m\u001b[0;34m[\u001b[0m\u001b[0;36m0\u001b[0m\u001b[0;34m]\u001b[0m\u001b[0;34m\u001b[0m\u001b[0;34m\u001b[0m\u001b[0m\n\u001b[0m",
            "\u001b[0;31mAttributeError\u001b[0m: 'numpy.ndarray' object has no attribute 'predict'"
          ]
        }
      ],
      "source": [
        "dt=np.array(['%@123abcd'])\n",
        "pred=vectorizer.transform(dt)\n",
        "clf.predict(pred)[0]"
      ]
    },
    {
      "cell_type": "markdown",
      "metadata": {
        "id": "_4m0ok5acCb9"
      },
      "source": [
        "#### doing prediction on X-Test data"
      ]
    },
    {
      "cell_type": "code",
      "execution_count": null,
      "metadata": {
        "colab": {
          "base_uri": "https://localhost:8080/",
          "height": 183
        },
        "id": "lm8kGUaNcCb9",
        "outputId": "55a683b0-c081-4cb9-c2a4-8ab3b8e4c64d"
      },
      "outputs": [
        {
          "output_type": "error",
          "ename": "AttributeError",
          "evalue": "ignored",
          "traceback": [
            "\u001b[0;31m---------------------------------------------------------------------------\u001b[0m",
            "\u001b[0;31mAttributeError\u001b[0m                            Traceback (most recent call last)",
            "\u001b[0;32m<ipython-input-36-d610b43ba644>\u001b[0m in \u001b[0;36m<module>\u001b[0;34m()\u001b[0m\n\u001b[0;32m----> 1\u001b[0;31m \u001b[0my_pred\u001b[0m\u001b[0;34m=\u001b[0m\u001b[0mclf\u001b[0m\u001b[0;34m.\u001b[0m\u001b[0mpredict\u001b[0m\u001b[0;34m(\u001b[0m\u001b[0mX_test\u001b[0m\u001b[0;34m)\u001b[0m\u001b[0;34m\u001b[0m\u001b[0;34m\u001b[0m\u001b[0m\n\u001b[0m\u001b[1;32m      2\u001b[0m \u001b[0my_pred\u001b[0m\u001b[0;34m\u001b[0m\u001b[0;34m\u001b[0m\u001b[0m\n",
            "\u001b[0;31mAttributeError\u001b[0m: 'numpy.ndarray' object has no attribute 'predict'"
          ]
        }
      ],
      "source": [
        "y_pred=clf.predict(X_test)\n",
        "y_pred"
      ]
    },
    {
      "cell_type": "markdown",
      "metadata": {
        "id": "3CmOaC-xcCb9"
      },
      "source": [
        "#### check Accuracy of your model using confusion_matrix,accuracy_score"
      ]
    },
    {
      "cell_type": "code",
      "execution_count": null,
      "metadata": {
        "id": "TSDV3T8hcCb9"
      },
      "outputs": [],
      "source": [
        ""
      ]
    },
    {
      "cell_type": "code",
      "execution_count": null,
      "metadata": {
        "colab": {
          "base_uri": "https://localhost:8080/"
        },
        "id": "QRDtZJ37cCb9",
        "outputId": "b7af380c-c554-4675-acbe-fb13dc5d9c81"
      },
      "outputs": [
        {
          "name": "stdout",
          "output_type": "stream",
          "text": [
            "[[ 5368 12584    26]\n",
            " [ 3720 93130  2633]\n",
            " [   31  5068 11368]]\n"
          ]
        }
      ],
      "source": [
        "cm=confusion_matrix(y_test,y_pred)\n",
        "print(cm)"
      ]
    },
    {
      "cell_type": "code",
      "execution_count": null,
      "metadata": {
        "colab": {
          "base_uri": "https://localhost:8080/"
        },
        "id": "rN3VHq1PcCb9",
        "outputId": "a397a71e-128d-4d3e-c1e9-bb5a8b95ed50"
      },
      "outputs": [
        {
          "name": "stdout",
          "output_type": "stream",
          "text": [
            "0.8203363001015471\n"
          ]
        }
      ],
      "source": [
        "print(accuracy_score(y_test,y_pred))"
      ]
    },
    {
      "cell_type": "markdown",
      "metadata": {
        "id": "ZEGc4FxHcCb9"
      },
      "source": [
        "##### create report of your model"
      ]
    },
    {
      "cell_type": "code",
      "execution_count": null,
      "metadata": {
        "colab": {
          "base_uri": "https://localhost:8080/"
        },
        "id": "GBoFByLkcCb9",
        "outputId": "1c18afc0-736d-4291-a45f-abb22915124f"
      },
      "outputs": [
        {
          "name": "stdout",
          "output_type": "stream",
          "text": [
            "              precision    recall  f1-score   support\n",
            "\n",
            "           0       0.59      0.30      0.40     17978\n",
            "           1       0.84      0.94      0.89     99483\n",
            "           2       0.81      0.69      0.75     16467\n",
            "\n",
            "    accuracy                           0.82    133928\n",
            "   macro avg       0.75      0.64      0.68    133928\n",
            "weighted avg       0.80      0.82      0.80    133928\n",
            "\n"
          ]
        }
      ],
      "source": [
        "from sklearn.metrics import classification_report,  plot_confusion_matrix\n",
        "\n",
        "print(classification_report(y_test,y_pred))"
      ]
    },
    {
      "cell_type": "markdown",
      "metadata": {
        "id": "o0nccDEuIMvT"
      },
      "source": [
        "### Creating and saving model"
      ]
    },
    {
      "cell_type": "code",
      "execution_count": null,
      "metadata": {
        "id": "IaTEfyngjuyv"
      },
      "outputs": [],
      "source": [
        "import pickle"
      ]
    },
    {
      "cell_type": "code",
      "execution_count": null,
      "metadata": {
        "id": "wB6baiKsIPPr"
      },
      "outputs": [],
      "source": [
        "import pickle\n",
        "with open ('password.pkl','wb') as f:\n",
        "    pickle.dump(xgb,f)"
      ]
    },
    {
      "cell_type": "code",
      "execution_count": null,
      "metadata": {
        "id": "_fqwnle3IQ0Y"
      },
      "outputs": [],
      "source": [
        "with open ('vect','wb') as f:\n",
        "    pickle.dump(vectorizer,f)"
      ]
    },
    {
      "cell_type": "code",
      "execution_count": null,
      "metadata": {
        "id": "72BHYBKkISpM"
      },
      "outputs": [],
      "source": [
        "\n",
        "with open ('password.pkl','rb') as f:\n",
        "    model=pickle.load(f)"
      ]
    },
    {
      "cell_type": "code",
      "execution_count": null,
      "metadata": {
        "id": "VW6JBsGIIVey"
      },
      "outputs": [],
      "source": [
        "with open ('vect','rb') as f:\n",
        "    tf=pickle.load(f)"
      ]
    },
    {
      "cell_type": "code",
      "execution_count": null,
      "metadata": {
        "id": "sFAfpE-ZIaJq"
      },
      "outputs": [],
      "source": [
        "def predict(a):\n",
        "    x=tf.transform([a])\n",
        "    pre=model.predict(x)\n",
        "    return pre"
      ]
    },
    {
      "cell_type": "code",
      "execution_count": null,
      "metadata": {
        "id": "p54w5T4jIeGZ"
      },
      "outputs": [],
      "source": [
        "x=predict('donkey@4419')\n",
        "x[0]"
      ]
    },
    {
      "cell_type": "code",
      "execution_count": null,
      "metadata": {
        "id": "5zSdszP1IfeS"
      },
      "outputs": [],
      "source": [
        ""
      ]
    }
  ],
  "metadata": {
    "colab": {
      "name": "NLP_Password_Strength_classifier.ipynb",
      "provenance": [],
      "include_colab_link": true
    },
    "kernelspec": {
      "display_name": "Python 3",
      "language": "python",
      "name": "python3"
    },
    "language_info": {
      "codemirror_mode": {
        "name": "ipython",
        "version": 3
      },
      "file_extension": ".py",
      "mimetype": "text/x-python",
      "name": "python",
      "nbconvert_exporter": "python",
      "pygments_lexer": "ipython3",
      "version": "3.7.4"
    }
  },
  "nbformat": 4,
  "nbformat_minor": 0
}